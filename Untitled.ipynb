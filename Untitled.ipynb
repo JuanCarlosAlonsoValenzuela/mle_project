{
 "cells": [
  {
   "cell_type": "code",
   "execution_count": 1,
   "id": "4d9afc88",
   "metadata": {},
   "outputs": [],
   "source": [
    "# Get today date\n",
    "\n",
    "# Extract hourly data from today and yesterday\n",
    "\n",
    "# Convert hourly data into a dataframe\n",
    "\n",
    "# Preprocess the dataframe\n",
    "    # Differencing\n",
    "    \n",
    "    # Normalization (Use training_mean and training_std)\n",
    "\n",
    "# Convert the dataset into a Window (Input width = 48)\n",
    "\n",
    "# Load the AR model\n",
    "\n",
    "# Predict future output\n",
    "\n",
    "\n"
   ]
  },
  {
   "cell_type": "code",
   "execution_count": 2,
   "id": "83d9ac7d",
   "metadata": {},
   "outputs": [],
   "source": [
    "# Dates\n",
    "# import datetime as dt\n",
    "from datetime import datetime, timedelta\n",
    "import pytz\n",
    "\n",
    "# REE API request\n",
    "import requests\n",
    "import json\n",
    "\n",
    "# Convert extracted data into dataframe\n",
    "import pandas as pd"
   ]
  },
  {
   "cell_type": "markdown",
   "id": "d1a8cf3b",
   "metadata": {},
   "source": [
    "# Extract data in JSON format"
   ]
  },
  {
   "cell_type": "code",
   "execution_count": 3,
   "id": "9ee28eb5",
   "metadata": {},
   "outputs": [],
   "source": [
    "def extract_json_data(day):\n",
    "    URLprices = \"https://apidatos.ree.es/es/datos/mercados/precios-mercados-tiempo-real\"\n",
    "    URLdemand = \"https://apidatos.ree.es/es/datos/demanda/demanda-tiempo-real\"\n",
    "    URLEmissions = \"https://apidatos.ree.es/es/datos/generacion/evolucion-estructura-generacion-emisiones-asociadas\"\n",
    "    \n",
    "    startHour = \"00:00\"\n",
    "    endHour = \"23:59\"\n",
    "    \n",
    "    date_start = str(day.year) + \"-\" + str(day.month) + \"-\" + str(day.day) + \"T\" + startHour\n",
    "    date_end = str(day.year) + \"-\" + str(day.month) + \"-\" + str(day.day) + \"T\" + endHour\n",
    "    \n",
    "    PARAMS = {'start_date':date_start, 'end_date':date_end,\"time_trunc\":\"hour\", 'geo_limit': 'peninsular'}\n",
    "    \n",
    "    prices = requests.get(url=URLprices, params=PARAMS)\n",
    "    demands = requests.get(url=URLdemand, params=PARAMS)\n",
    "    emissions = requests.get(url=URLEmissions, params=PARAMS)\n",
    "    \n",
    "    pricesJ = json.dumps(prices.json(), indent=4)\n",
    "    demandJ = json.dumps(demands.json(), indent=4)\n",
    "    emissionsJ = json.dumps(emissions.json(), indent=4)\n",
    "    \n",
    "    return pricesJ, demandJ, emissionsJ\n",
    "    "
   ]
  },
  {
   "cell_type": "code",
   "execution_count": 4,
   "id": "911ba5aa",
   "metadata": {},
   "outputs": [],
   "source": [
    "timezone = pytz.timezone('Europe/Madrid')\n",
    "\n",
    "today = datetime.now(tz=timezone)\n",
    "yesterday = today - timedelta(days=1)\n",
    "day_zero = yesterday - timedelta(days=1)\n"
   ]
  },
  {
   "cell_type": "code",
   "execution_count": 5,
   "id": "ed9a202b",
   "metadata": {},
   "outputs": [],
   "source": [
    "pricesJ_today, demandJ_today, emissionsJ_today = extract_json_data(today)\n",
    "pricesJ_yesterday, demandJ_yesterday, emissionsJ_yesterday = extract_json_data(yesterday)\n",
    "pricesJ_day_zero, demandJ_day_zero, emissionsJ_day_zero = extract_json_data(day_zero)"
   ]
  },
  {
   "cell_type": "markdown",
   "id": "46d15d4d",
   "metadata": {},
   "source": [
    "# Convert json data into 3 different dataframes"
   ]
  },
  {
   "cell_type": "code",
   "execution_count": 6,
   "id": "3f2afb74",
   "metadata": {},
   "outputs": [
    {
     "data": {
      "text/plain": [
       "str"
      ]
     },
     "execution_count": 6,
     "metadata": {},
     "output_type": "execute_result"
    }
   ],
   "source": [
    "type(pricesJ_day_zero)"
   ]
  },
  {
   "cell_type": "code",
   "execution_count": 7,
   "id": "8c6b6295",
   "metadata": {},
   "outputs": [],
   "source": [
    "def clean_datetime(timestamp):\n",
    "    r = timestamp.replace(\".000+01:00\", \"\")\n",
    "    r = r.replace(\".000+02:00\", \"\")\n",
    "    return r"
   ]
  },
  {
   "cell_type": "code",
   "execution_count": 8,
   "id": "c7ffac89",
   "metadata": {},
   "outputs": [],
   "source": [
    "def convert_json_into_dataframe(price_json, demand_json, emissions_json, today = False):\n",
    "    \n",
    "    df_price = pd.DataFrame(columns=['timestamp', 'price'])\n",
    "    df_demand = pd.DataFrame(columns=['timestamp', 'demand'])\n",
    "    df_emissions = pd.DataFrame(columns=['timestamp', 'emissions'])\n",
    "    \n",
    "    # Generate price dataframe\n",
    "    price_json = json.loads(price_json)\n",
    "    prices_values = price_json['included'][0]['attributes']['values']\n",
    "    for price_value in prices_values:\n",
    "        row = {'timestamp': price_value['datetime'],\n",
    "                   'price': price_value['value']}\n",
    "        df_price = df_price.append(row, ignore_index=True)\n",
    "        \n",
    "    # Generate demand dataframe\n",
    "    demand_json = json.loads(demand_json)\n",
    "    if(today):\n",
    "        demand_values = demand_json['included'][1]['attributes']['values']\n",
    "    else:\n",
    "        demand_values = demand_json['included'][0]['attributes']['values']\n",
    "\n",
    "    for demand_value in demand_values:\n",
    "        row = {'timestamp': demand_value['datetime'],\n",
    "                   'demand': demand_value['value']}\n",
    "        df_demand = df_demand.append(row, ignore_index=True)\n",
    "    \n",
    "    # Generate emissions dataframe\n",
    "    emissions_json = json.loads(emissions_json)\n",
    "    emissions_values = emissions_json['included'][0]['attributes']['values']\n",
    "\n",
    "    for emissions_value in emissions_values:\n",
    "        row = {'timestamp': emissions_value['datetime'],\n",
    "                'emissions': emissions_value['value']}\n",
    "        df_emissions = df_emissions.append(row, ignore_index=True)    \n",
    "    \n",
    "    df_merged = df_price.merge(df_demand, on='timestamp', how='inner')\n",
    "    \n",
    "    df_emissions['timestamp'] = df_price['timestamp']\n",
    "    df_merged = df_merged.merge(df_emissions, on='timestamp', how='inner')\n",
    "    \n",
    "    df_merged['timestamp'] = df_merged['timestamp'].apply(clean_datetime)\n",
    "    \n",
    "    # Separate two columns by \" \"\n",
    "    df_merged[['date', 'time']] = df_merged['timestamp'].str.split('T', expand=True)\n",
    "    \n",
    "    df_merged = df_merged.drop(columns=['timestamp'], axis=1)\n",
    "    \n",
    "    return df_merged"
   ]
  },
  {
   "cell_type": "code",
   "execution_count": 9,
   "id": "a90aba25",
   "metadata": {
    "scrolled": false
   },
   "outputs": [],
   "source": [
    "# day_zero\n",
    "df_final = convert_json_into_dataframe(pricesJ_day_zero, demandJ_day_zero, emissionsJ_day_zero)\n",
    "\n",
    "# yesterday\n",
    "df_yesterday = convert_json_into_dataframe(pricesJ_yesterday, demandJ_yesterday, emissionsJ_day_zero)\n",
    "# Repetimos las emisiones del día cero\n",
    "df_final = pd.concat([df_final, df_yesterday], ignore_index=True)\n",
    "\n",
    "\n",
    "# today\n",
    "df_today = convert_json_into_dataframe(pricesJ_today, demandJ_today, emissionsJ_day_zero, today=True)\n",
    "df_final = pd.concat([df_final, df_today], ignore_index=True)\n"
   ]
  },
  {
   "cell_type": "code",
   "execution_count": null,
   "id": "d50f3998",
   "metadata": {},
   "outputs": [],
   "source": []
  }
 ],
 "metadata": {
  "kernelspec": {
   "display_name": "Python 3 (ipykernel)",
   "language": "python",
   "name": "python3"
  },
  "language_info": {
   "codemirror_mode": {
    "name": "ipython",
    "version": 3
   },
   "file_extension": ".py",
   "mimetype": "text/x-python",
   "name": "python",
   "nbconvert_exporter": "python",
   "pygments_lexer": "ipython3",
   "version": "3.9.7"
  }
 },
 "nbformat": 4,
 "nbformat_minor": 5
}
