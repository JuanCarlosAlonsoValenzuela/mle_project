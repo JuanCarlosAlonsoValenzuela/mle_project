{
 "cells": [
  {
   "cell_type": "markdown",
   "id": "2ace4024",
   "metadata": {},
   "source": [
    "# Exporting a model for deployment"
   ]
  },
  {
   "cell_type": "code",
   "execution_count": 1,
   "id": "b71f5b96",
   "metadata": {},
   "outputs": [],
   "source": [
    "import pandas as pd\n",
    "import tensorflow as tf\n",
    "import numpy as np\n",
    "from tensorflow import keras"
   ]
  },
  {
   "cell_type": "code",
   "execution_count": 2,
   "id": "a7407798",
   "metadata": {},
   "outputs": [],
   "source": [
    "# import window_generator as WindowGenerator\n",
    "from window_generator import WindowGenerator"
   ]
  },
  {
   "cell_type": "markdown",
   "id": "837c992b",
   "metadata": {},
   "source": [
    "# Loading the dataset"
   ]
  },
  {
   "cell_type": "code",
   "execution_count": 3,
   "id": "7ed1e0dd",
   "metadata": {},
   "outputs": [
    {
     "data": {
      "text/html": [
       "<div>\n",
       "<style scoped>\n",
       "    .dataframe tbody tr th:only-of-type {\n",
       "        vertical-align: middle;\n",
       "    }\n",
       "\n",
       "    .dataframe tbody tr th {\n",
       "        vertical-align: top;\n",
       "    }\n",
       "\n",
       "    .dataframe thead th {\n",
       "        text-align: right;\n",
       "    }\n",
       "</style>\n",
       "<table border=\"1\" class=\"dataframe\">\n",
       "  <thead>\n",
       "    <tr style=\"text-align: right;\">\n",
       "      <th></th>\n",
       "      <th>price</th>\n",
       "      <th>demand</th>\n",
       "      <th>emissions</th>\n",
       "    </tr>\n",
       "    <tr>\n",
       "      <th>data</th>\n",
       "      <th></th>\n",
       "      <th></th>\n",
       "      <th></th>\n",
       "    </tr>\n",
       "  </thead>\n",
       "  <tbody>\n",
       "    <tr>\n",
       "      <th>2017-01-01 00:00:00</th>\n",
       "      <td>58.82</td>\n",
       "      <td>24682</td>\n",
       "      <td>14467.2840</td>\n",
       "    </tr>\n",
       "    <tr>\n",
       "      <th>2017-01-01 01:00:00</th>\n",
       "      <td>58.23</td>\n",
       "      <td>24046</td>\n",
       "      <td>14173.8295</td>\n",
       "    </tr>\n",
       "    <tr>\n",
       "      <th>2017-01-01 02:00:00</th>\n",
       "      <td>51.95</td>\n",
       "      <td>22665</td>\n",
       "      <td>13198.0690</td>\n",
       "    </tr>\n",
       "    <tr>\n",
       "      <th>2017-01-01 03:00:00</th>\n",
       "      <td>47.27</td>\n",
       "      <td>21200</td>\n",
       "      <td>12510.7595</td>\n",
       "    </tr>\n",
       "    <tr>\n",
       "      <th>2017-01-01 04:00:00</th>\n",
       "      <td>45.49</td>\n",
       "      <td>20056</td>\n",
       "      <td>12203.7315</td>\n",
       "    </tr>\n",
       "  </tbody>\n",
       "</table>\n",
       "</div>"
      ],
      "text/plain": [
       "                     price  demand   emissions\n",
       "data                                          \n",
       "2017-01-01 00:00:00  58.82   24682  14467.2840\n",
       "2017-01-01 01:00:00  58.23   24046  14173.8295\n",
       "2017-01-01 02:00:00  51.95   22665  13198.0690\n",
       "2017-01-01 03:00:00  47.27   21200  12510.7595\n",
       "2017-01-01 04:00:00  45.49   20056  12203.7315"
      ]
     },
     "execution_count": 3,
     "metadata": {},
     "output_type": "execute_result"
    }
   ],
   "source": [
    "df = pd.read_csv('extracted_data/csv/hour_merged.csv',\n",
    "                 parse_dates={'data': ['date', 'time']},\n",
    "                 infer_datetime_format=True,\n",
    "                 dayfirst=False,\n",
    "                 index_col='data'\n",
    "                )\n",
    "\n",
    "\n",
    "df.head()"
   ]
  },
  {
   "cell_type": "code",
   "execution_count": 4,
   "id": "49d47fc6",
   "metadata": {},
   "outputs": [],
   "source": [
    "# Select data from 2021\n",
    "df = df[int((len(df)*0.8)):]"
   ]
  },
  {
   "cell_type": "markdown",
   "id": "d27aacdd",
   "metadata": {},
   "source": [
    "# Differencing"
   ]
  },
  {
   "cell_type": "code",
   "execution_count": 5,
   "id": "3dc2bed0",
   "metadata": {},
   "outputs": [],
   "source": [
    "def difference(dataset, interval=1):\n",
    "    diff = list()\n",
    "    for i in range(interval, len(dataset)):\n",
    "        value = dataset[i] - dataset[i - interval]\n",
    "        diff.append(value)\n",
    "    return pd.Series(diff)"
   ]
  },
  {
   "cell_type": "code",
   "execution_count": 6,
   "id": "268f5eb2",
   "metadata": {},
   "outputs": [],
   "source": [
    "diff_price = difference(df['price'])\n",
    "diff_emissions = difference(df['emissions'])\n",
    "diff_demand = difference(df['demand'])"
   ]
  },
  {
   "cell_type": "code",
   "execution_count": 7,
   "id": "d060b457",
   "metadata": {},
   "outputs": [],
   "source": [
    "s1 = pd.Series([0.0])\n",
    "diff_price = s1.append(diff_price, ignore_index=True)\n",
    "diff_emissions = s1.append(diff_emissions, ignore_index=True)\n",
    "diff_demand = s1.append(diff_demand, ignore_index=True)"
   ]
  },
  {
   "cell_type": "code",
   "execution_count": 8,
   "id": "9518ce0e",
   "metadata": {},
   "outputs": [],
   "source": [
    "df['price'] = diff_price.values\n",
    "df['demand'] = diff_demand.values\n",
    "df['emissions'] = diff_emissions.values"
   ]
  },
  {
   "cell_type": "markdown",
   "id": "87481514",
   "metadata": {},
   "source": [
    "# Split into training and test"
   ]
  },
  {
   "cell_type": "code",
   "execution_count": 9,
   "id": "6eb276d6",
   "metadata": {},
   "outputs": [],
   "source": [
    "# 80% for training and 20% for test\n",
    "n = len(df)\n",
    "train_df = df[0:int(n*0.8)]\n",
    "test_df = df[int(n*0.8):]"
   ]
  },
  {
   "cell_type": "markdown",
   "id": "d5d5d521",
   "metadata": {},
   "source": [
    "# Normalization/Standarization"
   ]
  },
  {
   "cell_type": "code",
   "execution_count": 10,
   "id": "3806d4b8",
   "metadata": {},
   "outputs": [],
   "source": [
    "train_mean = train_df.mean()\n",
    "train_std = train_df.std()\n",
    "\n",
    "train_df = (train_df - train_mean) / train_std\n",
    "test_df = (test_df - train_mean) / train_std"
   ]
  },
  {
   "cell_type": "markdown",
   "id": "12595c24",
   "metadata": {},
   "source": [
    "# Training a model"
   ]
  },
  {
   "cell_type": "code",
   "execution_count": 11,
   "id": "5bb1b283",
   "metadata": {},
   "outputs": [],
   "source": [
    "MAX_EPOCHS = 20\n",
    "patience = 4\n",
    "num_features=df.shape[1]\n",
    "OUT_STEPS = 24"
   ]
  },
  {
   "cell_type": "code",
   "execution_count": 12,
   "id": "2ae21b7b",
   "metadata": {},
   "outputs": [
    {
     "name": "stdout",
     "output_type": "stream",
     "text": [
      "Epoch 1/20\n",
      "218/218 [==============================] - 5s 16ms/step - loss: 0.6743 - root_mean_squared_error: 0.8211 - val_loss: 0.8489 - val_root_mean_squared_error: 0.9213\n",
      "Epoch 2/20\n",
      "218/218 [==============================] - 3s 16ms/step - loss: 0.5720 - root_mean_squared_error: 0.7563 - val_loss: 0.7714 - val_root_mean_squared_error: 0.8783\n",
      "Epoch 3/20\n",
      "218/218 [==============================] - 4s 16ms/step - loss: 0.5190 - root_mean_squared_error: 0.7204 - val_loss: 0.7049 - val_root_mean_squared_error: 0.8396\n",
      "Epoch 4/20\n",
      "218/218 [==============================] - 4s 17ms/step - loss: 0.4827 - root_mean_squared_error: 0.6948 - val_loss: 0.6871 - val_root_mean_squared_error: 0.8289\n",
      "Epoch 5/20\n",
      "218/218 [==============================] - 4s 17ms/step - loss: 0.4575 - root_mean_squared_error: 0.6764 - val_loss: 0.6868 - val_root_mean_squared_error: 0.8288\n",
      "Epoch 6/20\n",
      "218/218 [==============================] - 3s 15ms/step - loss: 0.4319 - root_mean_squared_error: 0.6572 - val_loss: 0.6908 - val_root_mean_squared_error: 0.8311\n",
      "Epoch 7/20\n",
      "218/218 [==============================] - 4s 17ms/step - loss: 0.4084 - root_mean_squared_error: 0.6391 - val_loss: 0.6520 - val_root_mean_squared_error: 0.8075\n",
      "Epoch 8/20\n",
      "218/218 [==============================] - 4s 17ms/step - loss: 0.3880 - root_mean_squared_error: 0.6229 - val_loss: 0.6547 - val_root_mean_squared_error: 0.8091\n",
      "Epoch 9/20\n",
      "218/218 [==============================] - 4s 16ms/step - loss: 0.3720 - root_mean_squared_error: 0.6099 - val_loss: 0.6528 - val_root_mean_squared_error: 0.8079\n",
      "Epoch 10/20\n",
      "218/218 [==============================] - 3s 15ms/step - loss: 0.3562 - root_mean_squared_error: 0.5969 - val_loss: 0.6343 - val_root_mean_squared_error: 0.7964\n",
      "Epoch 11/20\n",
      "218/218 [==============================] - 3s 15ms/step - loss: 0.3476 - root_mean_squared_error: 0.5896 - val_loss: 0.6342 - val_root_mean_squared_error: 0.7964\n",
      "Epoch 12/20\n",
      "218/218 [==============================] - 3s 15ms/step - loss: 0.3384 - root_mean_squared_error: 0.5817 - val_loss: 0.6246 - val_root_mean_squared_error: 0.7903\n",
      "Epoch 13/20\n",
      "218/218 [==============================] - 3s 15ms/step - loss: 0.3313 - root_mean_squared_error: 0.5756 - val_loss: 0.6127 - val_root_mean_squared_error: 0.7827\n",
      "Epoch 14/20\n",
      "218/218 [==============================] - 3s 15ms/step - loss: 0.3249 - root_mean_squared_error: 0.5700 - val_loss: 0.6220 - val_root_mean_squared_error: 0.7886\n",
      "Epoch 15/20\n",
      "218/218 [==============================] - 3s 15ms/step - loss: 0.3211 - root_mean_squared_error: 0.5667 - val_loss: 0.6104 - val_root_mean_squared_error: 0.7813\n",
      "Epoch 16/20\n",
      "218/218 [==============================] - 3s 15ms/step - loss: 0.3151 - root_mean_squared_error: 0.5613 - val_loss: 0.6074 - val_root_mean_squared_error: 0.7794\n",
      "Epoch 17/20\n",
      "218/218 [==============================] - 3s 15ms/step - loss: 0.3133 - root_mean_squared_error: 0.5597 - val_loss: 0.6067 - val_root_mean_squared_error: 0.7789\n",
      "Epoch 18/20\n",
      "218/218 [==============================] - 3s 15ms/step - loss: 0.3093 - root_mean_squared_error: 0.5561 - val_loss: 0.6225 - val_root_mean_squared_error: 0.7890\n",
      "Epoch 19/20\n",
      "218/218 [==============================] - 3s 15ms/step - loss: 0.3079 - root_mean_squared_error: 0.5549 - val_loss: 0.5991 - val_root_mean_squared_error: 0.7740\n",
      "Epoch 20/20\n",
      "218/218 [==============================] - 3s 15ms/step - loss: 0.3027 - root_mean_squared_error: 0.5502 - val_loss: 0.6140 - val_root_mean_squared_error: 0.7836\n",
      "[0.6139790415763855, 0.7835680842399597]\n"
     ]
    }
   ],
   "source": [
    "multi_lstm_model = tf.keras.Sequential([\n",
    "        # Shape [batch, time, features] => [batch, lstm_units]\n",
    "        tf.keras.layers.LSTM(128, return_sequences=False),\n",
    "        # Shape [batch, out_steps*features]\n",
    "        tf.keras.layers.Dense(OUT_STEPS*num_features, kernel_initializer=tf.initializers.zeros()),\n",
    "        tf.keras.layers.Dropout(.1),\n",
    "        # Shape [batch, out_steps, features]\n",
    "        tf.keras.layers.Reshape([OUT_STEPS, num_features])\n",
    "    ])\n",
    "    \n",
    "early_stopping = tf.keras.callbacks.EarlyStopping(monitor='val_loss', patience=patience, mode='min')\n",
    "    \n",
    "multi_lstm_model.compile(loss='MeanSquaredError',\n",
    "                 optimizer='rmsprop',\n",
    "                 metrics=[tf.metrics.RootMeanSquaredError()])\n",
    "    \n",
    "# Creating a Window\n",
    "window = WindowGenerator(input_width=24, label_width=OUT_STEPS, shift=OUT_STEPS, train_df=train_df, test_df=test_df)\n",
    "    \n",
    "# History\n",
    "history = multi_lstm_model.fit(window.train, epochs=MAX_EPOCHS, validation_data = window.test, \n",
    "                        callbacks=[early_stopping]\n",
    "                       )\n",
    "    \n",
    "print(multi_lstm_model.evaluate(window.test, verbose=0))\n",
    "loss, rmse = multi_lstm_model.evaluate(window.test, verbose=0)"
   ]
  },
  {
   "cell_type": "code",
   "execution_count": 13,
   "id": "a8f7a2bf",
   "metadata": {},
   "outputs": [
    {
     "name": "stderr",
     "output_type": "stream",
     "text": [
      "WARNING:absl:Found untraced functions such as lstm_cell_layer_call_fn, lstm_cell_layer_call_and_return_conditional_losses, lstm_cell_layer_call_fn, lstm_cell_layer_call_and_return_conditional_losses, lstm_cell_layer_call_and_return_conditional_losses while saving (showing 5 of 5). These functions will not be directly callable after loading.\n"
     ]
    },
    {
     "name": "stdout",
     "output_type": "stream",
     "text": [
      "INFO:tensorflow:Assets written to: saved_model/assets\n"
     ]
    },
    {
     "name": "stderr",
     "output_type": "stream",
     "text": [
      "INFO:tensorflow:Assets written to: saved_model/assets\n",
      "WARNING:absl:<keras.layers.recurrent.LSTMCell object at 0x000002552D6EC730> has the same name 'LSTMCell' as a built-in Keras object. Consider renaming <class 'keras.layers.recurrent.LSTMCell'> to avoid naming conflicts when loading with `tf.keras.models.load_model`. If renaming is not possible, pass the object in the `custom_objects` parameter of the load function.\n"
     ]
    }
   ],
   "source": [
    "multi_lstm_model.save('saved_model/')"
   ]
  },
  {
   "cell_type": "code",
   "execution_count": 14,
   "id": "ac0d18be",
   "metadata": {},
   "outputs": [],
   "source": [
    "loaded_model = keras.models.load_model('saved_model/')"
   ]
  },
  {
   "cell_type": "code",
   "execution_count": 15,
   "id": "c7257369",
   "metadata": {},
   "outputs": [
    {
     "name": "stdout",
     "output_type": "stream",
     "text": [
      "[0.6139790415763855, 0.7835680842399597]\n"
     ]
    }
   ],
   "source": [
    "print(loaded_model.evaluate(window.test, verbose=0))"
   ]
  },
  {
   "cell_type": "code",
   "execution_count": null,
   "id": "68d8cd72",
   "metadata": {},
   "outputs": [],
   "source": []
  },
  {
   "cell_type": "code",
   "execution_count": null,
   "id": "b815767b",
   "metadata": {},
   "outputs": [],
   "source": []
  },
  {
   "cell_type": "code",
   "execution_count": null,
   "id": "8ea729d9",
   "metadata": {},
   "outputs": [],
   "source": []
  },
  {
   "cell_type": "code",
   "execution_count": null,
   "id": "1928dd23",
   "metadata": {},
   "outputs": [],
   "source": []
  },
  {
   "cell_type": "code",
   "execution_count": null,
   "id": "3206299f",
   "metadata": {},
   "outputs": [],
   "source": []
  },
  {
   "cell_type": "code",
   "execution_count": null,
   "id": "3afc0f8e",
   "metadata": {},
   "outputs": [],
   "source": []
  },
  {
   "cell_type": "code",
   "execution_count": null,
   "id": "4bac3ae3",
   "metadata": {},
   "outputs": [],
   "source": []
  },
  {
   "cell_type": "code",
   "execution_count": null,
   "id": "e43c9fa5",
   "metadata": {},
   "outputs": [],
   "source": []
  }
 ],
 "metadata": {
  "kernelspec": {
   "display_name": "Python 3 (ipykernel)",
   "language": "python",
   "name": "python3"
  },
  "language_info": {
   "codemirror_mode": {
    "name": "ipython",
    "version": 3
   },
   "file_extension": ".py",
   "mimetype": "text/x-python",
   "name": "python",
   "nbconvert_exporter": "python",
   "pygments_lexer": "ipython3",
   "version": "3.9.7"
  }
 },
 "nbformat": 4,
 "nbformat_minor": 5
}
