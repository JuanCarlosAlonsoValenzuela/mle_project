{
 "cells": [
  {
   "cell_type": "markdown",
   "id": "eb118837",
   "metadata": {},
   "source": [
    "# Optimizing the RNN"
   ]
  },
  {
   "cell_type": "code",
   "execution_count": 1,
   "id": "b5a8b81c",
   "metadata": {},
   "outputs": [],
   "source": [
    "import pandas as pd\n",
    "import tensorflow as tf\n",
    "import numpy as np\n",
    "import matplotlib.pyplot as plt\n",
    "import seaborn as sns"
   ]
  },
  {
   "cell_type": "code",
   "execution_count": 2,
   "id": "8d507286",
   "metadata": {},
   "outputs": [],
   "source": [
    "# Loading TensorBoard\n",
    "%load_ext tensorboard\n",
    "\n",
    "# Clear any logs from previous runs\n",
    "# %rm -rf ./logs/"
   ]
  },
  {
   "cell_type": "code",
   "execution_count": 3,
   "id": "0c58ceda",
   "metadata": {},
   "outputs": [],
   "source": [
    "from tensorboard.plugins.hparams import api as hp"
   ]
  },
  {
   "cell_type": "code",
   "execution_count": 4,
   "id": "acf015ce",
   "metadata": {},
   "outputs": [],
   "source": [
    "import random\n",
    "random.seed(123)"
   ]
  },
  {
   "cell_type": "markdown",
   "id": "031c007d",
   "metadata": {},
   "source": [
    "# Configuring hyperparameters"
   ]
  },
  {
   "cell_type": "code",
   "execution_count": 5,
   "id": "c9233854",
   "metadata": {},
   "outputs": [],
   "source": [
    "# Optimizers (SGD, Adam, Adamax, RMSprop)\n",
    "optimizers = [\n",
    "    'adam', \n",
    "    'sgd', \n",
    "    'adamax', \n",
    "    'rmsprop'\n",
    "]\n",
    "\n",
    "\n",
    "# Loss functions (MeanSquaredError, Huber, MeanSquaredLogarithmicError)\n",
    "loss_functions = [\n",
    "    'huber', \n",
    "    'MeanSquaredError', \n",
    "    'MeanSquaredLogarithmicError'\n",
    "]"
   ]
  },
  {
   "cell_type": "code",
   "execution_count": 6,
   "id": "4e8b7649",
   "metadata": {},
   "outputs": [],
   "source": [
    "# Hyperparameters\n",
    "LSTM_UNITS = hp.HParam('LSTM_units', hp.Discrete([16, 32, 64, 128]))\n",
    "OPTIMIZER = hp.HParam('Optimizer', hp.Discrete(optimizers))\n",
    "LOSS_FUNCTION = hp.HParam('Loss_function', hp.Discrete(loss_functions))\n",
    "\n",
    "# TODO: APPLY\n",
    "HP_DROPOUT = hp.HParam('Dropout', hp.Discrete([0.0, 0.1, 0.2]))\n",
    "HP_BATCH_SIZE = 'TODO'\n",
    "HP_WINDOW_SIZE = 'TODO'\n",
    "# END TODO\n",
    "\n",
    "# Metrics\n",
    "METRIC_RMSE = 'RootMeanSquaredError'\n",
    "\n",
    "\n",
    "with tf.summary.create_file_writer('logs/RNN').as_default():\n",
    "    hp.hparams_config(\n",
    "    # Parameters\n",
    "    hparams = [\n",
    "        LSTM_UNITS,\n",
    "        OPTIMIZER,\n",
    "        LOSS_FUNCTION\n",
    "        \n",
    "#         HP_DROPOUT,\n",
    "#         HP_BATCH_SIZE,\n",
    "#         HP_WINDOW_SIZE\n",
    "    ],\n",
    "    # Metrics\n",
    "    metrics = [\n",
    "        hp.Metric(\n",
    "            METRIC_RMSE, display_name='RMSE'\n",
    "        ),\n",
    "    ]\n",
    "    )"
   ]
  },
  {
   "cell_type": "markdown",
   "id": "1fd4f34a",
   "metadata": {},
   "source": [
    "# Loading the dataset"
   ]
  },
  {
   "cell_type": "code",
   "execution_count": 7,
   "id": "e42607ec",
   "metadata": {},
   "outputs": [
    {
     "data": {
      "text/html": [
       "<div>\n",
       "<style scoped>\n",
       "    .dataframe tbody tr th:only-of-type {\n",
       "        vertical-align: middle;\n",
       "    }\n",
       "\n",
       "    .dataframe tbody tr th {\n",
       "        vertical-align: top;\n",
       "    }\n",
       "\n",
       "    .dataframe thead th {\n",
       "        text-align: right;\n",
       "    }\n",
       "</style>\n",
       "<table border=\"1\" class=\"dataframe\">\n",
       "  <thead>\n",
       "    <tr style=\"text-align: right;\">\n",
       "      <th></th>\n",
       "      <th>price</th>\n",
       "      <th>demand</th>\n",
       "      <th>emissions</th>\n",
       "    </tr>\n",
       "    <tr>\n",
       "      <th>data</th>\n",
       "      <th></th>\n",
       "      <th></th>\n",
       "      <th></th>\n",
       "    </tr>\n",
       "  </thead>\n",
       "  <tbody>\n",
       "    <tr>\n",
       "      <th>2017-01-01 00:00:00</th>\n",
       "      <td>58.82</td>\n",
       "      <td>24682</td>\n",
       "      <td>14467.2840</td>\n",
       "    </tr>\n",
       "    <tr>\n",
       "      <th>2017-01-01 01:00:00</th>\n",
       "      <td>58.23</td>\n",
       "      <td>24046</td>\n",
       "      <td>14173.8295</td>\n",
       "    </tr>\n",
       "    <tr>\n",
       "      <th>2017-01-01 02:00:00</th>\n",
       "      <td>51.95</td>\n",
       "      <td>22665</td>\n",
       "      <td>13198.0690</td>\n",
       "    </tr>\n",
       "    <tr>\n",
       "      <th>2017-01-01 03:00:00</th>\n",
       "      <td>47.27</td>\n",
       "      <td>21200</td>\n",
       "      <td>12510.7595</td>\n",
       "    </tr>\n",
       "    <tr>\n",
       "      <th>2017-01-01 04:00:00</th>\n",
       "      <td>45.49</td>\n",
       "      <td>20056</td>\n",
       "      <td>12203.7315</td>\n",
       "    </tr>\n",
       "  </tbody>\n",
       "</table>\n",
       "</div>"
      ],
      "text/plain": [
       "                     price  demand   emissions\n",
       "data                                          \n",
       "2017-01-01 00:00:00  58.82   24682  14467.2840\n",
       "2017-01-01 01:00:00  58.23   24046  14173.8295\n",
       "2017-01-01 02:00:00  51.95   22665  13198.0690\n",
       "2017-01-01 03:00:00  47.27   21200  12510.7595\n",
       "2017-01-01 04:00:00  45.49   20056  12203.7315"
      ]
     },
     "execution_count": 7,
     "metadata": {},
     "output_type": "execute_result"
    }
   ],
   "source": [
    "df = pd.read_csv('extracted_data/csv/hour_merged.csv',\n",
    "                 parse_dates={'data': ['date', 'time']},\n",
    "                 infer_datetime_format=True,\n",
    "                 dayfirst=False,\n",
    "                 index_col='data'\n",
    "                )\n",
    "\n",
    "\n",
    "df.head()"
   ]
  },
  {
   "cell_type": "code",
   "execution_count": 8,
   "id": "270f7f4b",
   "metadata": {},
   "outputs": [],
   "source": [
    "# TODO: Consider\n",
    "# df = df.drop(columns=['demand', 'emissions'], axis=1)"
   ]
  },
  {
   "cell_type": "code",
   "execution_count": 9,
   "id": "bf328b5a",
   "metadata": {},
   "outputs": [
    {
     "data": {
      "text/html": [
       "<div>\n",
       "<style scoped>\n",
       "    .dataframe tbody tr th:only-of-type {\n",
       "        vertical-align: middle;\n",
       "    }\n",
       "\n",
       "    .dataframe tbody tr th {\n",
       "        vertical-align: top;\n",
       "    }\n",
       "\n",
       "    .dataframe thead th {\n",
       "        text-align: right;\n",
       "    }\n",
       "</style>\n",
       "<table border=\"1\" class=\"dataframe\">\n",
       "  <thead>\n",
       "    <tr style=\"text-align: right;\">\n",
       "      <th></th>\n",
       "      <th>price</th>\n",
       "      <th>demand</th>\n",
       "      <th>emissions</th>\n",
       "    </tr>\n",
       "  </thead>\n",
       "  <tbody>\n",
       "    <tr>\n",
       "      <th>count</th>\n",
       "      <td>43800.000000</td>\n",
       "      <td>43800.000000</td>\n",
       "      <td>43800.000000</td>\n",
       "    </tr>\n",
       "    <tr>\n",
       "      <th>mean</th>\n",
       "      <td>68.212629</td>\n",
       "      <td>28189.487146</td>\n",
       "      <td>11296.974971</td>\n",
       "    </tr>\n",
       "    <tr>\n",
       "      <th>std</th>\n",
       "      <td>63.725022</td>\n",
       "      <td>4595.460802</td>\n",
       "      <td>3952.947375</td>\n",
       "    </tr>\n",
       "    <tr>\n",
       "      <th>min</th>\n",
       "      <td>0.010000</td>\n",
       "      <td>16165.000000</td>\n",
       "      <td>3890.149500</td>\n",
       "    </tr>\n",
       "    <tr>\n",
       "      <th>25%</th>\n",
       "      <td>40.500000</td>\n",
       "      <td>24380.750000</td>\n",
       "      <td>8181.419000</td>\n",
       "    </tr>\n",
       "    <tr>\n",
       "      <th>50%</th>\n",
       "      <td>51.200000</td>\n",
       "      <td>28218.000000</td>\n",
       "      <td>10769.564250</td>\n",
       "    </tr>\n",
       "    <tr>\n",
       "      <th>75%</th>\n",
       "      <td>64.100000</td>\n",
       "      <td>31687.000000</td>\n",
       "      <td>13794.362000</td>\n",
       "    </tr>\n",
       "    <tr>\n",
       "      <th>max</th>\n",
       "      <td>536.810000</td>\n",
       "      <td>41552.000000</td>\n",
       "      <td>30476.416000</td>\n",
       "    </tr>\n",
       "  </tbody>\n",
       "</table>\n",
       "</div>"
      ],
      "text/plain": [
       "              price        demand     emissions\n",
       "count  43800.000000  43800.000000  43800.000000\n",
       "mean      68.212629  28189.487146  11296.974971\n",
       "std       63.725022   4595.460802   3952.947375\n",
       "min        0.010000  16165.000000   3890.149500\n",
       "25%       40.500000  24380.750000   8181.419000\n",
       "50%       51.200000  28218.000000  10769.564250\n",
       "75%       64.100000  31687.000000  13794.362000\n",
       "max      536.810000  41552.000000  30476.416000"
      ]
     },
     "execution_count": 9,
     "metadata": {},
     "output_type": "execute_result"
    }
   ],
   "source": [
    "df.describe()"
   ]
  },
  {
   "cell_type": "code",
   "execution_count": 10,
   "id": "90c36a3a",
   "metadata": {},
   "outputs": [],
   "source": [
    "# Select 2021\n",
    "# df = df[int((len(df)*0.6)):]\n",
    "df = df[int((len(df)*0.8)):]"
   ]
  },
  {
   "cell_type": "code",
   "execution_count": 11,
   "id": "47c154d9",
   "metadata": {},
   "outputs": [
    {
     "data": {
      "text/html": [
       "<div>\n",
       "<style scoped>\n",
       "    .dataframe tbody tr th:only-of-type {\n",
       "        vertical-align: middle;\n",
       "    }\n",
       "\n",
       "    .dataframe tbody tr th {\n",
       "        vertical-align: top;\n",
       "    }\n",
       "\n",
       "    .dataframe thead th {\n",
       "        text-align: right;\n",
       "    }\n",
       "</style>\n",
       "<table border=\"1\" class=\"dataframe\">\n",
       "  <thead>\n",
       "    <tr style=\"text-align: right;\">\n",
       "      <th></th>\n",
       "      <th>price</th>\n",
       "      <th>demand</th>\n",
       "      <th>emissions</th>\n",
       "    </tr>\n",
       "  </thead>\n",
       "  <tbody>\n",
       "    <tr>\n",
       "      <th>count</th>\n",
       "      <td>8760.000000</td>\n",
       "      <td>8760.000000</td>\n",
       "      <td>8760.000000</td>\n",
       "    </tr>\n",
       "    <tr>\n",
       "      <th>mean</th>\n",
       "      <td>149.843062</td>\n",
       "      <td>27748.348744</td>\n",
       "      <td>9344.160081</td>\n",
       "    </tr>\n",
       "    <tr>\n",
       "      <th>std</th>\n",
       "      <td>105.417526</td>\n",
       "      <td>4247.456217</td>\n",
       "      <td>3377.646274</td>\n",
       "    </tr>\n",
       "    <tr>\n",
       "      <th>min</th>\n",
       "      <td>0.010000</td>\n",
       "      <td>17443.000000</td>\n",
       "      <td>3890.149500</td>\n",
       "    </tr>\n",
       "    <tr>\n",
       "      <th>25%</th>\n",
       "      <td>61.360000</td>\n",
       "      <td>24236.500000</td>\n",
       "      <td>6815.296250</td>\n",
       "    </tr>\n",
       "    <tr>\n",
       "      <th>50%</th>\n",
       "      <td>121.995000</td>\n",
       "      <td>27959.500000</td>\n",
       "      <td>8704.811500</td>\n",
       "    </tr>\n",
       "    <tr>\n",
       "      <th>75%</th>\n",
       "      <td>240.502500</td>\n",
       "      <td>30857.250000</td>\n",
       "      <td>11209.781125</td>\n",
       "    </tr>\n",
       "    <tr>\n",
       "      <th>max</th>\n",
       "      <td>536.810000</td>\n",
       "      <td>41552.000000</td>\n",
       "      <td>24229.262000</td>\n",
       "    </tr>\n",
       "  </tbody>\n",
       "</table>\n",
       "</div>"
      ],
      "text/plain": [
       "             price        demand     emissions\n",
       "count  8760.000000   8760.000000   8760.000000\n",
       "mean    149.843062  27748.348744   9344.160081\n",
       "std     105.417526   4247.456217   3377.646274\n",
       "min       0.010000  17443.000000   3890.149500\n",
       "25%      61.360000  24236.500000   6815.296250\n",
       "50%     121.995000  27959.500000   8704.811500\n",
       "75%     240.502500  30857.250000  11209.781125\n",
       "max     536.810000  41552.000000  24229.262000"
      ]
     },
     "execution_count": 11,
     "metadata": {},
     "output_type": "execute_result"
    }
   ],
   "source": [
    "df.describe()"
   ]
  },
  {
   "cell_type": "markdown",
   "id": "8d2168df",
   "metadata": {},
   "source": [
    "# Differencing"
   ]
  },
  {
   "cell_type": "code",
   "execution_count": 12,
   "id": "4569c178",
   "metadata": {},
   "outputs": [
    {
     "data": {
      "text/html": [
       "<div>\n",
       "<style scoped>\n",
       "    .dataframe tbody tr th:only-of-type {\n",
       "        vertical-align: middle;\n",
       "    }\n",
       "\n",
       "    .dataframe tbody tr th {\n",
       "        vertical-align: top;\n",
       "    }\n",
       "\n",
       "    .dataframe thead th {\n",
       "        text-align: right;\n",
       "    }\n",
       "</style>\n",
       "<table border=\"1\" class=\"dataframe\">\n",
       "  <thead>\n",
       "    <tr style=\"text-align: right;\">\n",
       "      <th></th>\n",
       "      <th>price</th>\n",
       "      <th>demand</th>\n",
       "      <th>emissions</th>\n",
       "    </tr>\n",
       "    <tr>\n",
       "      <th>data</th>\n",
       "      <th></th>\n",
       "      <th></th>\n",
       "      <th></th>\n",
       "    </tr>\n",
       "  </thead>\n",
       "  <tbody>\n",
       "    <tr>\n",
       "      <th>2021-01-01 00:00:00</th>\n",
       "      <td>50.87</td>\n",
       "      <td>25134</td>\n",
       "      <td>6356.6480</td>\n",
       "    </tr>\n",
       "    <tr>\n",
       "      <th>2021-01-01 01:00:00</th>\n",
       "      <td>48.19</td>\n",
       "      <td>24179</td>\n",
       "      <td>6269.1480</td>\n",
       "    </tr>\n",
       "    <tr>\n",
       "      <th>2021-01-01 02:00:00</th>\n",
       "      <td>44.68</td>\n",
       "      <td>22472</td>\n",
       "      <td>5702.4820</td>\n",
       "    </tr>\n",
       "    <tr>\n",
       "      <th>2021-01-01 03:00:00</th>\n",
       "      <td>38.50</td>\n",
       "      <td>20319</td>\n",
       "      <td>5284.9275</td>\n",
       "    </tr>\n",
       "    <tr>\n",
       "      <th>2021-01-01 04:00:00</th>\n",
       "      <td>36.80</td>\n",
       "      <td>19040</td>\n",
       "      <td>5218.2340</td>\n",
       "    </tr>\n",
       "  </tbody>\n",
       "</table>\n",
       "</div>"
      ],
      "text/plain": [
       "                     price  demand  emissions\n",
       "data                                         \n",
       "2021-01-01 00:00:00  50.87   25134  6356.6480\n",
       "2021-01-01 01:00:00  48.19   24179  6269.1480\n",
       "2021-01-01 02:00:00  44.68   22472  5702.4820\n",
       "2021-01-01 03:00:00  38.50   20319  5284.9275\n",
       "2021-01-01 04:00:00  36.80   19040  5218.2340"
      ]
     },
     "execution_count": 12,
     "metadata": {},
     "output_type": "execute_result"
    }
   ],
   "source": [
    "df.head()"
   ]
  },
  {
   "cell_type": "code",
   "execution_count": 13,
   "id": "2f2e7a35",
   "metadata": {},
   "outputs": [],
   "source": [
    "def difference(dataset, interval=1):\n",
    "    diff = list()\n",
    "    for i in range(interval, len(dataset)):\n",
    "        value = dataset[i] - dataset[i - interval]\n",
    "        diff.append(value)\n",
    "    return pd.Series(diff)"
   ]
  },
  {
   "cell_type": "code",
   "execution_count": 14,
   "id": "2e0fe469",
   "metadata": {},
   "outputs": [],
   "source": [
    "diff = difference(df['price'])"
   ]
  },
  {
   "cell_type": "code",
   "execution_count": 15,
   "id": "5d2232c9",
   "metadata": {},
   "outputs": [
    {
     "data": {
      "text/plain": [
       "0        0.00\n",
       "1       -2.68\n",
       "2       -3.51\n",
       "3       -6.18\n",
       "4       -1.70\n",
       "        ...  \n",
       "8755    -8.84\n",
       "8756    -9.14\n",
       "8757    -8.97\n",
       "8758   -52.10\n",
       "8759   -12.24\n",
       "Length: 8760, dtype: float64"
      ]
     },
     "execution_count": 15,
     "metadata": {},
     "output_type": "execute_result"
    }
   ],
   "source": [
    "s1 = pd.Series([0.0])\n",
    "diff = s1.append(diff, ignore_index=True)\n",
    "diff"
   ]
  },
  {
   "cell_type": "code",
   "execution_count": 16,
   "id": "f2206f68",
   "metadata": {},
   "outputs": [],
   "source": [
    "# Formely known as the column price_diff\n",
    "df['price'] = diff.values"
   ]
  },
  {
   "cell_type": "code",
   "execution_count": 17,
   "id": "88f8748e",
   "metadata": {},
   "outputs": [
    {
     "data": {
      "text/html": [
       "<div>\n",
       "<style scoped>\n",
       "    .dataframe tbody tr th:only-of-type {\n",
       "        vertical-align: middle;\n",
       "    }\n",
       "\n",
       "    .dataframe tbody tr th {\n",
       "        vertical-align: top;\n",
       "    }\n",
       "\n",
       "    .dataframe thead th {\n",
       "        text-align: right;\n",
       "    }\n",
       "</style>\n",
       "<table border=\"1\" class=\"dataframe\">\n",
       "  <thead>\n",
       "    <tr style=\"text-align: right;\">\n",
       "      <th></th>\n",
       "      <th>price</th>\n",
       "      <th>demand</th>\n",
       "      <th>emissions</th>\n",
       "    </tr>\n",
       "    <tr>\n",
       "      <th>data</th>\n",
       "      <th></th>\n",
       "      <th></th>\n",
       "      <th></th>\n",
       "    </tr>\n",
       "  </thead>\n",
       "  <tbody>\n",
       "    <tr>\n",
       "      <th>2021-01-01 00:00:00</th>\n",
       "      <td>0.00</td>\n",
       "      <td>25134</td>\n",
       "      <td>6356.6480</td>\n",
       "    </tr>\n",
       "    <tr>\n",
       "      <th>2021-01-01 01:00:00</th>\n",
       "      <td>-2.68</td>\n",
       "      <td>24179</td>\n",
       "      <td>6269.1480</td>\n",
       "    </tr>\n",
       "    <tr>\n",
       "      <th>2021-01-01 02:00:00</th>\n",
       "      <td>-3.51</td>\n",
       "      <td>22472</td>\n",
       "      <td>5702.4820</td>\n",
       "    </tr>\n",
       "    <tr>\n",
       "      <th>2021-01-01 03:00:00</th>\n",
       "      <td>-6.18</td>\n",
       "      <td>20319</td>\n",
       "      <td>5284.9275</td>\n",
       "    </tr>\n",
       "    <tr>\n",
       "      <th>2021-01-01 04:00:00</th>\n",
       "      <td>-1.70</td>\n",
       "      <td>19040</td>\n",
       "      <td>5218.2340</td>\n",
       "    </tr>\n",
       "  </tbody>\n",
       "</table>\n",
       "</div>"
      ],
      "text/plain": [
       "                     price  demand  emissions\n",
       "data                                         \n",
       "2021-01-01 00:00:00   0.00   25134  6356.6480\n",
       "2021-01-01 01:00:00  -2.68   24179  6269.1480\n",
       "2021-01-01 02:00:00  -3.51   22472  5702.4820\n",
       "2021-01-01 03:00:00  -6.18   20319  5284.9275\n",
       "2021-01-01 04:00:00  -1.70   19040  5218.2340"
      ]
     },
     "execution_count": 17,
     "metadata": {},
     "output_type": "execute_result"
    }
   ],
   "source": [
    "df.head()"
   ]
  },
  {
   "cell_type": "markdown",
   "id": "2e0cbd28",
   "metadata": {},
   "source": [
    "# Split into training and test"
   ]
  },
  {
   "cell_type": "code",
   "execution_count": 18,
   "id": "423467c5",
   "metadata": {},
   "outputs": [],
   "source": [
    "n = len(df)\n",
    "# TODO: Modificar (ahora mismo train y test son iguales)\n",
    "train_df = df[0:int(n*0.8)]\n",
    "test_df = df[int(n*0.8):]"
   ]
  },
  {
   "cell_type": "markdown",
   "id": "9696a0b4",
   "metadata": {},
   "source": [
    "# Normalization/Standarization"
   ]
  },
  {
   "cell_type": "code",
   "execution_count": 19,
   "id": "fa1554a2",
   "metadata": {},
   "outputs": [],
   "source": [
    "train_mean = train_df.mean()\n",
    "train_std = train_df.std()\n",
    "\n",
    "train_df = (train_df - train_mean) / train_std\n",
    "test_df = (test_df - train_mean) / train_std"
   ]
  },
  {
   "cell_type": "code",
   "execution_count": 20,
   "id": "b8faa5b7",
   "metadata": {},
   "outputs": [
    {
     "data": {
      "text/html": [
       "<div>\n",
       "<style scoped>\n",
       "    .dataframe tbody tr th:only-of-type {\n",
       "        vertical-align: middle;\n",
       "    }\n",
       "\n",
       "    .dataframe tbody tr th {\n",
       "        vertical-align: top;\n",
       "    }\n",
       "\n",
       "    .dataframe thead th {\n",
       "        text-align: right;\n",
       "    }\n",
       "</style>\n",
       "<table border=\"1\" class=\"dataframe\">\n",
       "  <thead>\n",
       "    <tr style=\"text-align: right;\">\n",
       "      <th></th>\n",
       "      <th>price</th>\n",
       "      <th>demand</th>\n",
       "      <th>emissions</th>\n",
       "    </tr>\n",
       "    <tr>\n",
       "      <th>data</th>\n",
       "      <th></th>\n",
       "      <th></th>\n",
       "      <th></th>\n",
       "    </tr>\n",
       "  </thead>\n",
       "  <tbody>\n",
       "    <tr>\n",
       "      <th>2021-01-01 00:00:00</th>\n",
       "      <td>-0.001166</td>\n",
       "      <td>-0.620074</td>\n",
       "      <td>-0.879973</td>\n",
       "    </tr>\n",
       "    <tr>\n",
       "      <th>2021-01-01 01:00:00</th>\n",
       "      <td>-0.121941</td>\n",
       "      <td>-0.846596</td>\n",
       "      <td>-0.913820</td>\n",
       "    </tr>\n",
       "    <tr>\n",
       "      <th>2021-01-01 02:00:00</th>\n",
       "      <td>-0.159345</td>\n",
       "      <td>-1.251490</td>\n",
       "      <td>-1.133014</td>\n",
       "    </tr>\n",
       "    <tr>\n",
       "      <th>2021-01-01 03:00:00</th>\n",
       "      <td>-0.279669</td>\n",
       "      <td>-1.762174</td>\n",
       "      <td>-1.294530</td>\n",
       "    </tr>\n",
       "    <tr>\n",
       "      <th>2021-01-01 04:00:00</th>\n",
       "      <td>-0.077777</td>\n",
       "      <td>-2.065548</td>\n",
       "      <td>-1.320328</td>\n",
       "    </tr>\n",
       "  </tbody>\n",
       "</table>\n",
       "</div>"
      ],
      "text/plain": [
       "                        price    demand  emissions\n",
       "data                                              \n",
       "2021-01-01 00:00:00 -0.001166 -0.620074  -0.879973\n",
       "2021-01-01 01:00:00 -0.121941 -0.846596  -0.913820\n",
       "2021-01-01 02:00:00 -0.159345 -1.251490  -1.133014\n",
       "2021-01-01 03:00:00 -0.279669 -1.762174  -1.294530\n",
       "2021-01-01 04:00:00 -0.077777 -2.065548  -1.320328"
      ]
     },
     "execution_count": 20,
     "metadata": {},
     "output_type": "execute_result"
    }
   ],
   "source": [
    "train_df.head()"
   ]
  },
  {
   "cell_type": "code",
   "execution_count": 21,
   "id": "d75aa4c2",
   "metadata": {},
   "outputs": [
    {
     "data": {
      "image/png": "[encoded data removed]",
      "text/plain": [
       "<Figure size 864x432 with 1 Axes>"
      ]
     },
     "metadata": {
      "needs_background": "light"
     },
     "output_type": "display_data"
    }
   ],
   "source": [
    "df_std = (df - train_mean) / train_std\n",
    "df_std = df_std.melt(var_name='Column', value_name='Normalized')\n",
    "plt.figure(figsize=(12, 6))\n",
    "ax = sns.violinplot(x='Column', y='Normalized', data=df_std)\n",
    "_ = ax.set_xticklabels(df.keys(), rotation=90)"
   ]
  },
  {
   "cell_type": "markdown",
   "id": "26bf0503",
   "metadata": {},
   "source": [
    "# Creation of windows"
   ]
  },
  {
   "cell_type": "code",
   "execution_count": 22,
   "id": "07f01321",
   "metadata": {},
   "outputs": [],
   "source": [
    "class WindowGenerator():\n",
    "  def __init__(self, input_width, label_width, shift,\n",
    "               train_df=train_df, val_df=test_df, test_df=test_df,\n",
    "               label_columns=None):\n",
    "    # Store the raw data.\n",
    "    self.train_df = train_df\n",
    "    self.val_df = val_df\n",
    "    self.test_df = test_df\n",
    "\n",
    "    # Work out the label column indices.\n",
    "    self.label_columns = label_columns\n",
    "    if label_columns is not None:\n",
    "      self.label_columns_indices = {name: i for i, name in\n",
    "                                    enumerate(label_columns)}\n",
    "    self.column_indices = {name: i for i, name in\n",
    "                           enumerate(train_df.columns)}\n",
    "\n",
    "    # Work out the window parameters.\n",
    "    self.input_width = input_width\n",
    "    self.label_width = label_width\n",
    "    self.shift = shift\n",
    "\n",
    "    self.total_window_size = input_width + shift\n",
    "\n",
    "    self.input_slice = slice(0, input_width)\n",
    "    self.input_indices = np.arange(self.total_window_size)[self.input_slice]\n",
    "\n",
    "    self.label_start = self.total_window_size - self.label_width\n",
    "    self.labels_slice = slice(self.label_start, None)\n",
    "    self.label_indices = np.arange(self.total_window_size)[self.labels_slice]\n",
    "\n",
    "  def __repr__(self):\n",
    "    return '\\n'.join([\n",
    "        f'Total window size: {self.total_window_size}',\n",
    "        f'Input indices: {self.input_indices}',\n",
    "        f'Label indices: {self.label_indices}',\n",
    "        f'Label column name(s): {self.label_columns}'])"
   ]
  },
  {
   "cell_type": "code",
   "execution_count": 23,
   "id": "80dd4725",
   "metadata": {},
   "outputs": [],
   "source": [
    "def split_window(self, features):\n",
    "  inputs = features[:, self.input_slice, :]\n",
    "  labels = features[:, self.labels_slice, :]\n",
    "  if self.label_columns is not None:\n",
    "    labels = tf.stack(\n",
    "        [labels[:, :, self.column_indices[name]] for name in self.label_columns],\n",
    "        axis=-1)\n",
    "\n",
    "  # Slicing doesn't preserve static shape information, so set the shapes\n",
    "  # manually. This way the `tf.data.Datasets` are easier to inspect.\n",
    "  inputs.set_shape([None, self.input_width, None])\n",
    "  labels.set_shape([None, self.label_width, None])\n",
    "\n",
    "  return inputs, labels\n",
    "\n",
    "WindowGenerator.split_window = split_window"
   ]
  },
  {
   "cell_type": "code",
   "execution_count": 24,
   "id": "2c680839",
   "metadata": {},
   "outputs": [
    {
     "name": "stdout",
     "output_type": "stream",
     "text": [
      "Total window size: 48\n",
      "Input indices: [ 0  1  2  3  4  5  6  7  8  9 10 11 12 13 14 15 16 17 18 19 20 21 22 23]\n",
      "Label indices: [47]\n",
      "Label column name(s): ['price']\n",
      "Total window size: 7\n",
      "Input indices: [0 1 2 3 4 5]\n",
      "Label indices: [6]\n",
      "Label column name(s): ['price']\n"
     ]
    }
   ],
   "source": [
    "w1 = WindowGenerator(input_width=24, label_width=1, shift=24, label_columns=['price'])\n",
    "print(w1)\n",
    "\n",
    "w2 = WindowGenerator(input_width=6, label_width=1, shift=1, label_columns=['price'])\n",
    "print(w2)"
   ]
  },
  {
   "cell_type": "code",
   "execution_count": 25,
   "id": "dfc9c01d",
   "metadata": {},
   "outputs": [
    {
     "name": "stdout",
     "output_type": "stream",
     "text": [
      "All shapes are: (batch, time, features)\n",
      "Window shape: (3, 7, 3)\n",
      "Inputs shape: (3, 6, 3)\n",
      "Labels shape: (3, 1, 1)\n"
     ]
    }
   ],
   "source": [
    "example_window = tf.stack([np.array(test_df[:w2.total_window_size]),\n",
    "                           np.array(test_df[100:100+w2.total_window_size]),\n",
    "                           np.array(test_df[200:200+w2.total_window_size])\n",
    "                          ])\n",
    "\n",
    "example_inputs, example_labels = w2.split_window(example_window)\n",
    "\n",
    "print('All shapes are: (batch, time, features)')\n",
    "print(f'Window shape: {example_window.shape}')\n",
    "print(f'Inputs shape: {example_inputs.shape}')\n",
    "print(f'Labels shape: {example_labels.shape}')"
   ]
  },
  {
   "cell_type": "code",
   "execution_count": 26,
   "id": "7293d7d4",
   "metadata": {},
   "outputs": [],
   "source": [
    "w2.example = example_inputs, example_labels"
   ]
  },
  {
   "cell_type": "code",
   "execution_count": 27,
   "id": "7def4212",
   "metadata": {},
   "outputs": [],
   "source": [
    "def plot(self, model=None, plot_col='price', max_subplots=3):\n",
    "  inputs, labels = self.example\n",
    "  plt.figure(figsize=(12, 8))\n",
    "  plot_col_index = self.column_indices[plot_col]\n",
    "  max_n = min(max_subplots, len(inputs))\n",
    "  for n in range(max_n):\n",
    "    plt.subplot(max_n, 1, n+1)\n",
    "    plt.ylabel(f'{plot_col} [normed]')\n",
    "    plt.plot(self.input_indices, inputs[n, :, plot_col_index],\n",
    "             label='Inputs', marker='.', zorder=-10)\n",
    "\n",
    "    if self.label_columns:\n",
    "      label_col_index = self.label_columns_indices.get(plot_col, None)\n",
    "    else:\n",
    "      label_col_index = plot_col_index\n",
    "\n",
    "    if label_col_index is None:\n",
    "      continue\n",
    "\n",
    "    plt.scatter(self.label_indices, labels[n, :, label_col_index],\n",
    "                edgecolors='k', label='Labels', c='#2ca02c', s=64)\n",
    "    if model is not None:\n",
    "      predictions = model(inputs)\n",
    "      plt.scatter(self.label_indices, predictions[n, :, label_col_index],\n",
    "                  marker='X', edgecolors='k', label='Predictions',\n",
    "                  c='#ff7f0e', s=64)\n",
    "\n",
    "    if n == 0:\n",
    "      plt.legend()\n",
    "\n",
    "  plt.xlabel('Time [h]')\n",
    "\n",
    "WindowGenerator.plot = plot"
   ]
  },
  {
   "cell_type": "code",
   "execution_count": 28,
   "id": "775beba4",
   "metadata": {},
   "outputs": [],
   "source": [
    "# De momento, usaremos únicamente la target variable (Household dataset)\n",
    "def make_dataset(self, data):\n",
    "    data = np.array(data, dtype=np.float32)\n",
    "    ds = tf.keras.utils.timeseries_dataset_from_array(\n",
    "        data=data,\n",
    "        targets=None,\n",
    "        sequence_length=self.total_window_size,\n",
    "        sequence_stride=1,\n",
    "        shuffle=True,\n",
    "        batch_size=32\n",
    "    )\n",
    "    \n",
    "    ds = ds.map(self.split_window)\n",
    "    \n",
    "    return ds\n",
    "\n",
    "WindowGenerator.make_dataset = make_dataset"
   ]
  },
  {
   "cell_type": "code",
   "execution_count": 29,
   "id": "ac99d68c",
   "metadata": {},
   "outputs": [],
   "source": [
    "@property\n",
    "def train(self):\n",
    "  return self.make_dataset(self.train_df)\n",
    "\n",
    "@property\n",
    "def val(self):\n",
    "  return self.make_dataset(self.test_df)\n",
    "\n",
    "@property\n",
    "def test(self):\n",
    "  return self.make_dataset(self.test_df)\n",
    "\n",
    "@property\n",
    "def example(self):\n",
    "  \"\"\"Get and cache an example batch of `inputs, labels` for plotting.\"\"\"\n",
    "  result = getattr(self, '_example', None)\n",
    "  if result is None:\n",
    "    # No example batch was found, so get one from the `.train` dataset\n",
    "    result = next(iter(self.train))\n",
    "    # And cache it for next time\n",
    "    self._example = result\n",
    "  return result\n",
    "\n",
    "WindowGenerator.train = train\n",
    "WindowGenerator.val = val\n",
    "WindowGenerator.test = test\n",
    "WindowGenerator.example = example"
   ]
  },
  {
   "cell_type": "code",
   "execution_count": 30,
   "id": "95d8751f",
   "metadata": {},
   "outputs": [
    {
     "data": {
      "text/plain": [
       "(TensorSpec(shape=(None, 6, 3), dtype=tf.float32, name=None),\n",
       " TensorSpec(shape=(None, 1, 1), dtype=tf.float32, name=None))"
      ]
     },
     "execution_count": 30,
     "metadata": {},
     "output_type": "execute_result"
    }
   ],
   "source": [
    "w2.train.element_spec"
   ]
  },
  {
   "cell_type": "code",
   "execution_count": 31,
   "id": "790a9aca",
   "metadata": {},
   "outputs": [
    {
     "name": "stdout",
     "output_type": "stream",
     "text": [
      "Inputs shape (batch, time, features): (32, 6, 3)\n",
      "Labels shape (batch, time, features): (32, 1, 1)\n"
     ]
    }
   ],
   "source": [
    "# Iteramos sobre un conjunto de dataset para producir lotes concretos:\n",
    "for example_inputs, example_labels in w2.train.take(1):\n",
    "    print(f'Inputs shape (batch, time, features): {example_inputs.shape}')\n",
    "    print(f'Labels shape (batch, time, features): {example_labels.shape}')"
   ]
  },
  {
   "cell_type": "code",
   "execution_count": 32,
   "id": "daa99ec4",
   "metadata": {},
   "outputs": [
    {
     "data": {
      "text/plain": [
       "Total window size: 48\n",
       "Input indices: [ 0  1  2  3  4  5  6  7  8  9 10 11 12 13 14 15 16 17 18 19 20 21 22 23]\n",
       "Label indices: [24 25 26 27 28 29 30 31 32 33 34 35 36 37 38 39 40 41 42 43 44 45 46 47]\n",
       "Label column name(s): None"
      ]
     },
     "execution_count": 32,
     "metadata": {},
     "output_type": "execute_result"
    },
    {
     "data": {
      "image/png": "[encoded data removed]",
      "text/plain": [
       "<Figure size 864x576 with 3 Axes>"
      ]
     },
     "metadata": {
      "needs_background": "light"
     },
     "output_type": "display_data"
    }
   ],
   "source": [
    "OUT_STEPS = 24\n",
    "multi_window = WindowGenerator(input_width=24, label_width=OUT_STEPS, shift=OUT_STEPS)\n",
    "\n",
    "multi_window.plot()\n",
    "multi_window"
   ]
  },
  {
   "cell_type": "markdown",
   "id": "463b9f61",
   "metadata": {},
   "source": [
    "# RNN"
   ]
  },
  {
   "cell_type": "markdown",
   "id": "185a4285",
   "metadata": {},
   "source": [
    "## Convert the model into a function"
   ]
  },
  {
   "cell_type": "code",
   "execution_count": 33,
   "id": "c747dffc",
   "metadata": {},
   "outputs": [],
   "source": [
    "MAX_EPOCHS = 20\n",
    "patience = 4\n",
    "num_features=df.shape[1] # TODO: Revisar esta línea\n",
    "window = multi_window"
   ]
  },
  {
   "cell_type": "code",
   "execution_count": 34,
   "id": "e4732dc6",
   "metadata": {},
   "outputs": [],
   "source": [
    "multi_val_performance = {}\n",
    "multi_performance = {}"
   ]
  },
  {
   "cell_type": "code",
   "execution_count": 35,
   "id": "e1ba5d09",
   "metadata": {},
   "outputs": [],
   "source": [
    "def train_test_model(hparams):\n",
    "    multi_lstm_model = tf.keras.Sequential([\n",
    "        # Shape [batch, time, features] => [batch, lstm_units]\n",
    "        # Es peligroso añadir demasiadas unidades lstm, ya que pueden causar overfitting\n",
    "        tf.keras.layers.LSTM(hparams[LSTM_UNITS], return_sequences=False),\n",
    "        # Shape [batch, out_steps*features]\n",
    "        tf.keras.layers.Dense(OUT_STEPS*num_features, kernel_initializer=tf.initializers.zeros()),\n",
    "        tf.keras.layers.Dropout(.1),\n",
    "        # Shape [batch, out_steps, features]\n",
    "        tf.keras.layers.Reshape([OUT_STEPS, num_features])\n",
    "    ])\n",
    "    \n",
    "    early_stopping = tf.keras.callbacks.EarlyStopping(monitor='val_loss', patience=patience, mode='min')\n",
    "    \n",
    "    multi_lstm_model.compile(loss=hparams[LOSS_FUNCTION],\n",
    "                 optimizer=hparams[OPTIMIZER],\n",
    "                 metrics=[tf.metrics.RootMeanSquaredError()])\n",
    "    \n",
    "    history = multi_lstm_model.fit(window.train, epochs=MAX_EPOCHS, validation_data = window.val, \n",
    "                        callbacks=[early_stopping]\n",
    "                       )\n",
    "    \n",
    "    print(multi_lstm_model.evaluate(multi_window.test, verbose=0))\n",
    "    loss, rmse = multi_lstm_model.evaluate(multi_window.test, verbose=0)\n",
    "    \n",
    "    return rmse"
   ]
  },
  {
   "cell_type": "markdown",
   "id": "02d2667e",
   "metadata": {},
   "source": [
    "For each execution, generate a log containing the hyperparameter configuration and the metrics (rmse)"
   ]
  },
  {
   "cell_type": "code",
   "execution_count": 36,
   "id": "2aea3972",
   "metadata": {},
   "outputs": [],
   "source": [
    "def run(run_dir, hparams):\n",
    "    with tf.summary.create_file_writer(run_dir).as_default():\n",
    "        hp.hparams(hparams)  # record the values used in this trial\n",
    "        rmse = train_test_model(hparams)\n",
    "        \n",
    "        tf.summary.scalar(METRIC_RMSE, rmse, step=1)"
   ]
  },
  {
   "cell_type": "code",
   "execution_count": 37,
   "id": "170af115",
   "metadata": {},
   "outputs": [
    {
     "name": "stdout",
     "output_type": "stream",
     "text": [
      "--- Starting trial: run-0\n",
      "{'LSTM_units': 16, 'Optimizer': 'adam', 'Loss_function': 'MeanSquaredError'}\n"
     ]
    },
    {
     "ename": "NameError",
     "evalue": "name 'window' is not defined",
     "output_type": "error",
     "traceback": [
      "\u001b[1;31m---------------------------------------------------------------------------\u001b[0m",
      "\u001b[1;31mNameError\u001b[0m                                 Traceback (most recent call last)",
      "\u001b[1;32m~\\AppData\\Local\\Temp/ipykernel_22900/3353467200.py\u001b[0m in \u001b[0;36m<module>\u001b[1;34m\u001b[0m\n\u001b[0;32m     12\u001b[0m             \u001b[0mprint\u001b[0m\u001b[1;33m(\u001b[0m\u001b[1;34m'--- Starting trial: %s'\u001b[0m \u001b[1;33m%\u001b[0m \u001b[0mrun_name\u001b[0m\u001b[1;33m)\u001b[0m\u001b[1;33m\u001b[0m\u001b[1;33m\u001b[0m\u001b[0m\n\u001b[0;32m     13\u001b[0m             \u001b[0mprint\u001b[0m\u001b[1;33m(\u001b[0m\u001b[1;33m{\u001b[0m\u001b[0mh\u001b[0m\u001b[1;33m.\u001b[0m\u001b[0mname\u001b[0m\u001b[1;33m:\u001b[0m \u001b[0mhparams\u001b[0m\u001b[1;33m[\u001b[0m\u001b[0mh\u001b[0m\u001b[1;33m]\u001b[0m \u001b[1;32mfor\u001b[0m \u001b[0mh\u001b[0m \u001b[1;32min\u001b[0m \u001b[0mhparams\u001b[0m\u001b[1;33m}\u001b[0m\u001b[1;33m)\u001b[0m\u001b[1;33m\u001b[0m\u001b[1;33m\u001b[0m\u001b[0m\n\u001b[1;32m---> 14\u001b[1;33m             \u001b[0mrun\u001b[0m\u001b[1;33m(\u001b[0m\u001b[1;34m'logs/RNN/'\u001b[0m \u001b[1;33m+\u001b[0m \u001b[0mrun_name\u001b[0m\u001b[1;33m,\u001b[0m \u001b[0mhparams\u001b[0m\u001b[1;33m)\u001b[0m\u001b[1;33m\u001b[0m\u001b[1;33m\u001b[0m\u001b[0m\n\u001b[0m\u001b[0;32m     15\u001b[0m             \u001b[0msession_num\u001b[0m \u001b[1;33m+=\u001b[0m \u001b[1;36m1\u001b[0m\u001b[1;33m\u001b[0m\u001b[1;33m\u001b[0m\u001b[0m\n",
      "\u001b[1;32m~\\AppData\\Local\\Temp/ipykernel_22900/77925140.py\u001b[0m in \u001b[0;36mrun\u001b[1;34m(run_dir, hparams)\u001b[0m\n\u001b[0;32m      2\u001b[0m     \u001b[1;32mwith\u001b[0m \u001b[0mtf\u001b[0m\u001b[1;33m.\u001b[0m\u001b[0msummary\u001b[0m\u001b[1;33m.\u001b[0m\u001b[0mcreate_file_writer\u001b[0m\u001b[1;33m(\u001b[0m\u001b[0mrun_dir\u001b[0m\u001b[1;33m)\u001b[0m\u001b[1;33m.\u001b[0m\u001b[0mas_default\u001b[0m\u001b[1;33m(\u001b[0m\u001b[1;33m)\u001b[0m\u001b[1;33m:\u001b[0m\u001b[1;33m\u001b[0m\u001b[1;33m\u001b[0m\u001b[0m\n\u001b[0;32m      3\u001b[0m         \u001b[0mhp\u001b[0m\u001b[1;33m.\u001b[0m\u001b[0mhparams\u001b[0m\u001b[1;33m(\u001b[0m\u001b[0mhparams\u001b[0m\u001b[1;33m)\u001b[0m  \u001b[1;31m# record the values used in this trial\u001b[0m\u001b[1;33m\u001b[0m\u001b[1;33m\u001b[0m\u001b[0m\n\u001b[1;32m----> 4\u001b[1;33m         \u001b[0mrmse\u001b[0m \u001b[1;33m=\u001b[0m \u001b[0mtrain_test_model\u001b[0m\u001b[1;33m(\u001b[0m\u001b[0mhparams\u001b[0m\u001b[1;33m)\u001b[0m\u001b[1;33m\u001b[0m\u001b[1;33m\u001b[0m\u001b[0m\n\u001b[0m\u001b[0;32m      5\u001b[0m \u001b[1;33m\u001b[0m\u001b[0m\n\u001b[0;32m      6\u001b[0m         \u001b[0mtf\u001b[0m\u001b[1;33m.\u001b[0m\u001b[0msummary\u001b[0m\u001b[1;33m.\u001b[0m\u001b[0mscalar\u001b[0m\u001b[1;33m(\u001b[0m\u001b[0mMETRIC_RMSE\u001b[0m\u001b[1;33m,\u001b[0m \u001b[0mrmse\u001b[0m\u001b[1;33m,\u001b[0m \u001b[0mstep\u001b[0m\u001b[1;33m=\u001b[0m\u001b[1;36m1\u001b[0m\u001b[1;33m)\u001b[0m\u001b[1;33m\u001b[0m\u001b[1;33m\u001b[0m\u001b[0m\n",
      "\u001b[1;32m~\\AppData\\Local\\Temp/ipykernel_22900/3532447739.py\u001b[0m in \u001b[0;36mtrain_test_model\u001b[1;34m(hparams)\u001b[0m\n\u001b[0;32m     17\u001b[0m                  metrics=[tf.metrics.RootMeanSquaredError()])\n\u001b[0;32m     18\u001b[0m \u001b[1;33m\u001b[0m\u001b[0m\n\u001b[1;32m---> 19\u001b[1;33m     history = multi_lstm_model.fit(window.train, epochs=MAX_EPOCHS, validation_data = window.val, \n\u001b[0m\u001b[0;32m     20\u001b[0m                         \u001b[0mcallbacks\u001b[0m\u001b[1;33m=\u001b[0m\u001b[1;33m[\u001b[0m\u001b[0mearly_stopping\u001b[0m\u001b[1;33m]\u001b[0m\u001b[1;33m\u001b[0m\u001b[1;33m\u001b[0m\u001b[0m\n\u001b[0;32m     21\u001b[0m                        )\n",
      "\u001b[1;31mNameError\u001b[0m: name 'window' is not defined"
     ]
    }
   ],
   "source": [
    "session_num = 0\n",
    "\n",
    "for lstm_unit in LSTM_UNITS.domain.values:\n",
    "    for optimizer in OPTIMIZER.domain.values:\n",
    "        for loss_function in LOSS_FUNCTION.domain.values:\n",
    "            hparams = {\n",
    "                LSTM_UNITS: lstm_unit,\n",
    "                OPTIMIZER: optimizer,\n",
    "                LOSS_FUNCTION: loss_function\n",
    "            }\n",
    "            run_name = \"run-%d\" % session_num\n",
    "            print('--- Starting trial: %s' % run_name)\n",
    "            print({h.name: hparams[h] for h in hparams})\n",
    "            run('logs/RNN/' + run_name, hparams)\n",
    "            session_num += 1"
   ]
  },
  {
   "cell_type": "code",
   "execution_count": null,
   "id": "a9ed5fb6",
   "metadata": {},
   "outputs": [],
   "source": [
    "%tensorboard --logdir logs/RNN --port 6008"
   ]
  },
  {
   "cell_type": "code",
   "execution_count": null,
   "id": "a2b17b00",
   "metadata": {},
   "outputs": [],
   "source": [
    "%tensorboard --logdir logs/RNN"
   ]
  },
  {
   "cell_type": "markdown",
   "id": "2149626b",
   "metadata": {},
   "source": [
    "---------------------------------------------"
   ]
  },
  {
   "cell_type": "code",
   "execution_count": null,
   "id": "d34c03ea",
   "metadata": {},
   "outputs": [],
   "source": [
    "# num_features=df.shape[1] # TODO: Revisar esta línea"
   ]
  },
  {
   "cell_type": "code",
   "execution_count": null,
   "id": "d9c9cf59",
   "metadata": {},
   "outputs": [],
   "source": [
    "# MAX_EPOCHS = 20\n",
    "\n",
    "# def compile_and_fit(model, window, patience=4):\n",
    "#     early_stopping = tf.keras.callbacks.EarlyStopping(monitor='val_loss', patience=patience, mode='min')\n",
    "    \n",
    "#     model.compile(loss=tf.losses.MeanSquaredError(),\n",
    "#                  optimizer=tf.optimizers.Adam(),\n",
    "#                  metrics=[tf.metrics.RootMeanSquaredError()])\n",
    "    \n",
    "#     history = model.fit(window.train, epochs=MAX_EPOCHS, validation_data = window.val, \n",
    "#                         callbacks=[early_stopping]\n",
    "#                        )\n",
    "    \n",
    "#     return history"
   ]
  },
  {
   "cell_type": "code",
   "execution_count": null,
   "id": "156751f4",
   "metadata": {},
   "outputs": [],
   "source": [
    "# multi_val_performance = {}\n",
    "# multi_performance = {}"
   ]
  },
  {
   "cell_type": "code",
   "execution_count": null,
   "id": "7f47a369",
   "metadata": {},
   "outputs": [],
   "source": [
    "# multi_lstm_model = tf.keras.Sequential([\n",
    "#     # Shape [batch, time, features] => [batch, lstm_units]\n",
    "#     # Es peligroso añadir demasiadas unidades lstm, ya que pueden causar overfitting\n",
    "#     tf.keras.layers.LSTM(32, return_sequences=False),\n",
    "#     # Shape [batch, out_steps*features]\n",
    "#     tf.keras.layers.Dense(OUT_STEPS*num_features, kernel_initializer=tf.initializers.zeros()),\n",
    "#     tf.keras.layers.Dropout(.1),\n",
    "#     # Shape [batch, out_steps, features]\n",
    "#     tf.keras.layers.Reshape([OUT_STEPS, num_features])\n",
    "# ])\n",
    "\n",
    "# history = compile_and_fit(multi_lstm_model, multi_window)\n",
    "\n",
    "# # IPython.display.clear_output()\n",
    "\n",
    "# multi_val_performance['LSTM'] = multi_lstm_model.evaluate(multi_window.val)\n",
    "# multi_performance['LSTM'] = multi_lstm_model.evaluate(multi_window.test, verbose=0)\n",
    "# multi_window.plot(multi_lstm_model)"
   ]
  },
  {
   "cell_type": "code",
   "execution_count": null,
   "id": "c950c3c5",
   "metadata": {},
   "outputs": [],
   "source": []
  },
  {
   "cell_type": "markdown",
   "id": "0a52e17d",
   "metadata": {},
   "source": [
    "### "
   ]
  }
 ],
 "metadata": {
  "kernelspec": {
   "display_name": "Python 3 (ipykernel)",
   "language": "python",
   "name": "python3"
  },
  "language_info": {
   "codemirror_mode": {
    "name": "ipython",
    "version": 3
   },
   "file_extension": ".py",
   "mimetype": "text/x-python",
   "name": "python",
   "nbconvert_exporter": "python",
   "pygments_lexer": "ipython3",
   "version": "3.9.7"
  }
 },
 "nbformat": 4,
 "nbformat_minor": 5
}
