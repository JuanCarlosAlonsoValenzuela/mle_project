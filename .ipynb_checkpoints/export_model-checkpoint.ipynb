{
 "cells": [
  {
   "cell_type": "markdown",
   "id": "692635ab",
   "metadata": {},
   "source": [
    "# Exporting a model for deployment"
   ]
  },
  {
   "cell_type": "code",
   "execution_count": 1,
   "id": "cc17c148",
   "metadata": {},
   "outputs": [],
   "source": [
    "import pandas as pd\n",
    "import tensorflow as tf\n",
    "import numpy as np\n",
    "from tensorflow import keras"
   ]
  },
  {
   "cell_type": "code",
   "execution_count": 2,
   "id": "4ef427ea",
   "metadata": {},
   "outputs": [],
   "source": [
    "# import window_generator as WindowGenerator\n",
    "from window_generator import WindowGenerator"
   ]
  },
  {
   "cell_type": "markdown",
   "id": "bb518212",
   "metadata": {},
   "source": [
    "# Loading the dataset"
   ]
  },
  {
   "cell_type": "code",
   "execution_count": 3,
   "id": "b87a6dab",
   "metadata": {},
   "outputs": [
    {
     "data": {
      "text/html": [
       "<div>\n",
       "<style scoped>\n",
       "    .dataframe tbody tr th:only-of-type {\n",
       "        vertical-align: middle;\n",
       "    }\n",
       "\n",
       "    .dataframe tbody tr th {\n",
       "        vertical-align: top;\n",
       "    }\n",
       "\n",
       "    .dataframe thead th {\n",
       "        text-align: right;\n",
       "    }\n",
       "</style>\n",
       "<table border=\"1\" class=\"dataframe\">\n",
       "  <thead>\n",
       "    <tr style=\"text-align: right;\">\n",
       "      <th></th>\n",
       "      <th>price</th>\n",
       "      <th>demand</th>\n",
       "      <th>emissions</th>\n",
       "    </tr>\n",
       "    <tr>\n",
       "      <th>data</th>\n",
       "      <th></th>\n",
       "      <th></th>\n",
       "      <th></th>\n",
       "    </tr>\n",
       "  </thead>\n",
       "  <tbody>\n",
       "    <tr>\n",
       "      <th>2017-01-01 00:00:00</th>\n",
       "      <td>58.82</td>\n",
       "      <td>24682</td>\n",
       "      <td>14467.2840</td>\n",
       "    </tr>\n",
       "    <tr>\n",
       "      <th>2017-01-01 01:00:00</th>\n",
       "      <td>58.23</td>\n",
       "      <td>24046</td>\n",
       "      <td>14173.8295</td>\n",
       "    </tr>\n",
       "    <tr>\n",
       "      <th>2017-01-01 02:00:00</th>\n",
       "      <td>51.95</td>\n",
       "      <td>22665</td>\n",
       "      <td>13198.0690</td>\n",
       "    </tr>\n",
       "    <tr>\n",
       "      <th>2017-01-01 03:00:00</th>\n",
       "      <td>47.27</td>\n",
       "      <td>21200</td>\n",
       "      <td>12510.7595</td>\n",
       "    </tr>\n",
       "    <tr>\n",
       "      <th>2017-01-01 04:00:00</th>\n",
       "      <td>45.49</td>\n",
       "      <td>20056</td>\n",
       "      <td>12203.7315</td>\n",
       "    </tr>\n",
       "  </tbody>\n",
       "</table>\n",
       "</div>"
      ],
      "text/plain": [
       "                     price  demand   emissions\n",
       "data                                          \n",
       "2017-01-01 00:00:00  58.82   24682  14467.2840\n",
       "2017-01-01 01:00:00  58.23   24046  14173.8295\n",
       "2017-01-01 02:00:00  51.95   22665  13198.0690\n",
       "2017-01-01 03:00:00  47.27   21200  12510.7595\n",
       "2017-01-01 04:00:00  45.49   20056  12203.7315"
      ]
     },
     "execution_count": 3,
     "metadata": {},
     "output_type": "execute_result"
    }
   ],
   "source": [
    "df = pd.read_csv('extracted_data/csv/hour_merged.csv',\n",
    "                 parse_dates={'data': ['date', 'time']},\n",
    "                 infer_datetime_format=True,\n",
    "                 dayfirst=False,\n",
    "                 index_col='data'\n",
    "                )\n",
    "\n",
    "\n",
    "df.head()"
   ]
  },
  {
   "cell_type": "code",
   "execution_count": 4,
   "id": "aedaa455",
   "metadata": {},
   "outputs": [],
   "source": [
    "# Select data from 2021\n",
    "df = df[int((len(df)*0.8)):]"
   ]
  },
  {
   "cell_type": "markdown",
   "id": "f05d2ffd",
   "metadata": {},
   "source": [
    "# Differencing"
   ]
  },
  {
   "cell_type": "code",
   "execution_count": 5,
   "id": "67d9e0b1",
   "metadata": {},
   "outputs": [],
   "source": [
    "def difference(dataset, interval=1):\n",
    "    diff = list()\n",
    "    for i in range(interval, len(dataset)):\n",
    "        value = dataset[i] - dataset[i - interval]\n",
    "        diff.append(value)\n",
    "    return pd.Series(diff)"
   ]
  },
  {
   "cell_type": "code",
   "execution_count": 6,
   "id": "855f1749",
   "metadata": {},
   "outputs": [],
   "source": [
    "diff_price = difference(df['price'])\n",
    "diff_emissions = difference(df['emissions'])\n",
    "diff_demand = difference(df['demand'])"
   ]
  },
  {
   "cell_type": "code",
   "execution_count": 7,
   "id": "3e475643",
   "metadata": {},
   "outputs": [],
   "source": [
    "s1 = pd.Series([0.0])\n",
    "diff_price = s1.append(diff_price, ignore_index=True)\n",
    "diff_emissions = s1.append(diff_emissions, ignore_index=True)\n",
    "diff_demand = s1.append(diff_demand, ignore_index=True)"
   ]
  },
  {
   "cell_type": "code",
   "execution_count": 8,
   "id": "cf5d114a",
   "metadata": {},
   "outputs": [],
   "source": [
    "df['price'] = diff_price.values\n",
    "df['demand'] = diff_demand.values\n",
    "df['emissions'] = diff_emissions.values"
   ]
  },
  {
   "cell_type": "markdown",
   "id": "d33c2b63",
   "metadata": {},
   "source": [
    "# Split into training and test"
   ]
  },
  {
   "cell_type": "code",
   "execution_count": 9,
   "id": "787cadff",
   "metadata": {},
   "outputs": [],
   "source": [
    "# 80% for training and 20% for test\n",
    "n = len(df)\n",
    "train_df = df[0:int(n*0.8)]\n",
    "test_df = df[int(n*0.8):]"
   ]
  },
  {
   "cell_type": "markdown",
   "id": "5139bc6e",
   "metadata": {},
   "source": [
    "# Normalization/Standarization"
   ]
  },
  {
   "cell_type": "code",
   "execution_count": 10,
   "id": "46c4a080",
   "metadata": {},
   "outputs": [],
   "source": [
    "train_mean = train_df.mean()\n",
    "train_std = train_df.std()\n",
    "\n",
    "train_df = (train_df - train_mean) / train_std\n",
    "test_df = (test_df - train_mean) / train_std"
   ]
  },
  {
   "cell_type": "markdown",
   "id": "441d1605",
   "metadata": {},
   "source": [
    "# Training a model"
   ]
  },
  {
   "cell_type": "code",
   "execution_count": 11,
   "id": "fd4f9e4a",
   "metadata": {},
   "outputs": [],
   "source": [
    "MAX_EPOCHS = 20\n",
    "patience = 4\n",
    "num_features=df.shape[1]\n",
    "OUT_STEPS = 24"
   ]
  },
  {
   "cell_type": "code",
   "execution_count": 12,
   "id": "c1cac736",
   "metadata": {},
   "outputs": [
    {
     "name": "stdout",
     "output_type": "stream",
     "text": [
      "Epoch 1/20\n",
      "218/218 [==============================] - 6s 18ms/step - loss: 0.6890 - root_mean_squared_error: 0.8301 - val_loss: 0.8385 - val_root_mean_squared_error: 0.9157\n",
      "Epoch 2/20\n",
      "218/218 [==============================] - 3s 14ms/step - loss: 0.5763 - root_mean_squared_error: 0.7591 - val_loss: 0.7821 - val_root_mean_squared_error: 0.8844\n",
      "Epoch 3/20\n",
      "218/218 [==============================] - 3s 14ms/step - loss: 0.5253 - root_mean_squared_error: 0.7248 - val_loss: 0.7260 - val_root_mean_squared_error: 0.8520\n",
      "Epoch 4/20\n",
      "218/218 [==============================] - 3s 15ms/step - loss: 0.4857 - root_mean_squared_error: 0.6969 - val_loss: 0.7228 - val_root_mean_squared_error: 0.8502\n",
      "Epoch 5/20\n",
      "218/218 [==============================] - 3s 15ms/step - loss: 0.4587 - root_mean_squared_error: 0.6773 - val_loss: 0.6699 - val_root_mean_squared_error: 0.8185\n",
      "Epoch 6/20\n",
      "218/218 [==============================] - 3s 15ms/step - loss: 0.4327 - root_mean_squared_error: 0.6578 - val_loss: 0.6825 - val_root_mean_squared_error: 0.8261\n",
      "Epoch 7/20\n",
      "218/218 [==============================] - 3s 15ms/step - loss: 0.4100 - root_mean_squared_error: 0.6403 - val_loss: 0.6548 - val_root_mean_squared_error: 0.8092\n",
      "Epoch 8/20\n",
      "218/218 [==============================] - 3s 15ms/step - loss: 0.3887 - root_mean_squared_error: 0.6234 - val_loss: 0.6580 - val_root_mean_squared_error: 0.8112\n",
      "Epoch 9/20\n",
      "218/218 [==============================] - 3s 15ms/step - loss: 0.3719 - root_mean_squared_error: 0.6099 - val_loss: 0.6440 - val_root_mean_squared_error: 0.8025\n",
      "Epoch 10/20\n",
      "218/218 [==============================] - 3s 15ms/step - loss: 0.3568 - root_mean_squared_error: 0.5973 - val_loss: 0.6421 - val_root_mean_squared_error: 0.8013\n",
      "Epoch 11/20\n",
      "218/218 [==============================] - 3s 15ms/step - loss: 0.3488 - root_mean_squared_error: 0.5906 - val_loss: 0.6421 - val_root_mean_squared_error: 0.8013\n",
      "Epoch 12/20\n",
      "218/218 [==============================] - 3s 15ms/step - loss: 0.3374 - root_mean_squared_error: 0.5809 - val_loss: 0.6228 - val_root_mean_squared_error: 0.7892\n",
      "Epoch 13/20\n",
      "218/218 [==============================] - 3s 15ms/step - loss: 0.3336 - root_mean_squared_error: 0.5776 - val_loss: 0.6396 - val_root_mean_squared_error: 0.7998\n",
      "Epoch 14/20\n",
      "218/218 [==============================] - 3s 15ms/step - loss: 0.3240 - root_mean_squared_error: 0.5692 - val_loss: 0.6336 - val_root_mean_squared_error: 0.7960\n",
      "Epoch 15/20\n",
      "218/218 [==============================] - 3s 15ms/step - loss: 0.3222 - root_mean_squared_error: 0.5676 - val_loss: 0.6310 - val_root_mean_squared_error: 0.7944\n",
      "Epoch 16/20\n",
      "218/218 [==============================] - 3s 15ms/step - loss: 0.3172 - root_mean_squared_error: 0.5632 - val_loss: 0.6224 - val_root_mean_squared_error: 0.7889\n",
      "Epoch 17/20\n",
      "218/218 [==============================] - 3s 15ms/step - loss: 0.3159 - root_mean_squared_error: 0.5621 - val_loss: 0.6088 - val_root_mean_squared_error: 0.7802\n",
      "Epoch 18/20\n",
      "218/218 [==============================] - 3s 15ms/step - loss: 0.3109 - root_mean_squared_error: 0.5575 - val_loss: 0.6118 - val_root_mean_squared_error: 0.7822\n",
      "Epoch 19/20\n",
      "218/218 [==============================] - 3s 15ms/step - loss: 0.3088 - root_mean_squared_error: 0.5557 - val_loss: 0.6172 - val_root_mean_squared_error: 0.7856\n",
      "Epoch 20/20\n",
      "218/218 [==============================] - 3s 15ms/step - loss: 0.3051 - root_mean_squared_error: 0.5524 - val_loss: 0.6090 - val_root_mean_squared_error: 0.7804\n",
      "[0.6089828610420227, 0.7803735733032227]\n"
     ]
    }
   ],
   "source": [
    "multi_lstm_model = tf.keras.Sequential([\n",
    "        # Shape [batch, time, features] => [batch, lstm_units]\n",
    "        tf.keras.layers.LSTM(128, return_sequences=False),\n",
    "        # Shape [batch, out_steps*features]\n",
    "        tf.keras.layers.Dense(OUT_STEPS*num_features, kernel_initializer=tf.initializers.zeros()),\n",
    "        tf.keras.layers.Dropout(.1),\n",
    "        # Shape [batch, out_steps, features]\n",
    "        tf.keras.layers.Reshape([OUT_STEPS, num_features])\n",
    "    ])\n",
    "    \n",
    "early_stopping = tf.keras.callbacks.EarlyStopping(monitor='val_loss', patience=patience, mode='min')\n",
    "    \n",
    "multi_lstm_model.compile(loss='MeanSquaredError',\n",
    "                 optimizer='rmsprop',\n",
    "                 metrics=[tf.metrics.RootMeanSquaredError()])\n",
    "    \n",
    "# Creating a Window\n",
    "window = WindowGenerator(input_width=24, label_width=OUT_STEPS, shift=OUT_STEPS, train_df=train_df, test_df=test_df)\n",
    "    \n",
    "# History\n",
    "history = multi_lstm_model.fit(window.train, epochs=MAX_EPOCHS, validation_data = window.test, \n",
    "                        callbacks=[early_stopping]\n",
    "                       )\n",
    "    \n",
    "print(multi_lstm_model.evaluate(window.test, verbose=0))\n",
    "loss, rmse = multi_lstm_model.evaluate(window.test, verbose=0)"
   ]
  },
  {
   "cell_type": "code",
   "execution_count": 13,
   "id": "fbca4a30",
   "metadata": {},
   "outputs": [
    {
     "name": "stderr",
     "output_type": "stream",
     "text": [
      "WARNING:absl:Found untraced functions such as lstm_cell_layer_call_fn, lstm_cell_layer_call_and_return_conditional_losses, lstm_cell_layer_call_fn, lstm_cell_layer_call_and_return_conditional_losses, lstm_cell_layer_call_and_return_conditional_losses while saving (showing 5 of 5). These functions will not be directly callable after loading.\n"
     ]
    },
    {
     "name": "stdout",
     "output_type": "stream",
     "text": [
      "INFO:tensorflow:Assets written to: saved_model/assets\n"
     ]
    },
    {
     "name": "stderr",
     "output_type": "stream",
     "text": [
      "INFO:tensorflow:Assets written to: saved_model/assets\n",
      "WARNING:absl:<keras.layers.recurrent.LSTMCell object at 0x000001B65E7BE730> has the same name 'LSTMCell' as a built-in Keras object. Consider renaming <class 'keras.layers.recurrent.LSTMCell'> to avoid naming conflicts when loading with `tf.keras.models.load_model`. If renaming is not possible, pass the object in the `custom_objects` parameter of the load function.\n"
     ]
    }
   ],
   "source": [
    "multi_lstm_model.save('saved_model/')"
   ]
  },
  {
   "cell_type": "code",
   "execution_count": 14,
   "id": "e4a726a9",
   "metadata": {},
   "outputs": [
    {
     "ename": "AttributeError",
     "evalue": "module 'keras.api._v2.keras' has no attribute 'load_model'",
     "output_type": "error",
     "traceback": [
      "\u001b[1;31m---------------------------------------------------------------------------\u001b[0m",
      "\u001b[1;31mAttributeError\u001b[0m                            Traceback (most recent call last)",
      "\u001b[1;32m~\\AppData\\Local\\Temp/ipykernel_2056/3295028849.py\u001b[0m in \u001b[0;36m<module>\u001b[1;34m\u001b[0m\n\u001b[1;32m----> 1\u001b[1;33m \u001b[0mloaded_model\u001b[0m \u001b[1;33m=\u001b[0m \u001b[0mkeras\u001b[0m\u001b[1;33m.\u001b[0m\u001b[0mload_model\u001b[0m\u001b[1;33m(\u001b[0m\u001b[1;34m'saved_model/'\u001b[0m\u001b[1;33m)\u001b[0m\u001b[1;33m\u001b[0m\u001b[1;33m\u001b[0m\u001b[0m\n\u001b[0m",
      "\u001b[1;31mAttributeError\u001b[0m: module 'keras.api._v2.keras' has no attribute 'load_model'"
     ]
    }
   ],
   "source": [
    "loaded_model = keras.models.load_model('saved_model/')"
   ]
  },
  {
   "cell_type": "code",
   "execution_count": null,
   "id": "357427ec",
   "metadata": {},
   "outputs": [],
   "source": [
    "print(loaded_model.evaluate(window.test, verbose=0))"
   ]
  },
  {
   "cell_type": "code",
   "execution_count": null,
   "id": "59b846a7",
   "metadata": {},
   "outputs": [],
   "source": []
  },
  {
   "cell_type": "code",
   "execution_count": null,
   "id": "eceec099",
   "metadata": {},
   "outputs": [],
   "source": []
  },
  {
   "cell_type": "code",
   "execution_count": null,
   "id": "961280a0",
   "metadata": {},
   "outputs": [],
   "source": []
  },
  {
   "cell_type": "code",
   "execution_count": null,
   "id": "3730d6bd",
   "metadata": {},
   "outputs": [],
   "source": []
  },
  {
   "cell_type": "code",
   "execution_count": null,
   "id": "325f9a46",
   "metadata": {},
   "outputs": [],
   "source": []
  },
  {
   "cell_type": "code",
   "execution_count": null,
   "id": "b7ff0dc3",
   "metadata": {},
   "outputs": [],
   "source": []
  },
  {
   "cell_type": "code",
   "execution_count": null,
   "id": "708554df",
   "metadata": {},
   "outputs": [],
   "source": []
  },
  {
   "cell_type": "code",
   "execution_count": null,
   "id": "97cee674",
   "metadata": {},
   "outputs": [],
   "source": []
  }
 ],
 "metadata": {
  "kernelspec": {
   "display_name": "Python 3 (ipykernel)",
   "language": "python",
   "name": "python3"
  },
  "language_info": {
   "codemirror_mode": {
    "name": "ipython",
    "version": 3
   },
   "file_extension": ".py",
   "mimetype": "text/x-python",
   "name": "python",
   "nbconvert_exporter": "python",
   "pygments_lexer": "ipython3",
   "version": "3.9.7"
  }
 },
 "nbformat": 4,
 "nbformat_minor": 5
}
