{
 "cells": [
  {
   "cell_type": "markdown",
   "id": "f6399026",
   "metadata": {},
   "source": [
    "# Optimizing the Autoregressive model"
   ]
  },
  {
   "cell_type": "code",
   "execution_count": 1,
   "id": "81a21891",
   "metadata": {},
   "outputs": [],
   "source": [
    "import pandas as pd\n",
    "import tensorflow as tf\n",
    "import numpy as np\n",
    "import matplotlib.pyplot as plt\n",
    "import seaborn as sns"
   ]
  },
  {
   "cell_type": "code",
   "execution_count": 2,
   "id": "f5c33a69",
   "metadata": {},
   "outputs": [],
   "source": [
    "# Loading TensorBoard\n",
    "%load_ext tensorboard"
   ]
  },
  {
   "cell_type": "code",
   "execution_count": 3,
   "id": "76dcb3bc",
   "metadata": {},
   "outputs": [],
   "source": [
    "from tensorboard.plugins.hparams import api as hp"
   ]
  },
  {
   "cell_type": "code",
   "execution_count": 4,
   "id": "cb5a163f",
   "metadata": {},
   "outputs": [],
   "source": [
    "import random\n",
    "random.seed(123)"
   ]
  },
  {
   "cell_type": "code",
   "execution_count": 5,
   "id": "cb93f5ee",
   "metadata": {},
   "outputs": [],
   "source": [
    "# import window_generator as WindowGenerator\n",
    "from window_generator import WindowGenerator"
   ]
  },
  {
   "cell_type": "markdown",
   "id": "03e3d499",
   "metadata": {},
   "source": [
    "# Configuring hyperparameters"
   ]
  },
  {
   "cell_type": "code",
   "execution_count": 6,
   "id": "748d4a0d",
   "metadata": {},
   "outputs": [],
   "source": [
    "# Optimizers (SGD, Adam, Adamax, RMSprop)\n",
    "optimizers = [\n",
    "    'adam', \n",
    "    'sgd', \n",
    "    'adamax', \n",
    "    'rmsprop'\n",
    "]\n",
    "\n",
    "\n",
    "# Loss functions (MeanSquaredError, Huber, MeanSquaredLogarithmicError)\n",
    "loss_functions = [\n",
    "    'huber', \n",
    "    'MeanSquaredError', \n",
    "    'MeanSquaredLogarithmicError'\n",
    "]"
   ]
  },
  {
   "cell_type": "code",
   "execution_count": 7,
   "id": "c917552b",
   "metadata": {},
   "outputs": [],
   "source": [
    "# Hyperparameters\n",
    "LSTM_UNITS = hp.HParam('LSTM_units', hp.Discrete([16, 32, 64, 128]))\n",
    "OPTIMIZER = hp.HParam('Optimizer', hp.Discrete(optimizers))\n",
    "LOSS_FUNCTION = hp.HParam('Loss_function', hp.Discrete(loss_functions))\n",
    "WINDOW_SIZE = hp.HParam('WINDOW_SIZE', hp.Discrete([12, 24, 48]))\n",
    "\n",
    "# Metrics\n",
    "METRIC_RMSE = 'RootMeanSquaredError'\n",
    "\n",
    "\n",
    "with tf.summary.create_file_writer('logs/AR').as_default():\n",
    "    hp.hparams_config(\n",
    "    # Parameters\n",
    "    hparams = [\n",
    "        LSTM_UNITS,\n",
    "        OPTIMIZER,\n",
    "        WINDOW_SIZE,\n",
    "        LOSS_FUNCTION    \n",
    "    ],\n",
    "    # Metrics\n",
    "    metrics = [\n",
    "        hp.Metric(\n",
    "            METRIC_RMSE, display_name='RMSE'\n",
    "        ),\n",
    "    ]\n",
    "    )"
   ]
  },
  {
   "cell_type": "markdown",
   "id": "dfd74f72",
   "metadata": {},
   "source": [
    "# Loading the dataset"
   ]
  },
  {
   "cell_type": "code",
   "execution_count": 8,
   "id": "ef390d87",
   "metadata": {},
   "outputs": [
    {
     "data": {
      "text/html": [
       "<div>\n",
       "<style scoped>\n",
       "    .dataframe tbody tr th:only-of-type {\n",
       "        vertical-align: middle;\n",
       "    }\n",
       "\n",
       "    .dataframe tbody tr th {\n",
       "        vertical-align: top;\n",
       "    }\n",
       "\n",
       "    .dataframe thead th {\n",
       "        text-align: right;\n",
       "    }\n",
       "</style>\n",
       "<table border=\"1\" class=\"dataframe\">\n",
       "  <thead>\n",
       "    <tr style=\"text-align: right;\">\n",
       "      <th></th>\n",
       "      <th>price</th>\n",
       "      <th>demand</th>\n",
       "      <th>emissions</th>\n",
       "    </tr>\n",
       "    <tr>\n",
       "      <th>data</th>\n",
       "      <th></th>\n",
       "      <th></th>\n",
       "      <th></th>\n",
       "    </tr>\n",
       "  </thead>\n",
       "  <tbody>\n",
       "    <tr>\n",
       "      <th>2017-01-01 00:00:00</th>\n",
       "      <td>58.82</td>\n",
       "      <td>24682</td>\n",
       "      <td>14467.2840</td>\n",
       "    </tr>\n",
       "    <tr>\n",
       "      <th>2017-01-01 01:00:00</th>\n",
       "      <td>58.23</td>\n",
       "      <td>24046</td>\n",
       "      <td>14173.8295</td>\n",
       "    </tr>\n",
       "    <tr>\n",
       "      <th>2017-01-01 02:00:00</th>\n",
       "      <td>51.95</td>\n",
       "      <td>22665</td>\n",
       "      <td>13198.0690</td>\n",
       "    </tr>\n",
       "    <tr>\n",
       "      <th>2017-01-01 03:00:00</th>\n",
       "      <td>47.27</td>\n",
       "      <td>21200</td>\n",
       "      <td>12510.7595</td>\n",
       "    </tr>\n",
       "    <tr>\n",
       "      <th>2017-01-01 04:00:00</th>\n",
       "      <td>45.49</td>\n",
       "      <td>20056</td>\n",
       "      <td>12203.7315</td>\n",
       "    </tr>\n",
       "  </tbody>\n",
       "</table>\n",
       "</div>"
      ],
      "text/plain": [
       "                     price  demand   emissions\n",
       "data                                          \n",
       "2017-01-01 00:00:00  58.82   24682  14467.2840\n",
       "2017-01-01 01:00:00  58.23   24046  14173.8295\n",
       "2017-01-01 02:00:00  51.95   22665  13198.0690\n",
       "2017-01-01 03:00:00  47.27   21200  12510.7595\n",
       "2017-01-01 04:00:00  45.49   20056  12203.7315"
      ]
     },
     "execution_count": 8,
     "metadata": {},
     "output_type": "execute_result"
    }
   ],
   "source": [
    "df = pd.read_csv('extracted_data/csv/hour_merged.csv',\n",
    "                 parse_dates={'data': ['date', 'time']},\n",
    "                 infer_datetime_format=True,\n",
    "                 dayfirst=False,\n",
    "                 index_col='data'\n",
    "                )\n",
    "\n",
    "\n",
    "df.head()"
   ]
  },
  {
   "cell_type": "code",
   "execution_count": 9,
   "id": "dfb75f77",
   "metadata": {},
   "outputs": [],
   "source": [
    "# Select data from 2021\n",
    "df = df[int((len(df)*0.8)):]"
   ]
  },
  {
   "cell_type": "markdown",
   "id": "e30b4159",
   "metadata": {},
   "source": [
    "# Differencing"
   ]
  },
  {
   "cell_type": "code",
   "execution_count": 10,
   "id": "b33a3a94",
   "metadata": {},
   "outputs": [
    {
     "data": {
      "text/html": [
       "<div>\n",
       "<style scoped>\n",
       "    .dataframe tbody tr th:only-of-type {\n",
       "        vertical-align: middle;\n",
       "    }\n",
       "\n",
       "    .dataframe tbody tr th {\n",
       "        vertical-align: top;\n",
       "    }\n",
       "\n",
       "    .dataframe thead th {\n",
       "        text-align: right;\n",
       "    }\n",
       "</style>\n",
       "<table border=\"1\" class=\"dataframe\">\n",
       "  <thead>\n",
       "    <tr style=\"text-align: right;\">\n",
       "      <th></th>\n",
       "      <th>price</th>\n",
       "      <th>demand</th>\n",
       "      <th>emissions</th>\n",
       "    </tr>\n",
       "    <tr>\n",
       "      <th>data</th>\n",
       "      <th></th>\n",
       "      <th></th>\n",
       "      <th></th>\n",
       "    </tr>\n",
       "  </thead>\n",
       "  <tbody>\n",
       "    <tr>\n",
       "      <th>2021-01-01 00:00:00</th>\n",
       "      <td>50.87</td>\n",
       "      <td>25134</td>\n",
       "      <td>6356.6480</td>\n",
       "    </tr>\n",
       "    <tr>\n",
       "      <th>2021-01-01 01:00:00</th>\n",
       "      <td>48.19</td>\n",
       "      <td>24179</td>\n",
       "      <td>6269.1480</td>\n",
       "    </tr>\n",
       "    <tr>\n",
       "      <th>2021-01-01 02:00:00</th>\n",
       "      <td>44.68</td>\n",
       "      <td>22472</td>\n",
       "      <td>5702.4820</td>\n",
       "    </tr>\n",
       "    <tr>\n",
       "      <th>2021-01-01 03:00:00</th>\n",
       "      <td>38.50</td>\n",
       "      <td>20319</td>\n",
       "      <td>5284.9275</td>\n",
       "    </tr>\n",
       "    <tr>\n",
       "      <th>2021-01-01 04:00:00</th>\n",
       "      <td>36.80</td>\n",
       "      <td>19040</td>\n",
       "      <td>5218.2340</td>\n",
       "    </tr>\n",
       "  </tbody>\n",
       "</table>\n",
       "</div>"
      ],
      "text/plain": [
       "                     price  demand  emissions\n",
       "data                                         \n",
       "2021-01-01 00:00:00  50.87   25134  6356.6480\n",
       "2021-01-01 01:00:00  48.19   24179  6269.1480\n",
       "2021-01-01 02:00:00  44.68   22472  5702.4820\n",
       "2021-01-01 03:00:00  38.50   20319  5284.9275\n",
       "2021-01-01 04:00:00  36.80   19040  5218.2340"
      ]
     },
     "execution_count": 10,
     "metadata": {},
     "output_type": "execute_result"
    }
   ],
   "source": [
    "df.head()"
   ]
  },
  {
   "cell_type": "code",
   "execution_count": 11,
   "id": "50c344f3",
   "metadata": {},
   "outputs": [],
   "source": [
    "def difference(dataset, interval=1):\n",
    "    diff = list()\n",
    "    for i in range(interval, len(dataset)):\n",
    "        value = dataset[i] - dataset[i - interval]\n",
    "        diff.append(value)\n",
    "    return pd.Series(diff)"
   ]
  },
  {
   "cell_type": "code",
   "execution_count": 12,
   "id": "ba897531",
   "metadata": {},
   "outputs": [],
   "source": [
    "diff_price = difference(df['price'])\n",
    "diff_emissions = difference(df['emissions'])\n",
    "diff_demand = difference(df['demand'])"
   ]
  },
  {
   "cell_type": "code",
   "execution_count": 13,
   "id": "35faf616",
   "metadata": {},
   "outputs": [],
   "source": [
    "s1 = pd.Series([0.0])\n",
    "diff_price = s1.append(diff_price, ignore_index=True)\n",
    "diff_emissions = s1.append(diff_emissions, ignore_index=True)\n",
    "diff_demand = s1.append(diff_demand, ignore_index=True)"
   ]
  },
  {
   "cell_type": "code",
   "execution_count": 14,
   "id": "adc36099",
   "metadata": {},
   "outputs": [],
   "source": [
    "df['price'] = diff_price.values\n",
    "df['demand'] = diff_demand.values\n",
    "df['emissions'] = diff_emissions.values"
   ]
  },
  {
   "cell_type": "code",
   "execution_count": 15,
   "id": "133b0cb9",
   "metadata": {},
   "outputs": [
    {
     "data": {
      "text/html": [
       "<div>\n",
       "<style scoped>\n",
       "    .dataframe tbody tr th:only-of-type {\n",
       "        vertical-align: middle;\n",
       "    }\n",
       "\n",
       "    .dataframe tbody tr th {\n",
       "        vertical-align: top;\n",
       "    }\n",
       "\n",
       "    .dataframe thead th {\n",
       "        text-align: right;\n",
       "    }\n",
       "</style>\n",
       "<table border=\"1\" class=\"dataframe\">\n",
       "  <thead>\n",
       "    <tr style=\"text-align: right;\">\n",
       "      <th></th>\n",
       "      <th>price</th>\n",
       "      <th>demand</th>\n",
       "      <th>emissions</th>\n",
       "    </tr>\n",
       "    <tr>\n",
       "      <th>data</th>\n",
       "      <th></th>\n",
       "      <th></th>\n",
       "      <th></th>\n",
       "    </tr>\n",
       "  </thead>\n",
       "  <tbody>\n",
       "    <tr>\n",
       "      <th>2021-01-01 00:00:00</th>\n",
       "      <td>0.00</td>\n",
       "      <td>0.0</td>\n",
       "      <td>0.0000</td>\n",
       "    </tr>\n",
       "    <tr>\n",
       "      <th>2021-01-01 01:00:00</th>\n",
       "      <td>-2.68</td>\n",
       "      <td>-955.0</td>\n",
       "      <td>-87.5000</td>\n",
       "    </tr>\n",
       "    <tr>\n",
       "      <th>2021-01-01 02:00:00</th>\n",
       "      <td>-3.51</td>\n",
       "      <td>-1707.0</td>\n",
       "      <td>-566.6660</td>\n",
       "    </tr>\n",
       "    <tr>\n",
       "      <th>2021-01-01 03:00:00</th>\n",
       "      <td>-6.18</td>\n",
       "      <td>-2153.0</td>\n",
       "      <td>-417.5545</td>\n",
       "    </tr>\n",
       "    <tr>\n",
       "      <th>2021-01-01 04:00:00</th>\n",
       "      <td>-1.70</td>\n",
       "      <td>-1279.0</td>\n",
       "      <td>-66.6935</td>\n",
       "    </tr>\n",
       "  </tbody>\n",
       "</table>\n",
       "</div>"
      ],
      "text/plain": [
       "                     price  demand  emissions\n",
       "data                                         \n",
       "2021-01-01 00:00:00   0.00     0.0     0.0000\n",
       "2021-01-01 01:00:00  -2.68  -955.0   -87.5000\n",
       "2021-01-01 02:00:00  -3.51 -1707.0  -566.6660\n",
       "2021-01-01 03:00:00  -6.18 -2153.0  -417.5545\n",
       "2021-01-01 04:00:00  -1.70 -1279.0   -66.6935"
      ]
     },
     "execution_count": 15,
     "metadata": {},
     "output_type": "execute_result"
    }
   ],
   "source": [
    "df.head()"
   ]
  },
  {
   "cell_type": "markdown",
   "id": "cd35a6c0",
   "metadata": {},
   "source": [
    "# Split into training and test"
   ]
  },
  {
   "cell_type": "code",
   "execution_count": 16,
   "id": "cb728a16",
   "metadata": {},
   "outputs": [],
   "source": [
    "# 80% for training and 20% for test\n",
    "n = len(df)\n",
    "train_df = df[0:int(n*0.8)]\n",
    "test_df = df[int(n*0.8):]"
   ]
  },
  {
   "cell_type": "markdown",
   "id": "e0820ca7",
   "metadata": {},
   "source": [
    "# Normalization/Standarization"
   ]
  },
  {
   "cell_type": "code",
   "execution_count": 17,
   "id": "ab8aca9a",
   "metadata": {},
   "outputs": [],
   "source": [
    "train_mean = train_df.mean()\n",
    "train_std = train_df.std()\n",
    "\n",
    "train_df = (train_df - train_mean) / train_std\n",
    "test_df = (test_df - train_mean) / train_std"
   ]
  },
  {
   "cell_type": "code",
   "execution_count": 18,
   "id": "6db7e4e5",
   "metadata": {},
   "outputs": [
    {
     "data": {
      "text/html": [
       "<div>\n",
       "<style scoped>\n",
       "    .dataframe tbody tr th:only-of-type {\n",
       "        vertical-align: middle;\n",
       "    }\n",
       "\n",
       "    .dataframe tbody tr th {\n",
       "        vertical-align: top;\n",
       "    }\n",
       "\n",
       "    .dataframe thead th {\n",
       "        text-align: right;\n",
       "    }\n",
       "</style>\n",
       "<table border=\"1\" class=\"dataframe\">\n",
       "  <thead>\n",
       "    <tr style=\"text-align: right;\">\n",
       "      <th></th>\n",
       "      <th>price</th>\n",
       "      <th>demand</th>\n",
       "      <th>emissions</th>\n",
       "    </tr>\n",
       "    <tr>\n",
       "      <th>data</th>\n",
       "      <th></th>\n",
       "      <th></th>\n",
       "      <th></th>\n",
       "    </tr>\n",
       "  </thead>\n",
       "  <tbody>\n",
       "    <tr>\n",
       "      <th>2021-01-01 00:00:00</th>\n",
       "      <td>-0.001166</td>\n",
       "      <td>0.000057</td>\n",
       "      <td>-0.000507</td>\n",
       "    </tr>\n",
       "    <tr>\n",
       "      <th>2021-01-01 01:00:00</th>\n",
       "      <td>-0.121941</td>\n",
       "      <td>-0.737243</td>\n",
       "      <td>-0.163255</td>\n",
       "    </tr>\n",
       "    <tr>\n",
       "      <th>2021-01-01 02:00:00</th>\n",
       "      <td>-0.159345</td>\n",
       "      <td>-1.317819</td>\n",
       "      <td>-1.054494</td>\n",
       "    </tr>\n",
       "    <tr>\n",
       "      <th>2021-01-01 03:00:00</th>\n",
       "      <td>-0.279669</td>\n",
       "      <td>-1.662149</td>\n",
       "      <td>-0.777150</td>\n",
       "    </tr>\n",
       "    <tr>\n",
       "      <th>2021-01-01 04:00:00</th>\n",
       "      <td>-0.077777</td>\n",
       "      <td>-0.987385</td>\n",
       "      <td>-0.124555</td>\n",
       "    </tr>\n",
       "  </tbody>\n",
       "</table>\n",
       "</div>"
      ],
      "text/plain": [
       "                        price    demand  emissions\n",
       "data                                              \n",
       "2021-01-01 00:00:00 -0.001166  0.000057  -0.000507\n",
       "2021-01-01 01:00:00 -0.121941 -0.737243  -0.163255\n",
       "2021-01-01 02:00:00 -0.159345 -1.317819  -1.054494\n",
       "2021-01-01 03:00:00 -0.279669 -1.662149  -0.777150\n",
       "2021-01-01 04:00:00 -0.077777 -0.987385  -0.124555"
      ]
     },
     "execution_count": 18,
     "metadata": {},
     "output_type": "execute_result"
    }
   ],
   "source": [
    "train_df.head()"
   ]
  },
  {
   "cell_type": "markdown",
   "id": "b93c3c59",
   "metadata": {},
   "source": [
    "# Window (delete)"
   ]
  },
  {
   "cell_type": "code",
   "execution_count": 19,
   "id": "651131c4",
   "metadata": {},
   "outputs": [
    {
     "data": {
      "text/plain": [
       "Total window size: 48\n",
       "Input indices: [ 0  1  2  3  4  5  6  7  8  9 10 11 12 13 14 15 16 17 18 19 20 21 22 23]\n",
       "Label indices: [24 25 26 27 28 29 30 31 32 33 34 35 36 37 38 39 40 41 42 43 44 45 46 47]\n",
       "Label column name(s): None"
      ]
     },
     "execution_count": 19,
     "metadata": {},
     "output_type": "execute_result"
    }
   ],
   "source": [
    "OUT_STEPS = 24\n",
    "multi_window = WindowGenerator(input_width=24, label_width=OUT_STEPS, shift=OUT_STEPS, train_df=train_df, test_df=test_df)\n",
    "multi_window"
   ]
  },
  {
   "cell_type": "code",
   "execution_count": 20,
   "id": "cb5555f4",
   "metadata": {},
   "outputs": [
    {
     "name": "stdout",
     "output_type": "stream",
     "text": [
      "All shapes are: (batch, time, features)\n",
      "Window shape: (3, 48, 3)\n",
      "Inputs shape: (3, 24, 3)\n",
      "Labels shape: (3, 24, 3)\n"
     ]
    }
   ],
   "source": [
    "example_window = tf.stack([np.array(test_df[:multi_window.total_window_size]),\n",
    "                           np.array(test_df[100:100+multi_window.total_window_size]),\n",
    "                           np.array(test_df[200:200+multi_window.total_window_size])\n",
    "                          ])\n",
    "\n",
    "example_inputs, example_labels = multi_window.split_window(example_window)\n",
    "\n",
    "print('All shapes are: (batch, time, features)')\n",
    "print(f'Window shape: {example_window.shape}')\n",
    "print(f'Inputs shape: {example_inputs.shape}')\n",
    "print(f'Labels shape: {example_labels.shape}')"
   ]
  },
  {
   "cell_type": "code",
   "execution_count": 21,
   "id": "8c6dfff6",
   "metadata": {},
   "outputs": [],
   "source": [
    "multi_window.example = example_inputs, example_labels"
   ]
  },
  {
   "cell_type": "markdown",
   "id": "b7b61a98",
   "metadata": {},
   "source": [
    "# AR Model"
   ]
  },
  {
   "cell_type": "code",
   "execution_count": 22,
   "id": "c588f297",
   "metadata": {},
   "outputs": [],
   "source": [
    "MAX_EPOCHS = 20\n",
    "OUT_STEPS = 24\n",
    "num_features=df.shape[1]\n",
    "patience = 4"
   ]
  },
  {
   "cell_type": "code",
   "execution_count": 23,
   "id": "0bb679e5",
   "metadata": {},
   "outputs": [],
   "source": [
    "multi_val_performance = {}\n",
    "multi_performance = {}"
   ]
  },
  {
   "cell_type": "markdown",
   "id": "9535400f",
   "metadata": {},
   "source": [
    "## Auxiliar methods"
   ]
  },
  {
   "cell_type": "code",
   "execution_count": 24,
   "id": "b88ccae1",
   "metadata": {},
   "outputs": [],
   "source": [
    "class FeedBack(tf.keras.Model):\n",
    "    def __init__(self, units, out_steps):\n",
    "        super().__init__()\n",
    "        self.out_steps = out_steps\n",
    "        self.units = units\n",
    "\n",
    "        self.lstm_cell = tf.keras.layers.LSTMCell(units)\n",
    "        # Also wrap the LSTMCell in an RNN to simplify the `warmup` method.\n",
    "        self.lstm_rnn = tf.keras.layers.RNN(self.lstm_cell, return_state=True)\n",
    "        self.dense = tf.keras.layers.Dense(num_features)"
   ]
  },
  {
   "cell_type": "code",
   "execution_count": 25,
   "id": "eb31af44",
   "metadata": {},
   "outputs": [],
   "source": [
    "def warmup(self, inputs):\n",
    "    # Forma del input => (batch, time, features)\n",
    "    # Forma de x => (batch, lstm_units)\n",
    "    x, *state = self.lstm_rnn(inputs)\n",
    "    \n",
    "    # Forma de la predicción => (batch, features)\n",
    "    prediction = self.dense(x)\n",
    "    return prediction, state\n",
    "\n",
    "FeedBack.warmup = warmup"
   ]
  },
  {
   "cell_type": "code",
   "execution_count": 26,
   "id": "10066352",
   "metadata": {},
   "outputs": [],
   "source": [
    "def call(self, inputs, training=None):\n",
    "    # Usar un TensorArray para capturar unrolled outputs automáticamente\n",
    "    predictions = []\n",
    "    # Inicializar el estado de LSTM\n",
    "    prediction, state = self.warmup(inputs)\n",
    "    \n",
    "    # Insertar la primera predicción\n",
    "    predictions.append(prediction)\n",
    "    \n",
    "    # Ejecutar el resto de pasos de la predicción\n",
    "    for n in range(1, self.out_steps):\n",
    "        # Usar la última predicción como input\n",
    "        x = prediction\n",
    "        # Ejecutar un paso de lstm\n",
    "        x, state = self.lstm_cell(x, states=state, training=training)\n",
    "        # Convertir la salida de lstm en una predicción\n",
    "        prediction = self.dense(x)\n",
    "        # Añadir la predicción al output\n",
    "        predictions.append(prediction)\n",
    "    \n",
    "    # Forma de predictions => (time, batch, features)\n",
    "    predictions = tf.stack(predictions)\n",
    "    # Forma de predictions => (batch, time, features)\n",
    "    predictions = tf.transpose(predictions, [1,0,2])\n",
    "    \n",
    "    return predictions\n",
    "\n",
    "FeedBack.call = call"
   ]
  },
  {
   "cell_type": "markdown",
   "id": "9fc170b3",
   "metadata": {},
   "source": [
    "## Convert the model into a function"
   ]
  },
  {
   "cell_type": "code",
   "execution_count": 27,
   "id": "c4dd7cec",
   "metadata": {},
   "outputs": [],
   "source": [
    "def train_test_model(hparams):\n",
    "    feedback_model = FeedBack(units=hparams[LSTM_UNITS], out_steps=OUT_STEPS)\n",
    "    \n",
    "    prediction, state = feedback_model.warmup(multi_window.example[0])\n",
    "    \n",
    "    early_stopping = tf.keras.callbacks.EarlyStopping(monitor='val_loss', patience=patience, mode='min')\n",
    "    \n",
    "    feedback_model.compile(loss=hparams[LOSS_FUNCTION],\n",
    "                 optimizer=hparams[OPTIMIZER],\n",
    "                 metrics=[tf.metrics.RootMeanSquaredError()])\n",
    "    \n",
    "    # Creating a Window\n",
    "    window = WindowGenerator(input_width=hparams[WINDOW_SIZE], label_width=OUT_STEPS, shift=OUT_STEPS, train_df=train_df, test_df=test_df)\n",
    "    \n",
    "    # History\n",
    "    history = feedback_model.fit(window.train, epochs=MAX_EPOCHS, validation_data = window.test, callbacks=[early_stopping])\n",
    "    \n",
    "    loss, rmse = feedback_model.evaluate(multi_window.test, verbose=0)\n",
    "    \n",
    "    \n",
    "    return rmse   "
   ]
  },
  {
   "cell_type": "markdown",
   "id": "e08749b1",
   "metadata": {},
   "source": [
    "## Optimization"
   ]
  },
  {
   "cell_type": "code",
   "execution_count": 28,
   "id": "37792b7e",
   "metadata": {},
   "outputs": [],
   "source": [
    "def run(run_dir, hparams):\n",
    "    with tf.summary.create_file_writer(run_dir).as_default():\n",
    "        hp.hparams(hparams)  # record the values used in this trial\n",
    "        rmse = train_test_model(hparams)\n",
    "        \n",
    "        tf.summary.scalar(METRIC_RMSE, rmse, step=1)"
   ]
  },
  {
   "cell_type": "code",
   "execution_count": 29,
   "id": "0fd79d10",
   "metadata": {},
   "outputs": [
    {
     "name": "stdout",
     "output_type": "stream",
     "text": [
      "--- Starting trial: run-0\n",
      "{'LSTM_units': 16, 'Optimizer': 'adam', 'WINDOW_SIZE': 12, 'Loss_function': 'MeanSquaredError'}\n"
     ]
    },
    {
     "ename": "NameError",
     "evalue": "name 'patience' is not defined",
     "output_type": "error",
     "traceback": [
      "\u001b[1;31m---------------------------------------------------------------------------\u001b[0m",
      "\u001b[1;31mNameError\u001b[0m                                 Traceback (most recent call last)",
      "\u001b[1;32m~\\AppData\\Local\\Temp/ipykernel_24116/1244484608.py\u001b[0m in \u001b[0;36m<module>\u001b[1;34m\u001b[0m\n\u001b[0;32m     14\u001b[0m                 \u001b[0mprint\u001b[0m\u001b[1;33m(\u001b[0m\u001b[1;34m'--- Starting trial: %s'\u001b[0m \u001b[1;33m%\u001b[0m \u001b[0mrun_name\u001b[0m\u001b[1;33m)\u001b[0m\u001b[1;33m\u001b[0m\u001b[1;33m\u001b[0m\u001b[0m\n\u001b[0;32m     15\u001b[0m                 \u001b[0mprint\u001b[0m\u001b[1;33m(\u001b[0m\u001b[1;33m{\u001b[0m\u001b[0mh\u001b[0m\u001b[1;33m.\u001b[0m\u001b[0mname\u001b[0m\u001b[1;33m:\u001b[0m \u001b[0mhparams\u001b[0m\u001b[1;33m[\u001b[0m\u001b[0mh\u001b[0m\u001b[1;33m]\u001b[0m \u001b[1;32mfor\u001b[0m \u001b[0mh\u001b[0m \u001b[1;32min\u001b[0m \u001b[0mhparams\u001b[0m\u001b[1;33m}\u001b[0m\u001b[1;33m)\u001b[0m\u001b[1;33m\u001b[0m\u001b[1;33m\u001b[0m\u001b[0m\n\u001b[1;32m---> 16\u001b[1;33m                 \u001b[0mrun\u001b[0m\u001b[1;33m(\u001b[0m\u001b[1;34m'logs/AR/'\u001b[0m \u001b[1;33m+\u001b[0m \u001b[0mrun_name\u001b[0m\u001b[1;33m,\u001b[0m \u001b[0mhparams\u001b[0m\u001b[1;33m)\u001b[0m\u001b[1;33m\u001b[0m\u001b[1;33m\u001b[0m\u001b[0m\n\u001b[0m\u001b[0;32m     17\u001b[0m                 \u001b[0msession_num\u001b[0m \u001b[1;33m+=\u001b[0m \u001b[1;36m1\u001b[0m\u001b[1;33m\u001b[0m\u001b[1;33m\u001b[0m\u001b[0m\n",
      "\u001b[1;32m~\\AppData\\Local\\Temp/ipykernel_24116/77925140.py\u001b[0m in \u001b[0;36mrun\u001b[1;34m(run_dir, hparams)\u001b[0m\n\u001b[0;32m      2\u001b[0m     \u001b[1;32mwith\u001b[0m \u001b[0mtf\u001b[0m\u001b[1;33m.\u001b[0m\u001b[0msummary\u001b[0m\u001b[1;33m.\u001b[0m\u001b[0mcreate_file_writer\u001b[0m\u001b[1;33m(\u001b[0m\u001b[0mrun_dir\u001b[0m\u001b[1;33m)\u001b[0m\u001b[1;33m.\u001b[0m\u001b[0mas_default\u001b[0m\u001b[1;33m(\u001b[0m\u001b[1;33m)\u001b[0m\u001b[1;33m:\u001b[0m\u001b[1;33m\u001b[0m\u001b[1;33m\u001b[0m\u001b[0m\n\u001b[0;32m      3\u001b[0m         \u001b[0mhp\u001b[0m\u001b[1;33m.\u001b[0m\u001b[0mhparams\u001b[0m\u001b[1;33m(\u001b[0m\u001b[0mhparams\u001b[0m\u001b[1;33m)\u001b[0m  \u001b[1;31m# record the values used in this trial\u001b[0m\u001b[1;33m\u001b[0m\u001b[1;33m\u001b[0m\u001b[0m\n\u001b[1;32m----> 4\u001b[1;33m         \u001b[0mrmse\u001b[0m \u001b[1;33m=\u001b[0m \u001b[0mtrain_test_model\u001b[0m\u001b[1;33m(\u001b[0m\u001b[0mhparams\u001b[0m\u001b[1;33m)\u001b[0m\u001b[1;33m\u001b[0m\u001b[1;33m\u001b[0m\u001b[0m\n\u001b[0m\u001b[0;32m      5\u001b[0m \u001b[1;33m\u001b[0m\u001b[0m\n\u001b[0;32m      6\u001b[0m         \u001b[0mtf\u001b[0m\u001b[1;33m.\u001b[0m\u001b[0msummary\u001b[0m\u001b[1;33m.\u001b[0m\u001b[0mscalar\u001b[0m\u001b[1;33m(\u001b[0m\u001b[0mMETRIC_RMSE\u001b[0m\u001b[1;33m,\u001b[0m \u001b[0mrmse\u001b[0m\u001b[1;33m,\u001b[0m \u001b[0mstep\u001b[0m\u001b[1;33m=\u001b[0m\u001b[1;36m1\u001b[0m\u001b[1;33m)\u001b[0m\u001b[1;33m\u001b[0m\u001b[1;33m\u001b[0m\u001b[0m\n",
      "\u001b[1;32m~\\AppData\\Local\\Temp/ipykernel_24116/2649944286.py\u001b[0m in \u001b[0;36mtrain_test_model\u001b[1;34m(hparams)\u001b[0m\n\u001b[0;32m      4\u001b[0m     \u001b[0mprediction\u001b[0m\u001b[1;33m,\u001b[0m \u001b[0mstate\u001b[0m \u001b[1;33m=\u001b[0m \u001b[0mfeedback_model\u001b[0m\u001b[1;33m.\u001b[0m\u001b[0mwarmup\u001b[0m\u001b[1;33m(\u001b[0m\u001b[0mmulti_window\u001b[0m\u001b[1;33m.\u001b[0m\u001b[0mexample\u001b[0m\u001b[1;33m[\u001b[0m\u001b[1;36m0\u001b[0m\u001b[1;33m]\u001b[0m\u001b[1;33m)\u001b[0m\u001b[1;33m\u001b[0m\u001b[1;33m\u001b[0m\u001b[0m\n\u001b[0;32m      5\u001b[0m \u001b[1;33m\u001b[0m\u001b[0m\n\u001b[1;32m----> 6\u001b[1;33m     \u001b[0mearly_stopping\u001b[0m \u001b[1;33m=\u001b[0m \u001b[0mtf\u001b[0m\u001b[1;33m.\u001b[0m\u001b[0mkeras\u001b[0m\u001b[1;33m.\u001b[0m\u001b[0mcallbacks\u001b[0m\u001b[1;33m.\u001b[0m\u001b[0mEarlyStopping\u001b[0m\u001b[1;33m(\u001b[0m\u001b[0mmonitor\u001b[0m\u001b[1;33m=\u001b[0m\u001b[1;34m'val_loss'\u001b[0m\u001b[1;33m,\u001b[0m \u001b[0mpatience\u001b[0m\u001b[1;33m=\u001b[0m\u001b[0mpatience\u001b[0m\u001b[1;33m,\u001b[0m \u001b[0mmode\u001b[0m\u001b[1;33m=\u001b[0m\u001b[1;34m'min'\u001b[0m\u001b[1;33m)\u001b[0m\u001b[1;33m\u001b[0m\u001b[1;33m\u001b[0m\u001b[0m\n\u001b[0m\u001b[0;32m      7\u001b[0m \u001b[1;33m\u001b[0m\u001b[0m\n\u001b[0;32m      8\u001b[0m     feedback_model.compile(loss=hparams[LOSS_FUNCTION],\n",
      "\u001b[1;31mNameError\u001b[0m: name 'patience' is not defined"
     ]
    }
   ],
   "source": [
    "session_num = 0\n",
    "\n",
    "for lstm_unit in LSTM_UNITS.domain.values:\n",
    "    for optimizer in OPTIMIZER.domain.values:\n",
    "        for loss_function in LOSS_FUNCTION.domain.values:\n",
    "            for window_size in WINDOW_SIZE.domain.values:\n",
    "                hparams = {\n",
    "                    LSTM_UNITS: lstm_unit,\n",
    "                    OPTIMIZER: optimizer,\n",
    "                    WINDOW_SIZE: window_size,\n",
    "                    LOSS_FUNCTION: loss_function\n",
    "                }\n",
    "                run_name = \"run-%d\" % session_num\n",
    "                print('--- Starting trial: %s' % run_name)\n",
    "                print({h.name: hparams[h] for h in hparams})\n",
    "                run('logs/AR/' + run_name, hparams)\n",
    "                session_num += 1"
   ]
  }
 ],
 "metadata": {
  "kernelspec": {
   "display_name": "Python 3 (ipykernel)",
   "language": "python",
   "name": "python3"
  },
  "language_info": {
   "codemirror_mode": {
    "name": "ipython",
    "version": 3
   },
   "file_extension": ".py",
   "mimetype": "text/x-python",
   "name": "python",
   "nbconvert_exporter": "python",
   "pygments_lexer": "ipython3",
   "version": "3.9.7"
  }
 },
 "nbformat": 4,
 "nbformat_minor": 5
}
