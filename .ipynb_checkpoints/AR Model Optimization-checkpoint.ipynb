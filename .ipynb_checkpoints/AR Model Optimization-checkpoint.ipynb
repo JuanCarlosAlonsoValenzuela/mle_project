{
 "cells": [
  {
   "cell_type": "markdown",
   "id": "3c0c1747",
   "metadata": {},
   "source": [
    "# Optimizing the Autoregressive model"
   ]
  },
  {
   "cell_type": "code",
   "execution_count": 1,
   "id": "f58a2c41",
   "metadata": {},
   "outputs": [],
   "source": [
    "import pandas as pd\n",
    "import tensorflow as tf\n",
    "import numpy as np\n",
    "import matplotlib.pyplot as plt\n",
    "import seaborn as sns"
   ]
  },
  {
   "cell_type": "code",
   "execution_count": 2,
   "id": "c7b445fd",
   "metadata": {},
   "outputs": [],
   "source": [
    "# Loading TensorBoard\n",
    "%load_ext tensorboard"
   ]
  },
  {
   "cell_type": "code",
   "execution_count": 3,
   "id": "69ba3312",
   "metadata": {},
   "outputs": [],
   "source": [
    "from tensorboard.plugins.hparams import api as hp"
   ]
  },
  {
   "cell_type": "code",
   "execution_count": 4,
   "id": "dbd1c402",
   "metadata": {},
   "outputs": [],
   "source": [
    "import random\n",
    "random.seed(123)"
   ]
  },
  {
   "cell_type": "code",
   "execution_count": 5,
   "id": "ad24b6d7",
   "metadata": {},
   "outputs": [],
   "source": [
    "# import window_generator as WindowGenerator\n",
    "from window_generator import WindowGenerator"
   ]
  },
  {
   "cell_type": "markdown",
   "id": "c937ccfd",
   "metadata": {},
   "source": [
    "# Configuring hyperparameters"
   ]
  },
  {
   "cell_type": "code",
   "execution_count": 6,
   "id": "5ecc1c81",
   "metadata": {},
   "outputs": [],
   "source": [
    "# TODO"
   ]
  },
  {
   "cell_type": "markdown",
   "id": "632eaa77",
   "metadata": {},
   "source": [
    "# Loading the dataset"
   ]
  },
  {
   "cell_type": "code",
   "execution_count": 7,
   "id": "73ddcf61",
   "metadata": {},
   "outputs": [
    {
     "data": {
      "text/html": [
       "<div>\n",
       "<style scoped>\n",
       "    .dataframe tbody tr th:only-of-type {\n",
       "        vertical-align: middle;\n",
       "    }\n",
       "\n",
       "    .dataframe tbody tr th {\n",
       "        vertical-align: top;\n",
       "    }\n",
       "\n",
       "    .dataframe thead th {\n",
       "        text-align: right;\n",
       "    }\n",
       "</style>\n",
       "<table border=\"1\" class=\"dataframe\">\n",
       "  <thead>\n",
       "    <tr style=\"text-align: right;\">\n",
       "      <th></th>\n",
       "      <th>price</th>\n",
       "      <th>demand</th>\n",
       "      <th>emissions</th>\n",
       "    </tr>\n",
       "    <tr>\n",
       "      <th>data</th>\n",
       "      <th></th>\n",
       "      <th></th>\n",
       "      <th></th>\n",
       "    </tr>\n",
       "  </thead>\n",
       "  <tbody>\n",
       "    <tr>\n",
       "      <th>2017-01-01 00:00:00</th>\n",
       "      <td>58.82</td>\n",
       "      <td>24682</td>\n",
       "      <td>14467.2840</td>\n",
       "    </tr>\n",
       "    <tr>\n",
       "      <th>2017-01-01 01:00:00</th>\n",
       "      <td>58.23</td>\n",
       "      <td>24046</td>\n",
       "      <td>14173.8295</td>\n",
       "    </tr>\n",
       "    <tr>\n",
       "      <th>2017-01-01 02:00:00</th>\n",
       "      <td>51.95</td>\n",
       "      <td>22665</td>\n",
       "      <td>13198.0690</td>\n",
       "    </tr>\n",
       "    <tr>\n",
       "      <th>2017-01-01 03:00:00</th>\n",
       "      <td>47.27</td>\n",
       "      <td>21200</td>\n",
       "      <td>12510.7595</td>\n",
       "    </tr>\n",
       "    <tr>\n",
       "      <th>2017-01-01 04:00:00</th>\n",
       "      <td>45.49</td>\n",
       "      <td>20056</td>\n",
       "      <td>12203.7315</td>\n",
       "    </tr>\n",
       "  </tbody>\n",
       "</table>\n",
       "</div>"
      ],
      "text/plain": [
       "                     price  demand   emissions\n",
       "data                                          \n",
       "2017-01-01 00:00:00  58.82   24682  14467.2840\n",
       "2017-01-01 01:00:00  58.23   24046  14173.8295\n",
       "2017-01-01 02:00:00  51.95   22665  13198.0690\n",
       "2017-01-01 03:00:00  47.27   21200  12510.7595\n",
       "2017-01-01 04:00:00  45.49   20056  12203.7315"
      ]
     },
     "execution_count": 7,
     "metadata": {},
     "output_type": "execute_result"
    }
   ],
   "source": [
    "df = pd.read_csv('extracted_data/csv/hour_merged.csv',\n",
    "                 parse_dates={'data': ['date', 'time']},\n",
    "                 infer_datetime_format=True,\n",
    "                 dayfirst=False,\n",
    "                 index_col='data'\n",
    "                )\n",
    "\n",
    "\n",
    "df.head()"
   ]
  },
  {
   "cell_type": "code",
   "execution_count": 8,
   "id": "2a711f22",
   "metadata": {},
   "outputs": [],
   "source": [
    "# Select data from 2021\n",
    "df = df[int((len(df)*0.8)):]"
   ]
  },
  {
   "cell_type": "markdown",
   "id": "db326b6f",
   "metadata": {},
   "source": [
    "# Differencing"
   ]
  },
  {
   "cell_type": "code",
   "execution_count": 9,
   "id": "905368ef",
   "metadata": {},
   "outputs": [
    {
     "data": {
      "text/html": [
       "<div>\n",
       "<style scoped>\n",
       "    .dataframe tbody tr th:only-of-type {\n",
       "        vertical-align: middle;\n",
       "    }\n",
       "\n",
       "    .dataframe tbody tr th {\n",
       "        vertical-align: top;\n",
       "    }\n",
       "\n",
       "    .dataframe thead th {\n",
       "        text-align: right;\n",
       "    }\n",
       "</style>\n",
       "<table border=\"1\" class=\"dataframe\">\n",
       "  <thead>\n",
       "    <tr style=\"text-align: right;\">\n",
       "      <th></th>\n",
       "      <th>price</th>\n",
       "      <th>demand</th>\n",
       "      <th>emissions</th>\n",
       "    </tr>\n",
       "    <tr>\n",
       "      <th>data</th>\n",
       "      <th></th>\n",
       "      <th></th>\n",
       "      <th></th>\n",
       "    </tr>\n",
       "  </thead>\n",
       "  <tbody>\n",
       "    <tr>\n",
       "      <th>2021-01-01 00:00:00</th>\n",
       "      <td>50.87</td>\n",
       "      <td>25134</td>\n",
       "      <td>6356.6480</td>\n",
       "    </tr>\n",
       "    <tr>\n",
       "      <th>2021-01-01 01:00:00</th>\n",
       "      <td>48.19</td>\n",
       "      <td>24179</td>\n",
       "      <td>6269.1480</td>\n",
       "    </tr>\n",
       "    <tr>\n",
       "      <th>2021-01-01 02:00:00</th>\n",
       "      <td>44.68</td>\n",
       "      <td>22472</td>\n",
       "      <td>5702.4820</td>\n",
       "    </tr>\n",
       "    <tr>\n",
       "      <th>2021-01-01 03:00:00</th>\n",
       "      <td>38.50</td>\n",
       "      <td>20319</td>\n",
       "      <td>5284.9275</td>\n",
       "    </tr>\n",
       "    <tr>\n",
       "      <th>2021-01-01 04:00:00</th>\n",
       "      <td>36.80</td>\n",
       "      <td>19040</td>\n",
       "      <td>5218.2340</td>\n",
       "    </tr>\n",
       "  </tbody>\n",
       "</table>\n",
       "</div>"
      ],
      "text/plain": [
       "                     price  demand  emissions\n",
       "data                                         \n",
       "2021-01-01 00:00:00  50.87   25134  6356.6480\n",
       "2021-01-01 01:00:00  48.19   24179  6269.1480\n",
       "2021-01-01 02:00:00  44.68   22472  5702.4820\n",
       "2021-01-01 03:00:00  38.50   20319  5284.9275\n",
       "2021-01-01 04:00:00  36.80   19040  5218.2340"
      ]
     },
     "execution_count": 9,
     "metadata": {},
     "output_type": "execute_result"
    }
   ],
   "source": [
    "df.head()"
   ]
  },
  {
   "cell_type": "code",
   "execution_count": 10,
   "id": "d7f05601",
   "metadata": {},
   "outputs": [],
   "source": [
    "def difference(dataset, interval=1):\n",
    "    diff = list()\n",
    "    for i in range(interval, len(dataset)):\n",
    "        value = dataset[i] - dataset[i - interval]\n",
    "        diff.append(value)\n",
    "    return pd.Series(diff)"
   ]
  },
  {
   "cell_type": "code",
   "execution_count": 11,
   "id": "9aed4882",
   "metadata": {},
   "outputs": [],
   "source": [
    "diff_price = difference(df['price'])\n",
    "diff_emissions = difference(df['emissions'])\n",
    "diff_demand = difference(df['demand'])"
   ]
  },
  {
   "cell_type": "code",
   "execution_count": 12,
   "id": "ebd13da8",
   "metadata": {},
   "outputs": [],
   "source": [
    "s1 = pd.Series([0.0])\n",
    "diff_price = s1.append(diff_price, ignore_index=True)\n",
    "diff_emissions = s1.append(diff_emissions, ignore_index=True)\n",
    "diff_demand = s1.append(diff_demand, ignore_index=True)"
   ]
  },
  {
   "cell_type": "code",
   "execution_count": 13,
   "id": "1e397895",
   "metadata": {},
   "outputs": [],
   "source": [
    "df['price'] = diff_price.values\n",
    "df['demand'] = diff_demand.values\n",
    "df['emissions'] = diff_emissions.values"
   ]
  },
  {
   "cell_type": "code",
   "execution_count": 14,
   "id": "df949a16",
   "metadata": {},
   "outputs": [
    {
     "data": {
      "text/html": [
       "<div>\n",
       "<style scoped>\n",
       "    .dataframe tbody tr th:only-of-type {\n",
       "        vertical-align: middle;\n",
       "    }\n",
       "\n",
       "    .dataframe tbody tr th {\n",
       "        vertical-align: top;\n",
       "    }\n",
       "\n",
       "    .dataframe thead th {\n",
       "        text-align: right;\n",
       "    }\n",
       "</style>\n",
       "<table border=\"1\" class=\"dataframe\">\n",
       "  <thead>\n",
       "    <tr style=\"text-align: right;\">\n",
       "      <th></th>\n",
       "      <th>price</th>\n",
       "      <th>demand</th>\n",
       "      <th>emissions</th>\n",
       "    </tr>\n",
       "    <tr>\n",
       "      <th>data</th>\n",
       "      <th></th>\n",
       "      <th></th>\n",
       "      <th></th>\n",
       "    </tr>\n",
       "  </thead>\n",
       "  <tbody>\n",
       "    <tr>\n",
       "      <th>2021-01-01 00:00:00</th>\n",
       "      <td>0.00</td>\n",
       "      <td>0.0</td>\n",
       "      <td>0.0000</td>\n",
       "    </tr>\n",
       "    <tr>\n",
       "      <th>2021-01-01 01:00:00</th>\n",
       "      <td>-2.68</td>\n",
       "      <td>-955.0</td>\n",
       "      <td>-87.5000</td>\n",
       "    </tr>\n",
       "    <tr>\n",
       "      <th>2021-01-01 02:00:00</th>\n",
       "      <td>-3.51</td>\n",
       "      <td>-1707.0</td>\n",
       "      <td>-566.6660</td>\n",
       "    </tr>\n",
       "    <tr>\n",
       "      <th>2021-01-01 03:00:00</th>\n",
       "      <td>-6.18</td>\n",
       "      <td>-2153.0</td>\n",
       "      <td>-417.5545</td>\n",
       "    </tr>\n",
       "    <tr>\n",
       "      <th>2021-01-01 04:00:00</th>\n",
       "      <td>-1.70</td>\n",
       "      <td>-1279.0</td>\n",
       "      <td>-66.6935</td>\n",
       "    </tr>\n",
       "  </tbody>\n",
       "</table>\n",
       "</div>"
      ],
      "text/plain": [
       "                     price  demand  emissions\n",
       "data                                         \n",
       "2021-01-01 00:00:00   0.00     0.0     0.0000\n",
       "2021-01-01 01:00:00  -2.68  -955.0   -87.5000\n",
       "2021-01-01 02:00:00  -3.51 -1707.0  -566.6660\n",
       "2021-01-01 03:00:00  -6.18 -2153.0  -417.5545\n",
       "2021-01-01 04:00:00  -1.70 -1279.0   -66.6935"
      ]
     },
     "execution_count": 14,
     "metadata": {},
     "output_type": "execute_result"
    }
   ],
   "source": [
    "df.head()"
   ]
  },
  {
   "cell_type": "markdown",
   "id": "579304cd",
   "metadata": {},
   "source": [
    "# Split into training and test"
   ]
  },
  {
   "cell_type": "code",
   "execution_count": 15,
   "id": "79091cae",
   "metadata": {},
   "outputs": [],
   "source": [
    "# 80% for training and 20% for test\n",
    "n = len(df)\n",
    "train_df = df[0:int(n*0.8)]\n",
    "test_df = df[int(n*0.8):]"
   ]
  },
  {
   "cell_type": "markdown",
   "id": "ea4b4f3e",
   "metadata": {},
   "source": [
    "# Normalization/Standarization"
   ]
  },
  {
   "cell_type": "code",
   "execution_count": 16,
   "id": "712e108e",
   "metadata": {},
   "outputs": [],
   "source": [
    "train_mean = train_df.mean()\n",
    "train_std = train_df.std()\n",
    "\n",
    "train_df = (train_df - train_mean) / train_std\n",
    "test_df = (test_df - train_mean) / train_std"
   ]
  },
  {
   "cell_type": "code",
   "execution_count": 17,
   "id": "b71be1a2",
   "metadata": {},
   "outputs": [
    {
     "data": {
      "text/html": [
       "<div>\n",
       "<style scoped>\n",
       "    .dataframe tbody tr th:only-of-type {\n",
       "        vertical-align: middle;\n",
       "    }\n",
       "\n",
       "    .dataframe tbody tr th {\n",
       "        vertical-align: top;\n",
       "    }\n",
       "\n",
       "    .dataframe thead th {\n",
       "        text-align: right;\n",
       "    }\n",
       "</style>\n",
       "<table border=\"1\" class=\"dataframe\">\n",
       "  <thead>\n",
       "    <tr style=\"text-align: right;\">\n",
       "      <th></th>\n",
       "      <th>price</th>\n",
       "      <th>demand</th>\n",
       "      <th>emissions</th>\n",
       "    </tr>\n",
       "    <tr>\n",
       "      <th>data</th>\n",
       "      <th></th>\n",
       "      <th></th>\n",
       "      <th></th>\n",
       "    </tr>\n",
       "  </thead>\n",
       "  <tbody>\n",
       "    <tr>\n",
       "      <th>2021-01-01 00:00:00</th>\n",
       "      <td>-0.001166</td>\n",
       "      <td>0.000057</td>\n",
       "      <td>-0.000507</td>\n",
       "    </tr>\n",
       "    <tr>\n",
       "      <th>2021-01-01 01:00:00</th>\n",
       "      <td>-0.121941</td>\n",
       "      <td>-0.737243</td>\n",
       "      <td>-0.163255</td>\n",
       "    </tr>\n",
       "    <tr>\n",
       "      <th>2021-01-01 02:00:00</th>\n",
       "      <td>-0.159345</td>\n",
       "      <td>-1.317819</td>\n",
       "      <td>-1.054494</td>\n",
       "    </tr>\n",
       "    <tr>\n",
       "      <th>2021-01-01 03:00:00</th>\n",
       "      <td>-0.279669</td>\n",
       "      <td>-1.662149</td>\n",
       "      <td>-0.777150</td>\n",
       "    </tr>\n",
       "    <tr>\n",
       "      <th>2021-01-01 04:00:00</th>\n",
       "      <td>-0.077777</td>\n",
       "      <td>-0.987385</td>\n",
       "      <td>-0.124555</td>\n",
       "    </tr>\n",
       "  </tbody>\n",
       "</table>\n",
       "</div>"
      ],
      "text/plain": [
       "                        price    demand  emissions\n",
       "data                                              \n",
       "2021-01-01 00:00:00 -0.001166  0.000057  -0.000507\n",
       "2021-01-01 01:00:00 -0.121941 -0.737243  -0.163255\n",
       "2021-01-01 02:00:00 -0.159345 -1.317819  -1.054494\n",
       "2021-01-01 03:00:00 -0.279669 -1.662149  -0.777150\n",
       "2021-01-01 04:00:00 -0.077777 -0.987385  -0.124555"
      ]
     },
     "execution_count": 17,
     "metadata": {},
     "output_type": "execute_result"
    }
   ],
   "source": [
    "train_df.head()"
   ]
  },
  {
   "cell_type": "markdown",
   "id": "dcb3c12a",
   "metadata": {},
   "source": [
    "# Window (delete)"
   ]
  },
  {
   "cell_type": "code",
   "execution_count": 18,
   "id": "9f101ba0",
   "metadata": {},
   "outputs": [
    {
     "data": {
      "text/plain": [
       "Total window size: 48\n",
       "Input indices: [ 0  1  2  3  4  5  6  7  8  9 10 11 12 13 14 15 16 17 18 19 20 21 22 23]\n",
       "Label indices: [24 25 26 27 28 29 30 31 32 33 34 35 36 37 38 39 40 41 42 43 44 45 46 47]\n",
       "Label column name(s): None"
      ]
     },
     "execution_count": 18,
     "metadata": {},
     "output_type": "execute_result"
    }
   ],
   "source": [
    "OUT_STEPS = 24\n",
    "multi_window = WindowGenerator(input_width=24, label_width=OUT_STEPS, shift=OUT_STEPS, train_df=train_df, test_df=test_df)\n",
    "multi_window"
   ]
  },
  {
   "cell_type": "code",
   "execution_count": 19,
   "id": "a1059e64",
   "metadata": {},
   "outputs": [
    {
     "name": "stdout",
     "output_type": "stream",
     "text": [
      "All shapes are: (batch, time, features)\n",
      "Window shape: (3, 48, 3)\n",
      "Inputs shape: (3, 24, 3)\n",
      "Labels shape: (3, 24, 3)\n"
     ]
    }
   ],
   "source": [
    "example_window = tf.stack([np.array(test_df[:multi_window.total_window_size]),\n",
    "                           np.array(test_df[100:100+multi_window.total_window_size]),\n",
    "                           np.array(test_df[200:200+multi_window.total_window_size])\n",
    "                          ])\n",
    "\n",
    "example_inputs, example_labels = multi_window.split_window(example_window)\n",
    "\n",
    "print('All shapes are: (batch, time, features)')\n",
    "print(f'Window shape: {example_window.shape}')\n",
    "print(f'Inputs shape: {example_inputs.shape}')\n",
    "print(f'Labels shape: {example_labels.shape}')"
   ]
  },
  {
   "cell_type": "code",
   "execution_count": 20,
   "id": "eb973adc",
   "metadata": {},
   "outputs": [],
   "source": [
    "multi_window.example = example_inputs, example_labels"
   ]
  },
  {
   "cell_type": "markdown",
   "id": "4ae4e556",
   "metadata": {},
   "source": [
    "# AR Model"
   ]
  },
  {
   "cell_type": "code",
   "execution_count": 21,
   "id": "03bd34e5",
   "metadata": {},
   "outputs": [],
   "source": [
    "MAX_EPOCHS = 20\n",
    "OUT_STEPS = 24\n",
    "num_features=df.shape[1]"
   ]
  },
  {
   "cell_type": "code",
   "execution_count": 22,
   "id": "0e51a56d",
   "metadata": {},
   "outputs": [],
   "source": [
    "multi_val_performance = {}\n",
    "multi_performance = {}"
   ]
  },
  {
   "cell_type": "markdown",
   "id": "5b724ed9",
   "metadata": {},
   "source": [
    "# Functions to replace (Begin)"
   ]
  },
  {
   "cell_type": "code",
   "execution_count": 23,
   "id": "065c443d",
   "metadata": {},
   "outputs": [],
   "source": [
    "def compile_and_fit(model, window, patience=4):\n",
    "    early_stopping = tf.keras.callbacks.EarlyStopping(monitor='val_loss', patience=patience, mode='min')\n",
    "    \n",
    "    model.compile(loss=tf.losses.MeanSquaredError(),\n",
    "                 optimizer=tf.optimizers.Adam(),\n",
    "                 metrics=[tf.metrics.MeanAbsoluteError(), tf.metrics.RootMeanSquaredError()])\n",
    "    \n",
    "    history = model.fit(window.train, epochs=MAX_EPOCHS, validation_data = window.test, callbacks=[early_stopping])\n",
    "    \n",
    "    return history"
   ]
  },
  {
   "cell_type": "markdown",
   "id": "beb08c2a",
   "metadata": {},
   "source": [
    "# Functions to replace (End)"
   ]
  },
  {
   "cell_type": "code",
   "execution_count": 24,
   "id": "50320c83",
   "metadata": {},
   "outputs": [],
   "source": [
    "class FeedBack(tf.keras.Model):\n",
    "    def __init__(self, units, out_steps):\n",
    "        super().__init__()\n",
    "        self.out_steps = out_steps\n",
    "        self.units = units\n",
    "\n",
    "        self.lstm_cell = tf.keras.layers.LSTMCell(units)\n",
    "        # Also wrap the LSTMCell in an RNN to simplify the `warmup` method.\n",
    "        self.lstm_rnn = tf.keras.layers.RNN(self.lstm_cell, return_state=True)\n",
    "        self.dense = tf.keras.layers.Dense(num_features)"
   ]
  },
  {
   "cell_type": "code",
   "execution_count": 25,
   "id": "a1a63d79",
   "metadata": {},
   "outputs": [],
   "source": [
    "feedback_model = FeedBack(units=32, out_steps=OUT_STEPS)"
   ]
  },
  {
   "cell_type": "code",
   "execution_count": 26,
   "id": "d753f7db",
   "metadata": {},
   "outputs": [],
   "source": [
    "def warmup(self, inputs):\n",
    "    # Forma del input => (batch, time, features)\n",
    "    # Forma de x => (batch, lstm_units)\n",
    "    x, *state = self.lstm_rnn(inputs)\n",
    "    \n",
    "    # Forma de la predicción => (batch, features)\n",
    "    prediction = self.dense(x)\n",
    "    return prediction, state\n",
    "\n",
    "FeedBack.warmup = warmup"
   ]
  },
  {
   "cell_type": "code",
   "execution_count": 27,
   "id": "d797d432",
   "metadata": {},
   "outputs": [
    {
     "data": {
      "text/plain": [
       "TensorShape([3, 3])"
      ]
     },
     "execution_count": 27,
     "metadata": {},
     "output_type": "execute_result"
    }
   ],
   "source": [
    "prediction, state = feedback_model.warmup(multi_window.example[0])\n",
    "prediction.shape"
   ]
  },
  {
   "cell_type": "code",
   "execution_count": 28,
   "id": "1927536c",
   "metadata": {},
   "outputs": [],
   "source": [
    "def call(self, inputs, training=None):\n",
    "    # Usar un TensorArray para capturar unrolled outputs automáticamente\n",
    "    predictions = []\n",
    "    # Inicializar el estado de LSTM\n",
    "    prediction, state = self.warmup(inputs)\n",
    "    \n",
    "    # Insertar la primera predicción\n",
    "    predictions.append(prediction)\n",
    "    \n",
    "    # Ejecutar el resto de pasos de la predicción\n",
    "    for n in range(1, self.out_steps):\n",
    "        # Usar la última predicción como input\n",
    "        x = prediction\n",
    "        # Ejecutar un paso de lstm\n",
    "        x, state = self.lstm_cell(x, states=state, training=training)\n",
    "        # Convertir la salida de lstm en una predicción\n",
    "        prediction = self.dense(x)\n",
    "        # Añadir la predicción al output\n",
    "        predictions.append(prediction)\n",
    "    \n",
    "    # Forma de predictions => (time, batch, features)\n",
    "    predictions = tf.stack(predictions)\n",
    "    # Forma de predictions => (batch, time, features)\n",
    "    predictions = tf.transpose(predictions, [1,0,2])\n",
    "    \n",
    "    return predictions\n",
    "\n",
    "FeedBack.call = call"
   ]
  },
  {
   "cell_type": "code",
   "execution_count": 29,
   "id": "e9673c21",
   "metadata": {},
   "outputs": [
    {
     "name": "stdout",
     "output_type": "stream",
     "text": [
      "Forma del output:  (3, 24, 3)\n"
     ]
    }
   ],
   "source": [
    "print('Forma del output: ', feedback_model(multi_window.example[0]).shape)"
   ]
  },
  {
   "cell_type": "code",
   "execution_count": 30,
   "id": "710afe8a",
   "metadata": {
    "scrolled": true
   },
   "outputs": [
    {
     "name": "stdout",
     "output_type": "stream",
     "text": [
      "Epoch 1/20\n",
      "218/218 [==============================] - 5s 10ms/step - loss: 0.7302 - mean_absolute_error: 0.5453 - root_mean_squared_error: 0.8545 - val_loss: 0.8564 - val_mean_absolute_error: 0.6223 - val_root_mean_squared_error: 0.9254\n",
      "Epoch 2/20\n",
      "218/218 [==============================] - 2s 8ms/step - loss: 0.5469 - mean_absolute_error: 0.4846 - root_mean_squared_error: 0.7395 - val_loss: 0.8394 - val_mean_absolute_error: 0.6180 - val_root_mean_squared_error: 0.9162\n",
      "Epoch 3/20\n",
      "218/218 [==============================] - 2s 7ms/step - loss: 0.5235 - mean_absolute_error: 0.4760 - root_mean_squared_error: 0.7235 - val_loss: 0.7212 - val_mean_absolute_error: 0.5800 - val_root_mean_squared_error: 0.8492\n",
      "Epoch 4/20\n",
      "218/218 [==============================] - 2s 7ms/step - loss: 0.4921 - mean_absolute_error: 0.4651 - root_mean_squared_error: 0.7015 - val_loss: 0.7005 - val_mean_absolute_error: 0.5745 - val_root_mean_squared_error: 0.8369\n",
      "Epoch 5/20\n",
      "218/218 [==============================] - 2s 7ms/step - loss: 0.4468 - mean_absolute_error: 0.4483 - root_mean_squared_error: 0.6684 - val_loss: 0.6837 - val_mean_absolute_error: 0.5706 - val_root_mean_squared_error: 0.8269\n",
      "Epoch 6/20\n",
      "218/218 [==============================] - 2s 7ms/step - loss: 0.4182 - mean_absolute_error: 0.4342 - root_mean_squared_error: 0.6467 - val_loss: 0.6935 - val_mean_absolute_error: 0.5772 - val_root_mean_squared_error: 0.8327\n",
      "Epoch 7/20\n",
      "218/218 [==============================] - 2s 7ms/step - loss: 0.4015 - mean_absolute_error: 0.4246 - root_mean_squared_error: 0.6336 - val_loss: 0.6832 - val_mean_absolute_error: 0.5735 - val_root_mean_squared_error: 0.8265\n",
      "Epoch 8/20\n",
      "218/218 [==============================] - 2s 7ms/step - loss: 0.3850 - mean_absolute_error: 0.4159 - root_mean_squared_error: 0.6205 - val_loss: 0.6854 - val_mean_absolute_error: 0.5749 - val_root_mean_squared_error: 0.8279\n",
      "Epoch 9/20\n",
      "218/218 [==============================] - 2s 8ms/step - loss: 0.3711 - mean_absolute_error: 0.4094 - root_mean_squared_error: 0.6092 - val_loss: 0.6801 - val_mean_absolute_error: 0.5725 - val_root_mean_squared_error: 0.8247\n",
      "Epoch 10/20\n",
      "218/218 [==============================] - 2s 8ms/step - loss: 0.3565 - mean_absolute_error: 0.4035 - root_mean_squared_error: 0.5971 - val_loss: 0.6923 - val_mean_absolute_error: 0.5805 - val_root_mean_squared_error: 0.8321\n",
      "Epoch 11/20\n",
      "218/218 [==============================] - 2s 8ms/step - loss: 0.3412 - mean_absolute_error: 0.3967 - root_mean_squared_error: 0.5841 - val_loss: 0.6777 - val_mean_absolute_error: 0.5745 - val_root_mean_squared_error: 0.8232\n",
      "Epoch 12/20\n",
      "218/218 [==============================] - 2s 8ms/step - loss: 0.3264 - mean_absolute_error: 0.3902 - root_mean_squared_error: 0.5713 - val_loss: 0.6701 - val_mean_absolute_error: 0.5711 - val_root_mean_squared_error: 0.8186\n",
      "Epoch 13/20\n",
      "218/218 [==============================] - 2s 8ms/step - loss: 0.3120 - mean_absolute_error: 0.3829 - root_mean_squared_error: 0.5586 - val_loss: 0.6846 - val_mean_absolute_error: 0.5753 - val_root_mean_squared_error: 0.8274\n",
      "Epoch 14/20\n",
      "218/218 [==============================] - 2s 8ms/step - loss: 0.2979 - mean_absolute_error: 0.3751 - root_mean_squared_error: 0.5458 - val_loss: 0.6861 - val_mean_absolute_error: 0.5756 - val_root_mean_squared_error: 0.8283\n",
      "Epoch 15/20\n",
      "218/218 [==============================] - 2s 7ms/step - loss: 0.2904 - mean_absolute_error: 0.3705 - root_mean_squared_error: 0.5389 - val_loss: 0.6846 - val_mean_absolute_error: 0.5773 - val_root_mean_squared_error: 0.8274\n",
      "Epoch 16/20\n",
      "218/218 [==============================] - 2s 8ms/step - loss: 0.2828 - mean_absolute_error: 0.3648 - root_mean_squared_error: 0.5318 - val_loss: 0.6856 - val_mean_absolute_error: 0.5785 - val_root_mean_squared_error: 0.8280\n"
     ]
    },
    {
     "data": {
      "image/png": "[encoded data removed]",
      "text/plain": [
       "<Figure size 864x576 with 3 Axes>"
      ]
     },
     "metadata": {
      "needs_background": "light"
     },
     "output_type": "display_data"
    }
   ],
   "source": [
    "history = compile_and_fit(feedback_model, multi_window)\n",
    "\n",
    "multi_performance['AR LSTM'] = feedback_model.evaluate(multi_window.test, verbose=0)\n",
    "multi_window.plot(feedback_model)"
   ]
  }
 ],
 "metadata": {
  "kernelspec": {
   "display_name": "Python 3 (ipykernel)",
   "language": "python",
   "name": "python3"
  },
  "language_info": {
   "codemirror_mode": {
    "name": "ipython",
    "version": 3
   },
   "file_extension": ".py",
   "mimetype": "text/x-python",
   "name": "python",
   "nbconvert_exporter": "python",
   "pygments_lexer": "ipython3",
   "version": "3.9.7"
  }
 },
 "nbformat": 4,
 "nbformat_minor": 5
}
