{
 "cells": [
  {
   "cell_type": "markdown",
   "id": "3e11b1d4",
   "metadata": {},
   "source": [
    "# Optimizing the CNN with TensorBoard"
   ]
  },
  {
   "cell_type": "code",
   "execution_count": 27,
   "id": "67ab752d",
   "metadata": {},
   "outputs": [],
   "source": [
    "import pandas as pd\n",
    "import tensorflow as tf\n",
    "import numpy as np\n",
    "import matplotlib.pyplot as plt\n",
    "import seaborn as sns"
   ]
  },
  {
   "cell_type": "code",
   "execution_count": 28,
   "id": "9ff0c973",
   "metadata": {},
   "outputs": [
    {
     "name": "stdout",
     "output_type": "stream",
     "text": [
      "The tensorboard extension is already loaded. To reload it, use:\n",
      "  %reload_ext tensorboard\n"
     ]
    }
   ],
   "source": [
    "# Loading TensorBoard\n",
    "%load_ext tensorboard"
   ]
  },
  {
   "cell_type": "code",
   "execution_count": 29,
   "id": "9166bffd",
   "metadata": {},
   "outputs": [],
   "source": [
    "from tensorboard.plugins.hparams import api as hp"
   ]
  },
  {
   "cell_type": "code",
   "execution_count": 30,
   "id": "6ed1addb",
   "metadata": {},
   "outputs": [],
   "source": [
    "import random\n",
    "random.seed(123)"
   ]
  },
  {
   "cell_type": "code",
   "execution_count": 31,
   "id": "3b18530d",
   "metadata": {},
   "outputs": [],
   "source": [
    "# import window_generator as WindowGenerator\n",
    "from window_generator import WindowGenerator"
   ]
  },
  {
   "cell_type": "markdown",
   "id": "344cc9c8",
   "metadata": {},
   "source": [
    "# Configuring hyperparameters"
   ]
  },
  {
   "cell_type": "code",
   "execution_count": 32,
   "id": "edd5cfaa",
   "metadata": {},
   "outputs": [],
   "source": [
    "# Optimizers (SGD, Adam, Adamax, RMSprop)\n",
    "optimizers = [\n",
    "    'adam', \n",
    "    'sgd', \n",
    "    'adamax', \n",
    "    'rmsprop'\n",
    "]\n",
    "\n",
    "\n",
    "# Loss functions (MeanSquaredError, Huber, MeanSquaredLogarithmicError)\n",
    "loss_functions = [\n",
    "    'huber', \n",
    "    'MeanSquaredError', \n",
    "    'MeanSquaredLogarithmicError'\n",
    "]"
   ]
  },
  {
   "cell_type": "code",
   "execution_count": 33,
   "id": "0329ae66",
   "metadata": {},
   "outputs": [],
   "source": [
    "# Hyperparameters\n",
    "CONV_WIDTH = hp.HParam('CONV_WIDTH', hp.Discrete([3, 5]))\n",
    "CONV_ACTIVACTION = hp.HParam('CONV_ACTIVACTION', hp.Discrete(['relu', 'linear']))\n",
    "CONV_FILTERS = hp.HParam('CONV_FILTERS', hp.Discrete([128, 256]))\n",
    "WINDOW_SIZE = hp.HParam('WINDOW_SIZE', hp.Discrete([12, 24, 48]))\n",
    "\n",
    "OPTIMIZER = hp.HParam('Optimizer', hp.Discrete(optimizers))\n",
    "LOSS_FUNCTION = hp.HParam('Loss_function', hp.Discrete(loss_functions))\n",
    "\n",
    "\n",
    "# Metrics\n",
    "METRIC_RMSE = 'RootMeanSquaredError'\n",
    "\n",
    "\n",
    "with tf.summary.create_file_writer('logs/CNN').as_default():\n",
    "    hp.hparams_config(\n",
    "    # Parameters\n",
    "    hparams = [\n",
    "        CONV_WIDTH,\n",
    "        CONV_ACTIVACTION, \n",
    "        CONV_FILTERS,\n",
    "        WINDOW_SIZE,\n",
    "        OPTIMIZER,\n",
    "        LOSS_FUNCTION,  \n",
    "    ],\n",
    "    # Metrics\n",
    "    metrics = [\n",
    "        hp.Metric(\n",
    "            METRIC_RMSE, display_name='RMSE'\n",
    "        ),\n",
    "    ]\n",
    "    )"
   ]
  },
  {
   "cell_type": "markdown",
   "id": "9d6dd76c",
   "metadata": {},
   "source": [
    "# Loading the dataset"
   ]
  },
  {
   "cell_type": "code",
   "execution_count": 7,
   "id": "e7ca71e7",
   "metadata": {},
   "outputs": [
    {
     "data": {
      "text/html": [
       "<div>\n",
       "<style scoped>\n",
       "    .dataframe tbody tr th:only-of-type {\n",
       "        vertical-align: middle;\n",
       "    }\n",
       "\n",
       "    .dataframe tbody tr th {\n",
       "        vertical-align: top;\n",
       "    }\n",
       "\n",
       "    .dataframe thead th {\n",
       "        text-align: right;\n",
       "    }\n",
       "</style>\n",
       "<table border=\"1\" class=\"dataframe\">\n",
       "  <thead>\n",
       "    <tr style=\"text-align: right;\">\n",
       "      <th></th>\n",
       "      <th>price</th>\n",
       "      <th>demand</th>\n",
       "      <th>emissions</th>\n",
       "    </tr>\n",
       "    <tr>\n",
       "      <th>data</th>\n",
       "      <th></th>\n",
       "      <th></th>\n",
       "      <th></th>\n",
       "    </tr>\n",
       "  </thead>\n",
       "  <tbody>\n",
       "    <tr>\n",
       "      <th>2017-01-01 00:00:00</th>\n",
       "      <td>58.82</td>\n",
       "      <td>24682</td>\n",
       "      <td>14467.2840</td>\n",
       "    </tr>\n",
       "    <tr>\n",
       "      <th>2017-01-01 01:00:00</th>\n",
       "      <td>58.23</td>\n",
       "      <td>24046</td>\n",
       "      <td>14173.8295</td>\n",
       "    </tr>\n",
       "    <tr>\n",
       "      <th>2017-01-01 02:00:00</th>\n",
       "      <td>51.95</td>\n",
       "      <td>22665</td>\n",
       "      <td>13198.0690</td>\n",
       "    </tr>\n",
       "    <tr>\n",
       "      <th>2017-01-01 03:00:00</th>\n",
       "      <td>47.27</td>\n",
       "      <td>21200</td>\n",
       "      <td>12510.7595</td>\n",
       "    </tr>\n",
       "    <tr>\n",
       "      <th>2017-01-01 04:00:00</th>\n",
       "      <td>45.49</td>\n",
       "      <td>20056</td>\n",
       "      <td>12203.7315</td>\n",
       "    </tr>\n",
       "  </tbody>\n",
       "</table>\n",
       "</div>"
      ],
      "text/plain": [
       "                     price  demand   emissions\n",
       "data                                          \n",
       "2017-01-01 00:00:00  58.82   24682  14467.2840\n",
       "2017-01-01 01:00:00  58.23   24046  14173.8295\n",
       "2017-01-01 02:00:00  51.95   22665  13198.0690\n",
       "2017-01-01 03:00:00  47.27   21200  12510.7595\n",
       "2017-01-01 04:00:00  45.49   20056  12203.7315"
      ]
     },
     "execution_count": 7,
     "metadata": {},
     "output_type": "execute_result"
    }
   ],
   "source": [
    "df = pd.read_csv('extracted_data/csv/hour_merged.csv',\n",
    "                 parse_dates={'data': ['date', 'time']},\n",
    "                 infer_datetime_format=True,\n",
    "                 dayfirst=False,\n",
    "                 index_col='data'\n",
    "                )\n",
    "\n",
    "\n",
    "df.head()"
   ]
  },
  {
   "cell_type": "code",
   "execution_count": 9,
   "id": "6dc16236",
   "metadata": {},
   "outputs": [
    {
     "data": {
      "text/html": [
       "<div>\n",
       "<style scoped>\n",
       "    .dataframe tbody tr th:only-of-type {\n",
       "        vertical-align: middle;\n",
       "    }\n",
       "\n",
       "    .dataframe tbody tr th {\n",
       "        vertical-align: top;\n",
       "    }\n",
       "\n",
       "    .dataframe thead th {\n",
       "        text-align: right;\n",
       "    }\n",
       "</style>\n",
       "<table border=\"1\" class=\"dataframe\">\n",
       "  <thead>\n",
       "    <tr style=\"text-align: right;\">\n",
       "      <th></th>\n",
       "      <th>price</th>\n",
       "      <th>demand</th>\n",
       "      <th>emissions</th>\n",
       "    </tr>\n",
       "  </thead>\n",
       "  <tbody>\n",
       "    <tr>\n",
       "      <th>count</th>\n",
       "      <td>8760.000000</td>\n",
       "      <td>8760.000000</td>\n",
       "      <td>8760.000000</td>\n",
       "    </tr>\n",
       "    <tr>\n",
       "      <th>mean</th>\n",
       "      <td>149.843062</td>\n",
       "      <td>27748.348744</td>\n",
       "      <td>9344.160081</td>\n",
       "    </tr>\n",
       "    <tr>\n",
       "      <th>std</th>\n",
       "      <td>105.417526</td>\n",
       "      <td>4247.456217</td>\n",
       "      <td>3377.646274</td>\n",
       "    </tr>\n",
       "    <tr>\n",
       "      <th>min</th>\n",
       "      <td>0.010000</td>\n",
       "      <td>17443.000000</td>\n",
       "      <td>3890.149500</td>\n",
       "    </tr>\n",
       "    <tr>\n",
       "      <th>25%</th>\n",
       "      <td>61.360000</td>\n",
       "      <td>24236.500000</td>\n",
       "      <td>6815.296250</td>\n",
       "    </tr>\n",
       "    <tr>\n",
       "      <th>50%</th>\n",
       "      <td>121.995000</td>\n",
       "      <td>27959.500000</td>\n",
       "      <td>8704.811500</td>\n",
       "    </tr>\n",
       "    <tr>\n",
       "      <th>75%</th>\n",
       "      <td>240.502500</td>\n",
       "      <td>30857.250000</td>\n",
       "      <td>11209.781125</td>\n",
       "    </tr>\n",
       "    <tr>\n",
       "      <th>max</th>\n",
       "      <td>536.810000</td>\n",
       "      <td>41552.000000</td>\n",
       "      <td>24229.262000</td>\n",
       "    </tr>\n",
       "  </tbody>\n",
       "</table>\n",
       "</div>"
      ],
      "text/plain": [
       "             price        demand     emissions\n",
       "count  8760.000000   8760.000000   8760.000000\n",
       "mean    149.843062  27748.348744   9344.160081\n",
       "std     105.417526   4247.456217   3377.646274\n",
       "min       0.010000  17443.000000   3890.149500\n",
       "25%      61.360000  24236.500000   6815.296250\n",
       "50%     121.995000  27959.500000   8704.811500\n",
       "75%     240.502500  30857.250000  11209.781125\n",
       "max     536.810000  41552.000000  24229.262000"
      ]
     },
     "execution_count": 9,
     "metadata": {},
     "output_type": "execute_result"
    }
   ],
   "source": [
    "# Select data from 2021\n",
    "df = df[int((len(df)*0.8)):]\n",
    "df.describe()"
   ]
  },
  {
   "cell_type": "markdown",
   "id": "1b143caa",
   "metadata": {},
   "source": [
    "# Differencing"
   ]
  },
  {
   "cell_type": "code",
   "execution_count": 10,
   "id": "4d244faa",
   "metadata": {},
   "outputs": [
    {
     "data": {
      "text/html": [
       "<div>\n",
       "<style scoped>\n",
       "    .dataframe tbody tr th:only-of-type {\n",
       "        vertical-align: middle;\n",
       "    }\n",
       "\n",
       "    .dataframe tbody tr th {\n",
       "        vertical-align: top;\n",
       "    }\n",
       "\n",
       "    .dataframe thead th {\n",
       "        text-align: right;\n",
       "    }\n",
       "</style>\n",
       "<table border=\"1\" class=\"dataframe\">\n",
       "  <thead>\n",
       "    <tr style=\"text-align: right;\">\n",
       "      <th></th>\n",
       "      <th>price</th>\n",
       "      <th>demand</th>\n",
       "      <th>emissions</th>\n",
       "    </tr>\n",
       "    <tr>\n",
       "      <th>data</th>\n",
       "      <th></th>\n",
       "      <th></th>\n",
       "      <th></th>\n",
       "    </tr>\n",
       "  </thead>\n",
       "  <tbody>\n",
       "    <tr>\n",
       "      <th>2021-01-01 00:00:00</th>\n",
       "      <td>50.87</td>\n",
       "      <td>25134</td>\n",
       "      <td>6356.6480</td>\n",
       "    </tr>\n",
       "    <tr>\n",
       "      <th>2021-01-01 01:00:00</th>\n",
       "      <td>48.19</td>\n",
       "      <td>24179</td>\n",
       "      <td>6269.1480</td>\n",
       "    </tr>\n",
       "    <tr>\n",
       "      <th>2021-01-01 02:00:00</th>\n",
       "      <td>44.68</td>\n",
       "      <td>22472</td>\n",
       "      <td>5702.4820</td>\n",
       "    </tr>\n",
       "    <tr>\n",
       "      <th>2021-01-01 03:00:00</th>\n",
       "      <td>38.50</td>\n",
       "      <td>20319</td>\n",
       "      <td>5284.9275</td>\n",
       "    </tr>\n",
       "    <tr>\n",
       "      <th>2021-01-01 04:00:00</th>\n",
       "      <td>36.80</td>\n",
       "      <td>19040</td>\n",
       "      <td>5218.2340</td>\n",
       "    </tr>\n",
       "  </tbody>\n",
       "</table>\n",
       "</div>"
      ],
      "text/plain": [
       "                     price  demand  emissions\n",
       "data                                         \n",
       "2021-01-01 00:00:00  50.87   25134  6356.6480\n",
       "2021-01-01 01:00:00  48.19   24179  6269.1480\n",
       "2021-01-01 02:00:00  44.68   22472  5702.4820\n",
       "2021-01-01 03:00:00  38.50   20319  5284.9275\n",
       "2021-01-01 04:00:00  36.80   19040  5218.2340"
      ]
     },
     "execution_count": 10,
     "metadata": {},
     "output_type": "execute_result"
    }
   ],
   "source": [
    "df.head()"
   ]
  },
  {
   "cell_type": "code",
   "execution_count": 11,
   "id": "a20d6133",
   "metadata": {},
   "outputs": [],
   "source": [
    "def difference(dataset, interval=1):\n",
    "    diff = list()\n",
    "    for i in range(interval, len(dataset)):\n",
    "        value = dataset[i] - dataset[i - interval]\n",
    "        diff.append(value)\n",
    "    return pd.Series(diff)"
   ]
  },
  {
   "cell_type": "code",
   "execution_count": 12,
   "id": "539ada17",
   "metadata": {},
   "outputs": [],
   "source": [
    "diff_price = difference(df['price'])\n",
    "diff_emissions = difference(df['emissions'])\n",
    "diff_demand = difference(df['demand'])"
   ]
  },
  {
   "cell_type": "code",
   "execution_count": 13,
   "id": "53985570",
   "metadata": {},
   "outputs": [],
   "source": [
    "s1 = pd.Series([0.0])\n",
    "diff_price = s1.append(diff_price, ignore_index=True)\n",
    "diff_emissions = s1.append(diff_emissions, ignore_index=True)\n",
    "diff_demand = s1.append(diff_demand, ignore_index=True)"
   ]
  },
  {
   "cell_type": "code",
   "execution_count": 14,
   "id": "65001d8f",
   "metadata": {},
   "outputs": [],
   "source": [
    "df['price'] = diff_price.values\n",
    "df['demand'] = diff_demand.values\n",
    "df['emissions'] = diff_emissions.values"
   ]
  },
  {
   "cell_type": "code",
   "execution_count": 15,
   "id": "a40a0713",
   "metadata": {},
   "outputs": [
    {
     "data": {
      "text/html": [
       "<div>\n",
       "<style scoped>\n",
       "    .dataframe tbody tr th:only-of-type {\n",
       "        vertical-align: middle;\n",
       "    }\n",
       "\n",
       "    .dataframe tbody tr th {\n",
       "        vertical-align: top;\n",
       "    }\n",
       "\n",
       "    .dataframe thead th {\n",
       "        text-align: right;\n",
       "    }\n",
       "</style>\n",
       "<table border=\"1\" class=\"dataframe\">\n",
       "  <thead>\n",
       "    <tr style=\"text-align: right;\">\n",
       "      <th></th>\n",
       "      <th>price</th>\n",
       "      <th>demand</th>\n",
       "      <th>emissions</th>\n",
       "    </tr>\n",
       "    <tr>\n",
       "      <th>data</th>\n",
       "      <th></th>\n",
       "      <th></th>\n",
       "      <th></th>\n",
       "    </tr>\n",
       "  </thead>\n",
       "  <tbody>\n",
       "    <tr>\n",
       "      <th>2021-01-01 00:00:00</th>\n",
       "      <td>0.00</td>\n",
       "      <td>0.0</td>\n",
       "      <td>0.0000</td>\n",
       "    </tr>\n",
       "    <tr>\n",
       "      <th>2021-01-01 01:00:00</th>\n",
       "      <td>-2.68</td>\n",
       "      <td>-955.0</td>\n",
       "      <td>-87.5000</td>\n",
       "    </tr>\n",
       "    <tr>\n",
       "      <th>2021-01-01 02:00:00</th>\n",
       "      <td>-3.51</td>\n",
       "      <td>-1707.0</td>\n",
       "      <td>-566.6660</td>\n",
       "    </tr>\n",
       "    <tr>\n",
       "      <th>2021-01-01 03:00:00</th>\n",
       "      <td>-6.18</td>\n",
       "      <td>-2153.0</td>\n",
       "      <td>-417.5545</td>\n",
       "    </tr>\n",
       "    <tr>\n",
       "      <th>2021-01-01 04:00:00</th>\n",
       "      <td>-1.70</td>\n",
       "      <td>-1279.0</td>\n",
       "      <td>-66.6935</td>\n",
       "    </tr>\n",
       "  </tbody>\n",
       "</table>\n",
       "</div>"
      ],
      "text/plain": [
       "                     price  demand  emissions\n",
       "data                                         \n",
       "2021-01-01 00:00:00   0.00     0.0     0.0000\n",
       "2021-01-01 01:00:00  -2.68  -955.0   -87.5000\n",
       "2021-01-01 02:00:00  -3.51 -1707.0  -566.6660\n",
       "2021-01-01 03:00:00  -6.18 -2153.0  -417.5545\n",
       "2021-01-01 04:00:00  -1.70 -1279.0   -66.6935"
      ]
     },
     "execution_count": 15,
     "metadata": {},
     "output_type": "execute_result"
    }
   ],
   "source": [
    "df.head()"
   ]
  },
  {
   "cell_type": "markdown",
   "id": "f32a0c5f",
   "metadata": {},
   "source": [
    "# Split into training and test"
   ]
  },
  {
   "cell_type": "code",
   "execution_count": 16,
   "id": "451aa4f9",
   "metadata": {},
   "outputs": [],
   "source": [
    "# 80% for training and 20% for test\n",
    "n = len(df)\n",
    "train_df = df[0:int(n*0.8)]\n",
    "test_df = df[int(n*0.8):]"
   ]
  },
  {
   "cell_type": "markdown",
   "id": "0b584a15",
   "metadata": {},
   "source": [
    "# Normalization/Standarization"
   ]
  },
  {
   "cell_type": "code",
   "execution_count": 17,
   "id": "5941597d",
   "metadata": {},
   "outputs": [],
   "source": [
    "train_mean = train_df.mean()\n",
    "train_std = train_df.std()\n",
    "\n",
    "train_df = (train_df - train_mean) / train_std\n",
    "test_df = (test_df - train_mean) / train_std"
   ]
  },
  {
   "cell_type": "code",
   "execution_count": 18,
   "id": "e3b45e2e",
   "metadata": {},
   "outputs": [
    {
     "data": {
      "text/html": [
       "<div>\n",
       "<style scoped>\n",
       "    .dataframe tbody tr th:only-of-type {\n",
       "        vertical-align: middle;\n",
       "    }\n",
       "\n",
       "    .dataframe tbody tr th {\n",
       "        vertical-align: top;\n",
       "    }\n",
       "\n",
       "    .dataframe thead th {\n",
       "        text-align: right;\n",
       "    }\n",
       "</style>\n",
       "<table border=\"1\" class=\"dataframe\">\n",
       "  <thead>\n",
       "    <tr style=\"text-align: right;\">\n",
       "      <th></th>\n",
       "      <th>price</th>\n",
       "      <th>demand</th>\n",
       "      <th>emissions</th>\n",
       "    </tr>\n",
       "    <tr>\n",
       "      <th>data</th>\n",
       "      <th></th>\n",
       "      <th></th>\n",
       "      <th></th>\n",
       "    </tr>\n",
       "  </thead>\n",
       "  <tbody>\n",
       "    <tr>\n",
       "      <th>2021-01-01 00:00:00</th>\n",
       "      <td>-0.001166</td>\n",
       "      <td>0.000057</td>\n",
       "      <td>-0.000507</td>\n",
       "    </tr>\n",
       "    <tr>\n",
       "      <th>2021-01-01 01:00:00</th>\n",
       "      <td>-0.121941</td>\n",
       "      <td>-0.737243</td>\n",
       "      <td>-0.163255</td>\n",
       "    </tr>\n",
       "    <tr>\n",
       "      <th>2021-01-01 02:00:00</th>\n",
       "      <td>-0.159345</td>\n",
       "      <td>-1.317819</td>\n",
       "      <td>-1.054494</td>\n",
       "    </tr>\n",
       "    <tr>\n",
       "      <th>2021-01-01 03:00:00</th>\n",
       "      <td>-0.279669</td>\n",
       "      <td>-1.662149</td>\n",
       "      <td>-0.777150</td>\n",
       "    </tr>\n",
       "    <tr>\n",
       "      <th>2021-01-01 04:00:00</th>\n",
       "      <td>-0.077777</td>\n",
       "      <td>-0.987385</td>\n",
       "      <td>-0.124555</td>\n",
       "    </tr>\n",
       "  </tbody>\n",
       "</table>\n",
       "</div>"
      ],
      "text/plain": [
       "                        price    demand  emissions\n",
       "data                                              \n",
       "2021-01-01 00:00:00 -0.001166  0.000057  -0.000507\n",
       "2021-01-01 01:00:00 -0.121941 -0.737243  -0.163255\n",
       "2021-01-01 02:00:00 -0.159345 -1.317819  -1.054494\n",
       "2021-01-01 03:00:00 -0.279669 -1.662149  -0.777150\n",
       "2021-01-01 04:00:00 -0.077777 -0.987385  -0.124555"
      ]
     },
     "execution_count": 18,
     "metadata": {},
     "output_type": "execute_result"
    }
   ],
   "source": [
    "train_df.head()"
   ]
  },
  {
   "cell_type": "markdown",
   "id": "802d5ea6",
   "metadata": {},
   "source": [
    "# CNN"
   ]
  },
  {
   "cell_type": "code",
   "execution_count": 19,
   "id": "77011888",
   "metadata": {},
   "outputs": [],
   "source": [
    "MAX_EPOCHS = 20\n",
    "patience = 4\n",
    "num_features=df.shape[1]\n",
    "OUT_STEPS = 24"
   ]
  },
  {
   "cell_type": "code",
   "execution_count": 20,
   "id": "baf71b25",
   "metadata": {},
   "outputs": [],
   "source": [
    "multi_val_performance = {}\n",
    "multi_performance = {}"
   ]
  },
  {
   "cell_type": "code",
   "execution_count": 34,
   "id": "5bef39d0",
   "metadata": {},
   "outputs": [],
   "source": [
    "def train_test_model(hparams):\n",
    "    \n",
    "    multi_conv_model = tf.keras.Sequential([\n",
    "        # Shape [batch, time, features] => [batch, CONV_WIDTH, features]\n",
    "        tf.keras.layers.Lambda(lambda x: x[:, -hparams[CONV_WIDTH]:, :]),\n",
    "        # Shape => [batch, 1, conv_units]\n",
    "        tf.keras.layers.Conv1D(hparams[CONV_FILTERS], activation=hparams[CONV_ACTIVACTION], kernel_size=(hparams[CONV_WIDTH])),\n",
    "        # Shape => [batch, 1,  out_steps*features]\n",
    "        tf.keras.layers.Dense(OUT_STEPS*num_features,\n",
    "                              kernel_initializer=tf.initializers.zeros()),\n",
    "        # Shape => [batch, out_steps, features]\n",
    "        tf.keras.layers.Reshape([OUT_STEPS, num_features])\n",
    "    ])\n",
    "    \n",
    "    early_stopping = tf.keras.callbacks.EarlyStopping(monitor='val_loss', patience=patience, mode='min')\n",
    "    \n",
    "    model.compile(loss=hparams[LOSS_FUNCTION],\n",
    "                 optimizer=hparams[OPTIMIZER],\n",
    "                 metrics=[tf.metrics.RootMeanSquaredError()])\n",
    "    \n",
    "    # Creating a Window\n",
    "    window = WindowGenerator(input_width=hparams[WINDOW_SIZE], label_width=OUT_STEPS, shift=OUT_STEPS, train_df=train_df, test_df=test_df)\n",
    "\n",
    "    history = model.fit(window.train, epochs=MAX_EPOCHS, validation_data = window.test, callbacks=[early_stopping])\n",
    "    \n",
    "    print(multi_conv_model.evaluate(window.test, verbose=0))\n",
    "    loss, rmse = multi_conv_model.evaluate(window.test, verbose=0)\n",
    "    \n",
    "    return rmse"
   ]
  },
  {
   "cell_type": "code",
   "execution_count": 35,
   "id": "84aea658",
   "metadata": {},
   "outputs": [],
   "source": [
    "def run(run_dir, hparams):\n",
    "    with tf.summary.create_file_writer(run_dir).as_default():\n",
    "        hp.hparams(hparams)  # record the values used in this trial\n",
    "        rmse = train_test_model(hparams)\n",
    "        \n",
    "        tf.summary.scalar(METRIC_RMSE, rmse, step=1)"
   ]
  },
  {
   "cell_type": "code",
   "execution_count": null,
   "id": "f789c1e4",
   "metadata": {},
   "outputs": [],
   "source": [
    "session_num = 0\n",
    "for conv_width in CONV_WIDTH.domain.values:\n",
    "    for conv_activation in CONV_ACTIVACTION.domain.values:\n",
    "        for conv_filters in CONV_FILTERS.domain.values:\n",
    "            for window_size in WINDOW_SIZE.domain.values:\n",
    "                for optimizer in OPTIMIZER.domain.values:\n",
    "                    for loss_function in LOSS_FUNCTION.domain.values:\n",
    "                        hparams = {\n",
    "                            CONV_WIDTH: conv_width,\n",
    "                            CONV_ACTIVACTION: conv_activation, \n",
    "                            CONV_FILTERS: conv_filters,\n",
    "                            WINDOW_SIZE: window_size,\n",
    "                            OPTIMIZER: optimizer,\n",
    "                            LOSS_FUNCTION: loss_function\n",
    "                        }\n",
    "                        \n",
    "                        run_name = \"run-%d\" % session_num\n",
    "                        print('--- Starting trial: %s' % run_name)\n",
    "                        print({h.name: hparams[h] for h in hparams})\n",
    "                        run('logs/CNN/' + run_name, hparams)\n",
    "                        session_num += 1"
   ]
  }
 ],
 "metadata": {
  "kernelspec": {
   "display_name": "Python 3 (ipykernel)",
   "language": "python",
   "name": "python3"
  },
  "language_info": {
   "codemirror_mode": {
    "name": "ipython",
    "version": 3
   },
   "file_extension": ".py",
   "mimetype": "text/x-python",
   "name": "python",
   "nbconvert_exporter": "python",
   "pygments_lexer": "ipython3",
   "version": "3.9.7"
  }
 },
 "nbformat": 4,
 "nbformat_minor": 5
}
