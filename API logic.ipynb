{
 "cells": [
  {
   "cell_type": "code",
   "execution_count": 1,
   "id": "004f7336",
   "metadata": {},
   "outputs": [],
   "source": [
    "# Get today date\n",
    "\n",
    "# Extract hourly data from today and yesterday\n",
    "\n",
    "# Convert hourly data into a dataframe\n",
    "\n",
    "# Preprocess the dataframe\n",
    "    # Differencing\n",
    "    \n",
    "    # Normalization (Use training_mean and training_std)\n",
    "\n",
    "# Convert the dataset into a Window (Input width = 48)\n",
    "\n",
    "# Load the AR model\n",
    "\n",
    "# Predict future output\n",
    "\n",
    "# Untransform data\n",
    "\n",
    "\n",
    "# Remove the read_csv\n",
    "\n"
   ]
  },
  {
   "cell_type": "code",
   "execution_count": 2,
   "id": "9da9e949",
   "metadata": {},
   "outputs": [],
   "source": [
    "# Dates\n",
    "# import datetime as dt\n",
    "from datetime import datetime, timedelta\n",
    "import pytz\n",
    "\n",
    "# REE API request\n",
    "import requests\n",
    "import json\n",
    "\n",
    "# Convert extracted data into dataframe\n",
    "import pandas as pd\n",
    "\n",
    "# WindowGenerator\n",
    "from window_generator import WindowGenerator\n",
    "import numpy as np\n",
    "\n",
    "# Loading the model\n",
    "import tensorflow as tf\n",
    "from tensorflow import keras"
   ]
  },
  {
   "cell_type": "markdown",
   "id": "6c882d44",
   "metadata": {},
   "source": [
    "# Extract data in JSON format"
   ]
  },
  {
   "cell_type": "code",
   "execution_count": 3,
   "id": "04a7e518",
   "metadata": {},
   "outputs": [],
   "source": [
    "def extract_json_data(day):\n",
    "    URLprices = \"https://apidatos.ree.es/es/datos/mercados/precios-mercados-tiempo-real\"\n",
    "    URLdemand = \"https://apidatos.ree.es/es/datos/demanda/demanda-tiempo-real\"\n",
    "    URLEmissions = \"https://apidatos.ree.es/es/datos/generacion/evolucion-estructura-generacion-emisiones-asociadas\"\n",
    "    \n",
    "    startHour = \"00:00\"\n",
    "    endHour = \"23:59\"\n",
    "    \n",
    "    date_start = str(day.year) + \"-\" + str(day.month) + \"-\" + str(day.day) + \"T\" + startHour\n",
    "    date_end = str(day.year) + \"-\" + str(day.month) + \"-\" + str(day.day) + \"T\" + endHour\n",
    "    \n",
    "    PARAMS = {'start_date':date_start, 'end_date':date_end,\"time_trunc\":\"hour\", 'geo_limit': 'peninsular'}\n",
    "    \n",
    "    prices = requests.get(url=URLprices, params=PARAMS)\n",
    "    demands = requests.get(url=URLdemand, params=PARAMS)\n",
    "    emissions = requests.get(url=URLEmissions, params=PARAMS)\n",
    "    \n",
    "    pricesJ = json.dumps(prices.json(), indent=4)\n",
    "    demandJ = json.dumps(demands.json(), indent=4)\n",
    "    emissionsJ = json.dumps(emissions.json(), indent=4)\n",
    "    \n",
    "    return pricesJ, demandJ, emissionsJ\n",
    "    "
   ]
  },
  {
   "cell_type": "code",
   "execution_count": 4,
   "id": "26bee6a1",
   "metadata": {},
   "outputs": [],
   "source": [
    "timezone = pytz.timezone('Europe/Madrid')\n",
    "\n",
    "today = datetime.now(tz=timezone)\n",
    "yesterday = today - timedelta(days=1)\n",
    "day_zero = yesterday - timedelta(days=1)\n"
   ]
  },
  {
   "cell_type": "code",
   "execution_count": 5,
   "id": "42754629",
   "metadata": {},
   "outputs": [],
   "source": [
    "pricesJ_today, demandJ_today, emissionsJ_today = extract_json_data(today)\n",
    "pricesJ_yesterday, demandJ_yesterday, emissionsJ_yesterday = extract_json_data(yesterday)\n",
    "pricesJ_day_zero, demandJ_day_zero, emissionsJ_day_zero = extract_json_data(day_zero)"
   ]
  },
  {
   "cell_type": "markdown",
   "id": "22535971",
   "metadata": {},
   "source": [
    "# Convert json data into a dataframe"
   ]
  },
  {
   "cell_type": "code",
   "execution_count": 6,
   "id": "3dd92c1c",
   "metadata": {},
   "outputs": [
    {
     "data": {
      "text/plain": [
       "str"
      ]
     },
     "execution_count": 6,
     "metadata": {},
     "output_type": "execute_result"
    }
   ],
   "source": [
    "type(pricesJ_day_zero)"
   ]
  },
  {
   "cell_type": "code",
   "execution_count": 7,
   "id": "32d146b9",
   "metadata": {},
   "outputs": [],
   "source": [
    "def clean_datetime(timestamp):\n",
    "    r = timestamp.replace(\".000+01:00\", \"\")\n",
    "    r = r.replace(\".000+02:00\", \"\")\n",
    "    return r"
   ]
  },
  {
   "cell_type": "code",
   "execution_count": 8,
   "id": "73511b2e",
   "metadata": {},
   "outputs": [],
   "source": [
    "def convert_json_into_dataframe(price_json, demand_json, emissions_json, today = False):\n",
    "    \n",
    "    df_price = pd.DataFrame(columns=['timestamp', 'price'])\n",
    "    df_demand = pd.DataFrame(columns=['timestamp', 'demand'])\n",
    "    df_emissions = pd.DataFrame(columns=['timestamp', 'emissions'])\n",
    "    \n",
    "    # Generate price dataframe\n",
    "    price_json = json.loads(price_json)\n",
    "    prices_values = price_json['included'][0]['attributes']['values']\n",
    "    for price_value in prices_values:\n",
    "        row = {'timestamp': price_value['datetime'],\n",
    "                   'price': price_value['value']}\n",
    "        df_price = df_price.append(row, ignore_index=True)\n",
    "        \n",
    "    # Generate demand dataframe\n",
    "    demand_json = json.loads(demand_json)\n",
    "    if(today):\n",
    "        demand_values = demand_json['included'][1]['attributes']['values']\n",
    "    else:\n",
    "        demand_values = demand_json['included'][0]['attributes']['values']\n",
    "\n",
    "    for demand_value in demand_values:\n",
    "        row = {'timestamp': demand_value['datetime'],\n",
    "                   'demand': demand_value['value']}\n",
    "        df_demand = df_demand.append(row, ignore_index=True)\n",
    "    \n",
    "    # Generate emissions dataframe\n",
    "    emissions_json = json.loads(emissions_json)\n",
    "    emissions_values = emissions_json['included'][0]['attributes']['values']\n",
    "\n",
    "    for emissions_value in emissions_values:\n",
    "        row = {'timestamp': emissions_value['datetime'],\n",
    "                'emissions': emissions_value['value']}\n",
    "        df_emissions = df_emissions.append(row, ignore_index=True)    \n",
    "    \n",
    "    df_merged = df_price.merge(df_demand, on='timestamp', how='inner')\n",
    "    \n",
    "    df_emissions['timestamp'] = df_price['timestamp']\n",
    "    df_merged = df_merged.merge(df_emissions, on='timestamp', how='inner')\n",
    "    \n",
    "    df_merged['timestamp'] = df_merged['timestamp'].apply(clean_datetime)\n",
    "    \n",
    "    # Separate two columns by \" \"\n",
    "    df_merged[['date', 'time']] = df_merged['timestamp'].str.split('T', expand=True)\n",
    "    \n",
    "    df_merged = df_merged.drop(columns=['timestamp'], axis=1)\n",
    "    \n",
    "    return df_merged"
   ]
  },
  {
   "cell_type": "code",
   "execution_count": 9,
   "id": "537aff3b",
   "metadata": {
    "scrolled": false
   },
   "outputs": [],
   "source": [
    "# day_zero\n",
    "df_final = convert_json_into_dataframe(pricesJ_day_zero, demandJ_day_zero, emissionsJ_day_zero)\n",
    "\n",
    "# yesterday\n",
    "df_yesterday = convert_json_into_dataframe(pricesJ_yesterday, demandJ_yesterday, emissionsJ_day_zero)\n",
    "# Repetimos las emisiones del día cero\n",
    "df_final = pd.concat([df_final, df_yesterday], ignore_index=True)\n",
    "\n",
    "\n",
    "# today\n",
    "df_today = convert_json_into_dataframe(pricesJ_today, demandJ_today, emissionsJ_day_zero, today=True)\n",
    "df_final = pd.concat([df_final, df_today], ignore_index=True)\n"
   ]
  },
  {
   "cell_type": "code",
   "execution_count": 10,
   "id": "005400f8",
   "metadata": {},
   "outputs": [],
   "source": [
    "# df_final.to_csv('data.csv', index=False)\n",
    "df = df_final"
   ]
  },
  {
   "cell_type": "code",
   "execution_count": 11,
   "id": "7c5e79d9",
   "metadata": {},
   "outputs": [],
   "source": [
    "del df_final"
   ]
  },
  {
   "cell_type": "markdown",
   "id": "106b5e18",
   "metadata": {},
   "source": [
    "# Change the index"
   ]
  },
  {
   "cell_type": "code",
   "execution_count": 12,
   "id": "b82c04e7",
   "metadata": {},
   "outputs": [],
   "source": [
    "df['data'] = df['date'] + \" \" + df['time']"
   ]
  },
  {
   "cell_type": "code",
   "execution_count": 13,
   "id": "11f0dc82",
   "metadata": {},
   "outputs": [
    {
     "data": {
      "text/html": [
       "<div>\n",
       "<style scoped>\n",
       "    .dataframe tbody tr th:only-of-type {\n",
       "        vertical-align: middle;\n",
       "    }\n",
       "\n",
       "    .dataframe tbody tr th {\n",
       "        vertical-align: top;\n",
       "    }\n",
       "\n",
       "    .dataframe thead th {\n",
       "        text-align: right;\n",
       "    }\n",
       "</style>\n",
       "<table border=\"1\" class=\"dataframe\">\n",
       "  <thead>\n",
       "    <tr style=\"text-align: right;\">\n",
       "      <th></th>\n",
       "      <th>price</th>\n",
       "      <th>demand</th>\n",
       "      <th>emissions</th>\n",
       "      <th>date</th>\n",
       "      <th>time</th>\n",
       "      <th>data</th>\n",
       "    </tr>\n",
       "  </thead>\n",
       "  <tbody>\n",
       "    <tr>\n",
       "      <th>0</th>\n",
       "      <td>254.30</td>\n",
       "      <td>26792</td>\n",
       "      <td>12287.250</td>\n",
       "      <td>2022-02-11</td>\n",
       "      <td>00:00:00</td>\n",
       "      <td>2022-02-11 00:00:00</td>\n",
       "    </tr>\n",
       "    <tr>\n",
       "      <th>1</th>\n",
       "      <td>233.71</td>\n",
       "      <td>25817</td>\n",
       "      <td>11883.631</td>\n",
       "      <td>2022-02-11</td>\n",
       "      <td>01:00:00</td>\n",
       "      <td>2022-02-11 01:00:00</td>\n",
       "    </tr>\n",
       "    <tr>\n",
       "      <th>2</th>\n",
       "      <td>232.08</td>\n",
       "      <td>24690</td>\n",
       "      <td>10940.722</td>\n",
       "      <td>2022-02-11</td>\n",
       "      <td>02:00:00</td>\n",
       "      <td>2022-02-11 02:00:00</td>\n",
       "    </tr>\n",
       "    <tr>\n",
       "      <th>3</th>\n",
       "      <td>222.96</td>\n",
       "      <td>24232</td>\n",
       "      <td>11452.998</td>\n",
       "      <td>2022-02-11</td>\n",
       "      <td>03:00:00</td>\n",
       "      <td>2022-02-11 03:00:00</td>\n",
       "    </tr>\n",
       "    <tr>\n",
       "      <th>4</th>\n",
       "      <td>219.90</td>\n",
       "      <td>23537</td>\n",
       "      <td>12749.593</td>\n",
       "      <td>2022-02-11</td>\n",
       "      <td>04:00:00</td>\n",
       "      <td>2022-02-11 04:00:00</td>\n",
       "    </tr>\n",
       "  </tbody>\n",
       "</table>\n",
       "</div>"
      ],
      "text/plain": [
       "    price demand  emissions        date      time                 data\n",
       "0  254.30  26792  12287.250  2022-02-11  00:00:00  2022-02-11 00:00:00\n",
       "1  233.71  25817  11883.631  2022-02-11  01:00:00  2022-02-11 01:00:00\n",
       "2  232.08  24690  10940.722  2022-02-11  02:00:00  2022-02-11 02:00:00\n",
       "3  222.96  24232  11452.998  2022-02-11  03:00:00  2022-02-11 03:00:00\n",
       "4  219.90  23537  12749.593  2022-02-11  04:00:00  2022-02-11 04:00:00"
      ]
     },
     "execution_count": 13,
     "metadata": {},
     "output_type": "execute_result"
    }
   ],
   "source": [
    "df.head()"
   ]
  },
  {
   "cell_type": "code",
   "execution_count": 14,
   "id": "c12dd9f4",
   "metadata": {},
   "outputs": [],
   "source": [
    "df['data'] = pd.to_datetime(df['data'])\n",
    "df = df.drop(columns=['date', 'time'], axis=1)\n",
    "df = df.set_index('data')"
   ]
  },
  {
   "cell_type": "code",
   "execution_count": 15,
   "id": "e44d05ce",
   "metadata": {},
   "outputs": [
    {
     "data": {
      "text/html": [
       "<div>\n",
       "<style scoped>\n",
       "    .dataframe tbody tr th:only-of-type {\n",
       "        vertical-align: middle;\n",
       "    }\n",
       "\n",
       "    .dataframe tbody tr th {\n",
       "        vertical-align: top;\n",
       "    }\n",
       "\n",
       "    .dataframe thead th {\n",
       "        text-align: right;\n",
       "    }\n",
       "</style>\n",
       "<table border=\"1\" class=\"dataframe\">\n",
       "  <thead>\n",
       "    <tr style=\"text-align: right;\">\n",
       "      <th></th>\n",
       "      <th>price</th>\n",
       "      <th>demand</th>\n",
       "      <th>emissions</th>\n",
       "    </tr>\n",
       "    <tr>\n",
       "      <th>data</th>\n",
       "      <th></th>\n",
       "      <th></th>\n",
       "      <th></th>\n",
       "    </tr>\n",
       "  </thead>\n",
       "  <tbody>\n",
       "    <tr>\n",
       "      <th>2022-02-11 00:00:00</th>\n",
       "      <td>254.30</td>\n",
       "      <td>26792</td>\n",
       "      <td>12287.250</td>\n",
       "    </tr>\n",
       "    <tr>\n",
       "      <th>2022-02-11 01:00:00</th>\n",
       "      <td>233.71</td>\n",
       "      <td>25817</td>\n",
       "      <td>11883.631</td>\n",
       "    </tr>\n",
       "    <tr>\n",
       "      <th>2022-02-11 02:00:00</th>\n",
       "      <td>232.08</td>\n",
       "      <td>24690</td>\n",
       "      <td>10940.722</td>\n",
       "    </tr>\n",
       "    <tr>\n",
       "      <th>2022-02-11 03:00:00</th>\n",
       "      <td>222.96</td>\n",
       "      <td>24232</td>\n",
       "      <td>11452.998</td>\n",
       "    </tr>\n",
       "    <tr>\n",
       "      <th>2022-02-11 04:00:00</th>\n",
       "      <td>219.90</td>\n",
       "      <td>23537</td>\n",
       "      <td>12749.593</td>\n",
       "    </tr>\n",
       "  </tbody>\n",
       "</table>\n",
       "</div>"
      ],
      "text/plain": [
       "                      price demand  emissions\n",
       "data                                         \n",
       "2022-02-11 00:00:00  254.30  26792  12287.250\n",
       "2022-02-11 01:00:00  233.71  25817  11883.631\n",
       "2022-02-11 02:00:00  232.08  24690  10940.722\n",
       "2022-02-11 03:00:00  222.96  24232  11452.998\n",
       "2022-02-11 04:00:00  219.90  23537  12749.593"
      ]
     },
     "execution_count": 15,
     "metadata": {},
     "output_type": "execute_result"
    }
   ],
   "source": [
    "df.head()"
   ]
  },
  {
   "cell_type": "code",
   "execution_count": 16,
   "id": "b20ad653",
   "metadata": {},
   "outputs": [
    {
     "data": {
      "text/html": [
       "<div>\n",
       "<style scoped>\n",
       "    .dataframe tbody tr th:only-of-type {\n",
       "        vertical-align: middle;\n",
       "    }\n",
       "\n",
       "    .dataframe tbody tr th {\n",
       "        vertical-align: top;\n",
       "    }\n",
       "\n",
       "    .dataframe thead th {\n",
       "        text-align: right;\n",
       "    }\n",
       "</style>\n",
       "<table border=\"1\" class=\"dataframe\">\n",
       "  <thead>\n",
       "    <tr style=\"text-align: right;\">\n",
       "      <th></th>\n",
       "      <th>price</th>\n",
       "      <th>demand</th>\n",
       "      <th>emissions</th>\n",
       "    </tr>\n",
       "    <tr>\n",
       "      <th>data</th>\n",
       "      <th></th>\n",
       "      <th></th>\n",
       "      <th></th>\n",
       "    </tr>\n",
       "  </thead>\n",
       "  <tbody>\n",
       "    <tr>\n",
       "      <th>2022-02-13 23:00:00</th>\n",
       "      <td>219.59</td>\n",
       "      <td>25770</td>\n",
       "      <td>12672.25</td>\n",
       "    </tr>\n",
       "  </tbody>\n",
       "</table>\n",
       "</div>"
      ],
      "text/plain": [
       "                      price demand  emissions\n",
       "data                                         \n",
       "2022-02-13 23:00:00  219.59  25770   12672.25"
      ]
     },
     "execution_count": 16,
     "metadata": {},
     "output_type": "execute_result"
    }
   ],
   "source": [
    "# Used for removing differencing\n",
    "last_line = df.tail(n=1)\n",
    "last_line"
   ]
  },
  {
   "cell_type": "code",
   "execution_count": 17,
   "id": "27f8e1cd",
   "metadata": {},
   "outputs": [],
   "source": [
    "initial_price = last_line['price'][0]\n",
    "initial_demand = last_line['demand'][0]\n",
    "initial_emissions = last_line['emissions'][0]"
   ]
  },
  {
   "cell_type": "markdown",
   "id": "5b0f3068",
   "metadata": {},
   "source": [
    "# Preprocessing"
   ]
  },
  {
   "cell_type": "code",
   "execution_count": 18,
   "id": "aea1ea7f",
   "metadata": {},
   "outputs": [],
   "source": [
    "# Normalization/Standarization params\n",
    "train_mean = pd.Series(data = [0.025869, -0.074058, 0.272317], index = ['price', 'demand', 'emissions'])\n",
    "train_std = pd.Series(data = [22.190049, 1295.266304, 537.640099], index = ['price', 'demand', 'emissions'])"
   ]
  },
  {
   "cell_type": "markdown",
   "id": "5fb67cfa",
   "metadata": {},
   "source": [
    "## Differencing"
   ]
  },
  {
   "cell_type": "code",
   "execution_count": 19,
   "id": "a0795a6d",
   "metadata": {},
   "outputs": [],
   "source": [
    "def difference(dataset, interval=1):\n",
    "    diff = list()\n",
    "    for i in range(interval, len(dataset)):\n",
    "        value = dataset[i] - dataset[i - interval]\n",
    "        diff.append(value)\n",
    "    return pd.Series(diff)"
   ]
  },
  {
   "cell_type": "code",
   "execution_count": 20,
   "id": "c6102099",
   "metadata": {},
   "outputs": [],
   "source": [
    "diff_price = difference(df['price'])\n",
    "diff_emissions = difference(df['emissions'])\n",
    "diff_demand = difference(df['demand'])"
   ]
  },
  {
   "cell_type": "code",
   "execution_count": 21,
   "id": "bda8fa08",
   "metadata": {},
   "outputs": [],
   "source": [
    "s1 = pd.Series([0.0])\n",
    "diff_price = s1.append(diff_price, ignore_index=True)\n",
    "diff_emissions = s1.append(diff_emissions, ignore_index=True)\n",
    "diff_demand = s1.append(diff_demand, ignore_index=True)"
   ]
  },
  {
   "cell_type": "code",
   "execution_count": 22,
   "id": "e2b48e04",
   "metadata": {},
   "outputs": [],
   "source": [
    "df['price'] = diff_price.values\n",
    "df['demand'] = diff_demand.values\n",
    "df['emissions'] = diff_emissions.values"
   ]
  },
  {
   "cell_type": "code",
   "execution_count": 23,
   "id": "6e00b572",
   "metadata": {},
   "outputs": [
    {
     "data": {
      "text/html": [
       "<div>\n",
       "<style scoped>\n",
       "    .dataframe tbody tr th:only-of-type {\n",
       "        vertical-align: middle;\n",
       "    }\n",
       "\n",
       "    .dataframe tbody tr th {\n",
       "        vertical-align: top;\n",
       "    }\n",
       "\n",
       "    .dataframe thead th {\n",
       "        text-align: right;\n",
       "    }\n",
       "</style>\n",
       "<table border=\"1\" class=\"dataframe\">\n",
       "  <thead>\n",
       "    <tr style=\"text-align: right;\">\n",
       "      <th></th>\n",
       "      <th>price</th>\n",
       "      <th>demand</th>\n",
       "      <th>emissions</th>\n",
       "    </tr>\n",
       "    <tr>\n",
       "      <th>data</th>\n",
       "      <th></th>\n",
       "      <th></th>\n",
       "      <th></th>\n",
       "    </tr>\n",
       "  </thead>\n",
       "  <tbody>\n",
       "    <tr>\n",
       "      <th>2022-02-11 00:00:00</th>\n",
       "      <td>0.00</td>\n",
       "      <td>0.0</td>\n",
       "      <td>0.000</td>\n",
       "    </tr>\n",
       "    <tr>\n",
       "      <th>2022-02-11 01:00:00</th>\n",
       "      <td>-20.59</td>\n",
       "      <td>-975.0</td>\n",
       "      <td>-403.619</td>\n",
       "    </tr>\n",
       "    <tr>\n",
       "      <th>2022-02-11 02:00:00</th>\n",
       "      <td>-1.63</td>\n",
       "      <td>-1127.0</td>\n",
       "      <td>-942.909</td>\n",
       "    </tr>\n",
       "    <tr>\n",
       "      <th>2022-02-11 03:00:00</th>\n",
       "      <td>-9.12</td>\n",
       "      <td>-458.0</td>\n",
       "      <td>512.276</td>\n",
       "    </tr>\n",
       "    <tr>\n",
       "      <th>2022-02-11 04:00:00</th>\n",
       "      <td>-3.06</td>\n",
       "      <td>-695.0</td>\n",
       "      <td>1296.595</td>\n",
       "    </tr>\n",
       "  </tbody>\n",
       "</table>\n",
       "</div>"
      ],
      "text/plain": [
       "                     price  demand  emissions\n",
       "data                                         \n",
       "2022-02-11 00:00:00   0.00     0.0      0.000\n",
       "2022-02-11 01:00:00 -20.59  -975.0   -403.619\n",
       "2022-02-11 02:00:00  -1.63 -1127.0   -942.909\n",
       "2022-02-11 03:00:00  -9.12  -458.0    512.276\n",
       "2022-02-11 04:00:00  -3.06  -695.0   1296.595"
      ]
     },
     "execution_count": 23,
     "metadata": {},
     "output_type": "execute_result"
    }
   ],
   "source": [
    "df.head()"
   ]
  },
  {
   "cell_type": "markdown",
   "id": "aca8b8e4",
   "metadata": {},
   "source": [
    "## Normalization"
   ]
  },
  {
   "cell_type": "code",
   "execution_count": 24,
   "id": "caa3afc6",
   "metadata": {},
   "outputs": [],
   "source": [
    "df = (df-train_mean)/train_std"
   ]
  },
  {
   "cell_type": "markdown",
   "id": "a97d3dfd",
   "metadata": {},
   "source": [
    "## Select subset with length=input_size"
   ]
  },
  {
   "cell_type": "code",
   "execution_count": 25,
   "id": "278ed76e",
   "metadata": {},
   "outputs": [],
   "source": [
    "df = df[len(df)-48:]"
   ]
  },
  {
   "cell_type": "code",
   "execution_count": 26,
   "id": "e38a9d69",
   "metadata": {},
   "outputs": [
    {
     "data": {
      "text/html": [
       "<div>\n",
       "<style scoped>\n",
       "    .dataframe tbody tr th:only-of-type {\n",
       "        vertical-align: middle;\n",
       "    }\n",
       "\n",
       "    .dataframe tbody tr th {\n",
       "        vertical-align: top;\n",
       "    }\n",
       "\n",
       "    .dataframe thead th {\n",
       "        text-align: right;\n",
       "    }\n",
       "</style>\n",
       "<table border=\"1\" class=\"dataframe\">\n",
       "  <thead>\n",
       "    <tr style=\"text-align: right;\">\n",
       "      <th></th>\n",
       "      <th>price</th>\n",
       "      <th>demand</th>\n",
       "      <th>emissions</th>\n",
       "    </tr>\n",
       "    <tr>\n",
       "      <th>data</th>\n",
       "      <th></th>\n",
       "      <th></th>\n",
       "      <th></th>\n",
       "    </tr>\n",
       "  </thead>\n",
       "  <tbody>\n",
       "    <tr>\n",
       "      <th>2022-02-12 00:00:00</th>\n",
       "      <td>-0.134559</td>\n",
       "      <td>-1.654429</td>\n",
       "      <td>-0.716599</td>\n",
       "    </tr>\n",
       "    <tr>\n",
       "      <th>2022-02-12 01:00:00</th>\n",
       "      <td>0.108793</td>\n",
       "      <td>-0.822168</td>\n",
       "      <td>-0.751230</td>\n",
       "    </tr>\n",
       "    <tr>\n",
       "      <th>2022-02-12 02:00:00</th>\n",
       "      <td>-0.149430</td>\n",
       "      <td>-1.178851</td>\n",
       "      <td>-1.754299</td>\n",
       "    </tr>\n",
       "    <tr>\n",
       "      <th>2022-02-12 03:00:00</th>\n",
       "      <td>-0.085888</td>\n",
       "      <td>-0.967311</td>\n",
       "      <td>0.952317</td>\n",
       "    </tr>\n",
       "    <tr>\n",
       "      <th>2022-02-12 04:00:00</th>\n",
       "      <td>-0.159795</td>\n",
       "      <td>-0.390596</td>\n",
       "      <td>2.411135</td>\n",
       "    </tr>\n",
       "  </tbody>\n",
       "</table>\n",
       "</div>"
      ],
      "text/plain": [
       "                        price    demand  emissions\n",
       "data                                              \n",
       "2022-02-12 00:00:00 -0.134559 -1.654429  -0.716599\n",
       "2022-02-12 01:00:00  0.108793 -0.822168  -0.751230\n",
       "2022-02-12 02:00:00 -0.149430 -1.178851  -1.754299\n",
       "2022-02-12 03:00:00 -0.085888 -0.967311   0.952317\n",
       "2022-02-12 04:00:00 -0.159795 -0.390596   2.411135"
      ]
     },
     "execution_count": 26,
     "metadata": {},
     "output_type": "execute_result"
    }
   ],
   "source": [
    "df.head()"
   ]
  },
  {
   "cell_type": "code",
   "execution_count": 27,
   "id": "32cc7a87",
   "metadata": {},
   "outputs": [],
   "source": [
    "# Fill labels with zeros\n",
    "L = 24\n",
    "i = 0\n",
    "while i<24:\n",
    "    i = i + 1\n",
    "    last_date = df.index[-1] + pd.Timedelta(hours=1)\n",
    "    df.loc[last_date] = [0.0,0.0,0.0]"
   ]
  },
  {
   "cell_type": "markdown",
   "id": "c6ad4d6c",
   "metadata": {},
   "source": [
    "# Convert the dataframe into a window"
   ]
  },
  {
   "cell_type": "code",
   "execution_count": 28,
   "id": "66e46922",
   "metadata": {},
   "outputs": [
    {
     "data": {
      "text/plain": [
       "Total window size: 72\n",
       "Input indices: [ 0  1  2  3  4  5  6  7  8  9 10 11 12 13 14 15 16 17 18 19 20 21 22 23\n",
       " 24 25 26 27 28 29 30 31 32 33 34 35 36 37 38 39 40 41 42 43 44 45 46 47]\n",
       "Label indices: [48 49 50 51 52 53 54 55 56 57 58 59 60 61 62 63 64 65 66 67 68 69 70 71]\n",
       "Label column name(s): None"
      ]
     },
     "execution_count": 28,
     "metadata": {},
     "output_type": "execute_result"
    }
   ],
   "source": [
    "OUT_STEPS = 24\n",
    "multi_window = WindowGenerator(input_width=48, label_width=OUT_STEPS, shift=OUT_STEPS, train_df=df, test_df=df)\n",
    "multi_window"
   ]
  },
  {
   "cell_type": "code",
   "execution_count": 29,
   "id": "26c485ae",
   "metadata": {},
   "outputs": [],
   "source": [
    "example_window = tf.stack([\n",
    "    np.array(df)\n",
    "])\n",
    "\n",
    "example_inputs, example_labels = multi_window.split_window(example_window)"
   ]
  },
  {
   "cell_type": "code",
   "execution_count": 30,
   "id": "a170c06f",
   "metadata": {},
   "outputs": [],
   "source": [
    "multi_window.example = example_inputs, example_labels"
   ]
  },
  {
   "cell_type": "markdown",
   "id": "e7b8bbb3",
   "metadata": {},
   "source": [
    "# Load model"
   ]
  },
  {
   "cell_type": "code",
   "execution_count": 31,
   "id": "149b8a97",
   "metadata": {},
   "outputs": [],
   "source": [
    "ar_model = keras.models.load_model('saved_model/')"
   ]
  },
  {
   "cell_type": "markdown",
   "id": "1f084939",
   "metadata": {},
   "source": [
    "# Obtain predictions with the model"
   ]
  },
  {
   "cell_type": "code",
   "execution_count": 32,
   "id": "d2ede7cb",
   "metadata": {},
   "outputs": [
    {
     "data": {
      "text/html": [
       "<div>\n",
       "<style scoped>\n",
       "    .dataframe tbody tr th:only-of-type {\n",
       "        vertical-align: middle;\n",
       "    }\n",
       "\n",
       "    .dataframe tbody tr th {\n",
       "        vertical-align: top;\n",
       "    }\n",
       "\n",
       "    .dataframe thead th {\n",
       "        text-align: right;\n",
       "    }\n",
       "</style>\n",
       "<table border=\"1\" class=\"dataframe\">\n",
       "  <thead>\n",
       "    <tr style=\"text-align: right;\">\n",
       "      <th></th>\n",
       "      <th>price</th>\n",
       "      <th>demand</th>\n",
       "      <th>emissions</th>\n",
       "    </tr>\n",
       "    <tr>\n",
       "      <th>data</th>\n",
       "      <th></th>\n",
       "      <th></th>\n",
       "      <th></th>\n",
       "    </tr>\n",
       "  </thead>\n",
       "  <tbody>\n",
       "    <tr>\n",
       "      <th>2022-02-12 00:00:00</th>\n",
       "      <td>-0.134559</td>\n",
       "      <td>-1.654429</td>\n",
       "      <td>-0.716599</td>\n",
       "    </tr>\n",
       "    <tr>\n",
       "      <th>2022-02-12 01:00:00</th>\n",
       "      <td>0.108793</td>\n",
       "      <td>-0.822168</td>\n",
       "      <td>-0.751230</td>\n",
       "    </tr>\n",
       "    <tr>\n",
       "      <th>2022-02-12 02:00:00</th>\n",
       "      <td>-0.149430</td>\n",
       "      <td>-1.178851</td>\n",
       "      <td>-1.754299</td>\n",
       "    </tr>\n",
       "    <tr>\n",
       "      <th>2022-02-12 03:00:00</th>\n",
       "      <td>-0.085888</td>\n",
       "      <td>-0.967311</td>\n",
       "      <td>0.952317</td>\n",
       "    </tr>\n",
       "    <tr>\n",
       "      <th>2022-02-12 04:00:00</th>\n",
       "      <td>-0.159795</td>\n",
       "      <td>-0.390596</td>\n",
       "      <td>2.411135</td>\n",
       "    </tr>\n",
       "  </tbody>\n",
       "</table>\n",
       "</div>"
      ],
      "text/plain": [
       "                        price    demand  emissions\n",
       "data                                              \n",
       "2022-02-12 00:00:00 -0.134559 -1.654429  -0.716599\n",
       "2022-02-12 01:00:00  0.108793 -0.822168  -0.751230\n",
       "2022-02-12 02:00:00 -0.149430 -1.178851  -1.754299\n",
       "2022-02-12 03:00:00 -0.085888 -0.967311   0.952317\n",
       "2022-02-12 04:00:00 -0.159795 -0.390596   2.411135"
      ]
     },
     "execution_count": 32,
     "metadata": {},
     "output_type": "execute_result"
    }
   ],
   "source": [
    "df.head()"
   ]
  },
  {
   "cell_type": "code",
   "execution_count": 33,
   "id": "dcb85131",
   "metadata": {
    "scrolled": true
   },
   "outputs": [
    {
     "data": {
      "text/plain": [
       "<tf.Tensor: shape=(1, 48, 3), dtype=float64, numpy=\n",
       "array([[[-1.34558919e-01, -1.65442885e+00, -7.16598925e-01],\n",
       "        [ 1.08793406e-01, -8.22167564e-01, -7.51229898e-01],\n",
       "        [-1.49430450e-01, -1.17885097e+00, -1.75429868e+00],\n",
       "        [-8.58884539e-02, -9.67311462e-01,  9.52316771e-01],\n",
       "        [-1.59795456e-01, -3.90596081e-01,  2.41113467e+00],\n",
       "        [-4.00443866e-01, -4.78094287e-02,  5.70522332e-01],\n",
       "        [ 1.97121286e-01,  2.86227302e-02,  2.20668563e+00],\n",
       "        [ 3.60257474e-01,  7.95260446e-01,  5.83548677e+00],\n",
       "        [ 7.45438192e-02,  9.87498906e-01,  2.46967383e+00],\n",
       "        [-2.00804829e-01,  1.37892420e+00,  3.65711874e+00],\n",
       "        [-5.51863090e-01,  1.69468939e+00,  2.26696574e+00],\n",
       "        [-1.00431815e+00,  3.09646022e-01,  9.33871346e-01],\n",
       "        [-2.15225708e-01,  9.50183430e-02,  1.99975538e+00],\n",
       "        [-5.07699149e-01, -2.86370410e-01,  6.85694446e-02],\n",
       "        [-1.28700437e-01,  2.31669779e-01, -1.32152776e+00],\n",
       "        [-1.01788419e-02, -9.55730832e-01, -1.14671937e+00],\n",
       "        [ 3.60257474e-01, -8.15991228e-01, -2.68183924e+00],\n",
       "        [ 1.32600568e+00, -2.01445789e-01, -2.96147426e+00],\n",
       "        [ 9.94776127e-01,  4.09754024e-02, -1.72685095e+00],\n",
       "        [ 9.45204357e-01,  1.40362955e+00,  9.17868076e-01],\n",
       "        [-6.79848386e-01,  1.45844453e+00, -2.99351801e+00],\n",
       "        [-2.82372923e-01,  3.18138484e-01, -2.36860926e+00],\n",
       "        [-5.92421810e-01, -1.08388981e+00, -3.34494269e+00],\n",
       "        [-5.68537230e-01, -1.72159650e+00, -2.53451578e+00],\n",
       "        [ 1.46030011e+00, -2.00030367e+00, -7.16598925e-01],\n",
       "        [-1.64879762e-02, -1.37108943e+00, -7.51229898e-01],\n",
       "        [-3.81192939e-02, -8.89335219e-01, -1.75429868e+00],\n",
       "        [-1.14221780e+00, -7.50367657e-01,  9.52316771e-01],\n",
       "        [-8.77234160e-01, -2.09938251e-01,  2.41113467e+00],\n",
       "        [ 6.04464641e-03,  8.54963799e-03,  5.70522332e-01],\n",
       "        [-1.16579283e-03,  2.63323501e-01,  2.20668563e+00],\n",
       "        [ 9.28980869e-01,  5.15781238e-01,  5.83548677e+00],\n",
       "        [-1.19359218e+00,  2.19317107e-01,  2.46967383e+00],\n",
       "        [-2.81471618e-01,  1.49704663e+00,  3.65711874e+00],\n",
       "        [-4.98686100e-01,  1.57193471e+00,  2.26696574e+00],\n",
       "        [-7.59163218e-01,  3.69865298e-01,  9.33871346e-01],\n",
       "        [ 2.94785739e-02, -1.62071646e-01,  1.99975538e+00],\n",
       "        [-1.62982376e+00,  6.10742405e-01,  6.85694446e-02],\n",
       "        [-2.60954219e+00, -6.63384369e-02, -1.32152776e+00],\n",
       "        [ 1.24173367e+00, -8.59225581e-01, -1.14671937e+00],\n",
       "        [ 8.77606489e-01, -3.30376804e-01, -2.68183924e+00],\n",
       "        [ 1.09482097e+00, -1.48690813e-03, -2.96147426e+00],\n",
       "        [ 2.13853205e+00,  1.15425998e+00, -1.72685095e+00],\n",
       "        [ 7.61338157e-01,  2.03747604e+00,  9.17868076e-01],\n",
       "        [ 1.11600164e+00,  5.30450036e-01, -2.99351801e+00],\n",
       "        [-7.47492716e-03, -7.86911091e-02, -2.36860926e+00],\n",
       "        [-1.80602886e+00, -1.49770432e+00, -3.34494269e+00],\n",
       "        [-6.12296981e-03, -1.69689116e+00, -2.53451578e+00]]])>"
      ]
     },
     "execution_count": 33,
     "metadata": {},
     "output_type": "execute_result"
    }
   ],
   "source": [
    "inputs, labels = multi_window.example\n",
    "inputs"
   ]
  },
  {
   "cell_type": "code",
   "execution_count": 34,
   "id": "20b7e481",
   "metadata": {},
   "outputs": [],
   "source": [
    "# Each column is a different df column\n",
    "predictions = ar_model(inputs)"
   ]
  },
  {
   "cell_type": "code",
   "execution_count": 35,
   "id": "ff620bc8",
   "metadata": {},
   "outputs": [
    {
     "data": {
      "text/plain": [
       "<tf.Tensor: shape=(1, 24, 3), dtype=float32, numpy=\n",
       "array([[[ 0.1542171 , -0.336253  ,  0.4466094 ],\n",
       "        [ 0.07333905, -0.19672896,  1.1792979 ],\n",
       "        [-0.646824  , -0.01431297,  1.587493  ],\n",
       "        [-1.2396584 ,  0.01039064,  0.97841537],\n",
       "        [-0.40593883, -0.58786595, -0.00774271],\n",
       "        [-0.47831804, -1.027991  , -0.5333189 ],\n",
       "        [-0.21302146, -0.7915988 , -0.4719975 ],\n",
       "        [-0.16622454, -0.6713635 , -0.2599334 ],\n",
       "        [-0.13817772, -0.5350092 , -0.04583747],\n",
       "        [-0.1395258 , -0.390204  ,  0.12825617],\n",
       "        [-0.1311802 , -0.22928388,  0.24557075],\n",
       "        [-0.09280051, -0.04908067,  0.2500883 ],\n",
       "        [-0.03912248,  0.1692939 ,  0.08066442],\n",
       "        [-0.06260327,  0.40725473, -0.20584056],\n",
       "        [-0.22845563,  0.61041456, -0.4202956 ],\n",
       "        [-0.19936875,  0.68375516, -0.45206714],\n",
       "        [-0.02048293,  0.5892056 , -0.31930125],\n",
       "        [-0.04908918,  0.42181715, -0.19507894],\n",
       "        [-0.19711468,  0.16088697, -0.19492754],\n",
       "        [-0.28415918, -0.20190978, -0.2783987 ],\n",
       "        [-0.1637471 , -0.49090385, -0.29663238],\n",
       "        [-0.05145229, -0.51375884, -0.11984382],\n",
       "        [ 0.18943867, -0.28727674,  0.20835125],\n",
       "        [ 0.4509697 , -0.0651646 ,  0.56284   ]]], dtype=float32)>"
      ]
     },
     "execution_count": 35,
     "metadata": {},
     "output_type": "execute_result"
    }
   ],
   "source": [
    "predictions"
   ]
  },
  {
   "cell_type": "markdown",
   "id": "cf3f80e8",
   "metadata": {},
   "source": [
    "# Untransform data"
   ]
  },
  {
   "cell_type": "code",
   "execution_count": 36,
   "id": "a9a562ce",
   "metadata": {},
   "outputs": [
    {
     "data": {
      "text/plain": [
       "<tf.Tensor: shape=(24, 3), dtype=float32, numpy=\n",
       "array([[ 0.1542171 , -0.336253  ,  0.4466094 ],\n",
       "       [ 0.07333905, -0.19672896,  1.1792979 ],\n",
       "       [-0.646824  , -0.01431297,  1.587493  ],\n",
       "       [-1.2396584 ,  0.01039064,  0.97841537],\n",
       "       [-0.40593883, -0.58786595, -0.00774271],\n",
       "       [-0.47831804, -1.027991  , -0.5333189 ],\n",
       "       [-0.21302146, -0.7915988 , -0.4719975 ],\n",
       "       [-0.16622454, -0.6713635 , -0.2599334 ],\n",
       "       [-0.13817772, -0.5350092 , -0.04583747],\n",
       "       [-0.1395258 , -0.390204  ,  0.12825617],\n",
       "       [-0.1311802 , -0.22928388,  0.24557075],\n",
       "       [-0.09280051, -0.04908067,  0.2500883 ],\n",
       "       [-0.03912248,  0.1692939 ,  0.08066442],\n",
       "       [-0.06260327,  0.40725473, -0.20584056],\n",
       "       [-0.22845563,  0.61041456, -0.4202956 ],\n",
       "       [-0.19936875,  0.68375516, -0.45206714],\n",
       "       [-0.02048293,  0.5892056 , -0.31930125],\n",
       "       [-0.04908918,  0.42181715, -0.19507894],\n",
       "       [-0.19711468,  0.16088697, -0.19492754],\n",
       "       [-0.28415918, -0.20190978, -0.2783987 ],\n",
       "       [-0.1637471 , -0.49090385, -0.29663238],\n",
       "       [-0.05145229, -0.51375884, -0.11984382],\n",
       "       [ 0.18943867, -0.28727674,  0.20835125],\n",
       "       [ 0.4509697 , -0.0651646 ,  0.56284   ]], dtype=float32)>"
      ]
     },
     "execution_count": 36,
     "metadata": {},
     "output_type": "execute_result"
    }
   ],
   "source": [
    "predictions[0]"
   ]
  },
  {
   "cell_type": "code",
   "execution_count": 37,
   "id": "9f8fba8d",
   "metadata": {},
   "outputs": [],
   "source": [
    "price_predictions = np.array(predictions[0,:,0])\n",
    "demand_predictions = np.array(predictions[0,:,1])\n",
    "emissions_predictions = np.array(predictions[0,:,2])"
   ]
  },
  {
   "cell_type": "code",
   "execution_count": 38,
   "id": "79184376",
   "metadata": {},
   "outputs": [
    {
     "data": {
      "text/html": [
       "<div>\n",
       "<style scoped>\n",
       "    .dataframe tbody tr th:only-of-type {\n",
       "        vertical-align: middle;\n",
       "    }\n",
       "\n",
       "    .dataframe tbody tr th {\n",
       "        vertical-align: top;\n",
       "    }\n",
       "\n",
       "    .dataframe thead th {\n",
       "        text-align: right;\n",
       "    }\n",
       "</style>\n",
       "<table border=\"1\" class=\"dataframe\">\n",
       "  <thead>\n",
       "    <tr style=\"text-align: right;\">\n",
       "      <th></th>\n",
       "      <th>price</th>\n",
       "      <th>demand</th>\n",
       "      <th>emissions</th>\n",
       "    </tr>\n",
       "    <tr>\n",
       "      <th>data</th>\n",
       "      <th></th>\n",
       "      <th></th>\n",
       "      <th></th>\n",
       "    </tr>\n",
       "  </thead>\n",
       "  <tbody>\n",
       "    <tr>\n",
       "      <th>2022-02-12 00:00:00</th>\n",
       "      <td>-0.134559</td>\n",
       "      <td>-1.654429</td>\n",
       "      <td>-0.716599</td>\n",
       "    </tr>\n",
       "    <tr>\n",
       "      <th>2022-02-12 01:00:00</th>\n",
       "      <td>0.108793</td>\n",
       "      <td>-0.822168</td>\n",
       "      <td>-0.751230</td>\n",
       "    </tr>\n",
       "    <tr>\n",
       "      <th>2022-02-12 02:00:00</th>\n",
       "      <td>-0.149430</td>\n",
       "      <td>-1.178851</td>\n",
       "      <td>-1.754299</td>\n",
       "    </tr>\n",
       "    <tr>\n",
       "      <th>2022-02-12 03:00:00</th>\n",
       "      <td>-0.085888</td>\n",
       "      <td>-0.967311</td>\n",
       "      <td>0.952317</td>\n",
       "    </tr>\n",
       "    <tr>\n",
       "      <th>2022-02-12 04:00:00</th>\n",
       "      <td>-0.159795</td>\n",
       "      <td>-0.390596</td>\n",
       "      <td>2.411135</td>\n",
       "    </tr>\n",
       "  </tbody>\n",
       "</table>\n",
       "</div>"
      ],
      "text/plain": [
       "                        price    demand  emissions\n",
       "data                                              \n",
       "2022-02-12 00:00:00 -0.134559 -1.654429  -0.716599\n",
       "2022-02-12 01:00:00  0.108793 -0.822168  -0.751230\n",
       "2022-02-12 02:00:00 -0.149430 -1.178851  -1.754299\n",
       "2022-02-12 03:00:00 -0.085888 -0.967311   0.952317\n",
       "2022-02-12 04:00:00 -0.159795 -0.390596   2.411135"
      ]
     },
     "execution_count": 38,
     "metadata": {},
     "output_type": "execute_result"
    }
   ],
   "source": [
    "df.head()"
   ]
  },
  {
   "cell_type": "markdown",
   "id": "96377a94",
   "metadata": {},
   "source": [
    "## Remove normalization"
   ]
  },
  {
   "cell_type": "code",
   "execution_count": 39,
   "id": "d738f31b",
   "metadata": {},
   "outputs": [],
   "source": [
    "# Normalization\n",
    "price_predictions = (price_predictions * train_std['price']) + train_mean['price']\n",
    "demand_predictions = (demand_predictions * train_std['demand']) + train_mean['demand']\n",
    "emissions_predictions = (emissions_predictions * train_std['emissions']) + train_mean['emissions']"
   ]
  },
  {
   "cell_type": "markdown",
   "id": "6f6f2871",
   "metadata": {},
   "source": [
    "## Remove differencing"
   ]
  },
  {
   "cell_type": "code",
   "execution_count": 40,
   "id": "ce2036ea",
   "metadata": {},
   "outputs": [],
   "source": [
    "price_predictions[0] = initial_price + price_predictions[0]\n",
    "demand_predictions[0] = initial_demand + demand_predictions[0]\n",
    "emissions_predictions[0] = initial_emissions + emissions_predictions[0]\n",
    "\n",
    "for i in range(1, len(price_predictions)):\n",
    "    price_predictions[i] = price_predictions[i-1] + price_predictions[i]\n",
    "    demand_predictions[i] = demand_predictions[i-1] + demand_predictions[i]\n",
    "    emissions_predictions[i] = emissions_predictions[i-1] + emissions_predictions[i]\n",
    "    "
   ]
  },
  {
   "cell_type": "code",
   "execution_count": 41,
   "id": "c64f1f4d",
   "metadata": {},
   "outputs": [
    {
     "data": {
      "text/plain": [
       "array([223.03795 , 224.69121 , 210.36401 , 182.8818  , 173.89987 ,\n",
       "       163.31184 , 158.61076 , 154.9481  , 151.9078  , 148.83759 ,\n",
       "       145.95256 , 143.91917 , 143.07692 , 141.71362 , 136.67004 ,\n",
       "       132.27191 , 131.84326 , 130.77985 , 126.43173 , 120.15209 ,\n",
       "       116.5444  , 115.42854 , 119.658066, 129.69098 ], dtype=float32)"
      ]
     },
     "execution_count": 41,
     "metadata": {},
     "output_type": "execute_result"
    }
   ],
   "source": [
    "price_predictions"
   ]
  },
  {
   "cell_type": "code",
   "execution_count": 42,
   "id": "d45e2782",
   "metadata": {},
   "outputs": [
    {
     "data": {
      "text/plain": [
       "array([25334.389, 25079.498, 25060.885, 25074.27 , 24312.752, 22981.156,\n",
       "       21955.75 , 21086.082, 20393.03 , 19887.537, 19590.479, 19526.832,\n",
       "       19746.04 , 20273.469, 21064.045, 21949.615, 22712.719, 23259.01 ,\n",
       "       23467.328, 23205.727, 22569.8  , 21904.271, 21532.098, 21447.617],\n",
       "      dtype=float32)"
      ]
     },
     "execution_count": 42,
     "metadata": {},
     "output_type": "execute_result"
    }
   ],
   "source": [
    "demand_predictions"
   ]
  },
  {
   "cell_type": "code",
   "execution_count": 43,
   "id": "1b12acc4",
   "metadata": {},
   "outputs": [
    {
     "data": {
      "text/plain": [
       "array([12912.638, 13546.948, 14400.721, 14927.028, 14923.138, 14636.677,\n",
       "       14383.185, 14243.706, 14219.334, 14288.562, 14420.862, 14555.592,\n",
       "       14599.232, 14488.837, 14263.142, 14020.364, 13848.968, 13744.357,\n",
       "       13639.829, 13490.423, 13331.214, 13267.054, 13379.344, 13682.222],\n",
       "      dtype=float32)"
      ]
     },
     "execution_count": 43,
     "metadata": {},
     "output_type": "execute_result"
    }
   ],
   "source": [
    "emissions_predictions"
   ]
  }
 ],
 "metadata": {
  "kernelspec": {
   "display_name": "Python 3 (ipykernel)",
   "language": "python",
   "name": "python3"
  },
  "language_info": {
   "codemirror_mode": {
    "name": "ipython",
    "version": 3
   },
   "file_extension": ".py",
   "mimetype": "text/x-python",
   "name": "python",
   "nbconvert_exporter": "python",
   "pygments_lexer": "ipython3",
   "version": "3.9.7"
  }
 },
 "nbformat": 4,
 "nbformat_minor": 5
}
