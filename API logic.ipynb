{
 "cells": [
  {
   "cell_type": "code",
   "execution_count": 1,
   "id": "004f7336",
   "metadata": {},
   "outputs": [],
   "source": [
    "# Get today date\n",
    "\n",
    "# Extract hourly data from today and yesterday\n",
    "\n",
    "# Convert hourly data into a dataframe\n",
    "\n",
    "# Preprocess the dataframe\n",
    "    # Differencing\n",
    "    \n",
    "    # Normalization (Use training_mean and training_std)\n",
    "\n",
    "# Convert the dataset into a Window (Input width = 48)\n",
    "\n",
    "# Load the AR model\n",
    "\n",
    "# Predict future output\n",
    "\n",
    "\n"
   ]
  },
  {
   "cell_type": "code",
   "execution_count": 2,
   "id": "9da9e949",
   "metadata": {},
   "outputs": [],
   "source": [
    "# Dates\n",
    "# import datetime as dt\n",
    "from datetime import datetime, timedelta\n",
    "import pytz\n",
    "\n",
    "# REE API request\n",
    "import requests\n",
    "import json\n",
    "\n",
    "# Convert extracted data into dataframe\n",
    "import pandas as pd\n",
    "\n",
    "# WindowGenerator\n",
    "from window_generator import WindowGenerator"
   ]
  },
  {
   "cell_type": "markdown",
   "id": "6c882d44",
   "metadata": {},
   "source": [
    "# Extract data in JSON format"
   ]
  },
  {
   "cell_type": "code",
   "execution_count": 3,
   "id": "04a7e518",
   "metadata": {},
   "outputs": [],
   "source": [
    "def extract_json_data(day):\n",
    "    URLprices = \"https://apidatos.ree.es/es/datos/mercados/precios-mercados-tiempo-real\"\n",
    "    URLdemand = \"https://apidatos.ree.es/es/datos/demanda/demanda-tiempo-real\"\n",
    "    URLEmissions = \"https://apidatos.ree.es/es/datos/generacion/evolucion-estructura-generacion-emisiones-asociadas\"\n",
    "    \n",
    "    startHour = \"00:00\"\n",
    "    endHour = \"23:59\"\n",
    "    \n",
    "    date_start = str(day.year) + \"-\" + str(day.month) + \"-\" + str(day.day) + \"T\" + startHour\n",
    "    date_end = str(day.year) + \"-\" + str(day.month) + \"-\" + str(day.day) + \"T\" + endHour\n",
    "    \n",
    "    PARAMS = {'start_date':date_start, 'end_date':date_end,\"time_trunc\":\"hour\", 'geo_limit': 'peninsular'}\n",
    "    \n",
    "    prices = requests.get(url=URLprices, params=PARAMS)\n",
    "    demands = requests.get(url=URLdemand, params=PARAMS)\n",
    "    emissions = requests.get(url=URLEmissions, params=PARAMS)\n",
    "    \n",
    "    pricesJ = json.dumps(prices.json(), indent=4)\n",
    "    demandJ = json.dumps(demands.json(), indent=4)\n",
    "    emissionsJ = json.dumps(emissions.json(), indent=4)\n",
    "    \n",
    "    return pricesJ, demandJ, emissionsJ\n",
    "    "
   ]
  },
  {
   "cell_type": "code",
   "execution_count": 4,
   "id": "26bee6a1",
   "metadata": {},
   "outputs": [],
   "source": [
    "timezone = pytz.timezone('Europe/Madrid')\n",
    "\n",
    "today = datetime.now(tz=timezone)\n",
    "yesterday = today - timedelta(days=1)\n",
    "day_zero = yesterday - timedelta(days=1)\n"
   ]
  },
  {
   "cell_type": "code",
   "execution_count": 5,
   "id": "42754629",
   "metadata": {},
   "outputs": [],
   "source": [
    "pricesJ_today, demandJ_today, emissionsJ_today = extract_json_data(today)\n",
    "pricesJ_yesterday, demandJ_yesterday, emissionsJ_yesterday = extract_json_data(yesterday)\n",
    "pricesJ_day_zero, demandJ_day_zero, emissionsJ_day_zero = extract_json_data(day_zero)"
   ]
  },
  {
   "cell_type": "markdown",
   "id": "22535971",
   "metadata": {},
   "source": [
    "# Convert json data into a dataframe"
   ]
  },
  {
   "cell_type": "code",
   "execution_count": 6,
   "id": "3dd92c1c",
   "metadata": {},
   "outputs": [
    {
     "data": {
      "text/plain": [
       "str"
      ]
     },
     "execution_count": 6,
     "metadata": {},
     "output_type": "execute_result"
    }
   ],
   "source": [
    "type(pricesJ_day_zero)"
   ]
  },
  {
   "cell_type": "code",
   "execution_count": 7,
   "id": "32d146b9",
   "metadata": {},
   "outputs": [],
   "source": [
    "def clean_datetime(timestamp):\n",
    "    r = timestamp.replace(\".000+01:00\", \"\")\n",
    "    r = r.replace(\".000+02:00\", \"\")\n",
    "    return r"
   ]
  },
  {
   "cell_type": "code",
   "execution_count": 8,
   "id": "73511b2e",
   "metadata": {},
   "outputs": [],
   "source": [
    "def convert_json_into_dataframe(price_json, demand_json, emissions_json, today = False):\n",
    "    \n",
    "    df_price = pd.DataFrame(columns=['timestamp', 'price'])\n",
    "    df_demand = pd.DataFrame(columns=['timestamp', 'demand'])\n",
    "    df_emissions = pd.DataFrame(columns=['timestamp', 'emissions'])\n",
    "    \n",
    "    # Generate price dataframe\n",
    "    price_json = json.loads(price_json)\n",
    "    prices_values = price_json['included'][0]['attributes']['values']\n",
    "    for price_value in prices_values:\n",
    "        row = {'timestamp': price_value['datetime'],\n",
    "                   'price': price_value['value']}\n",
    "        df_price = df_price.append(row, ignore_index=True)\n",
    "        \n",
    "    # Generate demand dataframe\n",
    "    demand_json = json.loads(demand_json)\n",
    "    if(today):\n",
    "        demand_values = demand_json['included'][1]['attributes']['values']\n",
    "    else:\n",
    "        demand_values = demand_json['included'][0]['attributes']['values']\n",
    "\n",
    "    for demand_value in demand_values:\n",
    "        row = {'timestamp': demand_value['datetime'],\n",
    "                   'demand': demand_value['value']}\n",
    "        df_demand = df_demand.append(row, ignore_index=True)\n",
    "    \n",
    "    # Generate emissions dataframe\n",
    "    emissions_json = json.loads(emissions_json)\n",
    "    emissions_values = emissions_json['included'][0]['attributes']['values']\n",
    "\n",
    "    for emissions_value in emissions_values:\n",
    "        row = {'timestamp': emissions_value['datetime'],\n",
    "                'emissions': emissions_value['value']}\n",
    "        df_emissions = df_emissions.append(row, ignore_index=True)    \n",
    "    \n",
    "    df_merged = df_price.merge(df_demand, on='timestamp', how='inner')\n",
    "    \n",
    "    df_emissions['timestamp'] = df_price['timestamp']\n",
    "    df_merged = df_merged.merge(df_emissions, on='timestamp', how='inner')\n",
    "    \n",
    "    df_merged['timestamp'] = df_merged['timestamp'].apply(clean_datetime)\n",
    "    \n",
    "    # Separate two columns by \" \"\n",
    "    df_merged[['date', 'time']] = df_merged['timestamp'].str.split('T', expand=True)\n",
    "    \n",
    "    df_merged = df_merged.drop(columns=['timestamp'], axis=1)\n",
    "    \n",
    "    return df_merged"
   ]
  },
  {
   "cell_type": "code",
   "execution_count": 9,
   "id": "537aff3b",
   "metadata": {
    "scrolled": false
   },
   "outputs": [],
   "source": [
    "# day_zero\n",
    "df_final = convert_json_into_dataframe(pricesJ_day_zero, demandJ_day_zero, emissionsJ_day_zero)\n",
    "\n",
    "# yesterday\n",
    "df_yesterday = convert_json_into_dataframe(pricesJ_yesterday, demandJ_yesterday, emissionsJ_day_zero)\n",
    "# Repetimos las emisiones del día cero\n",
    "df_final = pd.concat([df_final, df_yesterday], ignore_index=True)\n",
    "\n",
    "\n",
    "# today\n",
    "df_today = convert_json_into_dataframe(pricesJ_today, demandJ_today, emissionsJ_day_zero, today=True)\n",
    "df_final = pd.concat([df_final, df_today], ignore_index=True)\n"
   ]
  },
  {
   "cell_type": "code",
   "execution_count": 10,
   "id": "005400f8",
   "metadata": {},
   "outputs": [],
   "source": [
    "df_final.to_csv('data.csv', index=False)"
   ]
  },
  {
   "cell_type": "code",
   "execution_count": 11,
   "id": "7c5e79d9",
   "metadata": {},
   "outputs": [],
   "source": [
    "del df_final"
   ]
  },
  {
   "cell_type": "markdown",
   "id": "106b5e18",
   "metadata": {},
   "source": [
    "# TODO: CHANGE THIS READ_CSV"
   ]
  },
  {
   "cell_type": "code",
   "execution_count": 12,
   "id": "0b5eff50",
   "metadata": {},
   "outputs": [
    {
     "data": {
      "text/html": [
       "<div>\n",
       "<style scoped>\n",
       "    .dataframe tbody tr th:only-of-type {\n",
       "        vertical-align: middle;\n",
       "    }\n",
       "\n",
       "    .dataframe tbody tr th {\n",
       "        vertical-align: top;\n",
       "    }\n",
       "\n",
       "    .dataframe thead th {\n",
       "        text-align: right;\n",
       "    }\n",
       "</style>\n",
       "<table border=\"1\" class=\"dataframe\">\n",
       "  <thead>\n",
       "    <tr style=\"text-align: right;\">\n",
       "      <th></th>\n",
       "      <th>price</th>\n",
       "      <th>demand</th>\n",
       "      <th>emissions</th>\n",
       "    </tr>\n",
       "    <tr>\n",
       "      <th>data</th>\n",
       "      <th></th>\n",
       "      <th></th>\n",
       "      <th></th>\n",
       "    </tr>\n",
       "  </thead>\n",
       "  <tbody>\n",
       "    <tr>\n",
       "      <th>2022-02-11 00:00:00</th>\n",
       "      <td>254.30</td>\n",
       "      <td>26792</td>\n",
       "      <td>12287.250</td>\n",
       "    </tr>\n",
       "    <tr>\n",
       "      <th>2022-02-11 01:00:00</th>\n",
       "      <td>233.71</td>\n",
       "      <td>25817</td>\n",
       "      <td>11883.631</td>\n",
       "    </tr>\n",
       "    <tr>\n",
       "      <th>2022-02-11 02:00:00</th>\n",
       "      <td>232.08</td>\n",
       "      <td>24690</td>\n",
       "      <td>10940.722</td>\n",
       "    </tr>\n",
       "    <tr>\n",
       "      <th>2022-02-11 03:00:00</th>\n",
       "      <td>222.96</td>\n",
       "      <td>24232</td>\n",
       "      <td>11452.998</td>\n",
       "    </tr>\n",
       "    <tr>\n",
       "      <th>2022-02-11 04:00:00</th>\n",
       "      <td>219.90</td>\n",
       "      <td>23537</td>\n",
       "      <td>12749.593</td>\n",
       "    </tr>\n",
       "  </tbody>\n",
       "</table>\n",
       "</div>"
      ],
      "text/plain": [
       "                      price  demand  emissions\n",
       "data                                          \n",
       "2022-02-11 00:00:00  254.30   26792  12287.250\n",
       "2022-02-11 01:00:00  233.71   25817  11883.631\n",
       "2022-02-11 02:00:00  232.08   24690  10940.722\n",
       "2022-02-11 03:00:00  222.96   24232  11452.998\n",
       "2022-02-11 04:00:00  219.90   23537  12749.593"
      ]
     },
     "execution_count": 12,
     "metadata": {},
     "output_type": "execute_result"
    }
   ],
   "source": [
    "df = pd.read_csv('data.csv',\n",
    "                 parse_dates={'data': ['date', 'time']},\n",
    "                 infer_datetime_format=True,\n",
    "                 dayfirst=False,\n",
    "                 index_col='data'\n",
    "                )\n",
    "\n",
    "\n",
    "df.head()"
   ]
  },
  {
   "cell_type": "markdown",
   "id": "5b0f3068",
   "metadata": {},
   "source": [
    "# Preprocessing"
   ]
  },
  {
   "cell_type": "code",
   "execution_count": 13,
   "id": "aea1ea7f",
   "metadata": {},
   "outputs": [],
   "source": [
    "# Normalization/Standarization params\n",
    "train_mean = pd.Series(data = [0.025869, -0.074058, 0.272317], index = ['price', 'demand', 'emissions'])\n",
    "train_std = pd.Series(data = [22.190049, 1295.266304, 537.640099], index = ['price', 'demand', 'emissions'])"
   ]
  },
  {
   "cell_type": "markdown",
   "id": "5fb67cfa",
   "metadata": {},
   "source": [
    "## Differencing"
   ]
  },
  {
   "cell_type": "code",
   "execution_count": 14,
   "id": "a0795a6d",
   "metadata": {},
   "outputs": [],
   "source": [
    "def difference(dataset, interval=1):\n",
    "    diff = list()\n",
    "    for i in range(interval, len(dataset)):\n",
    "        value = dataset[i] - dataset[i - interval]\n",
    "        diff.append(value)\n",
    "    return pd.Series(diff)"
   ]
  },
  {
   "cell_type": "code",
   "execution_count": 15,
   "id": "c6102099",
   "metadata": {},
   "outputs": [],
   "source": [
    "diff_price = difference(df['price'])\n",
    "diff_emissions = difference(df['emissions'])\n",
    "diff_demand = difference(df['demand'])"
   ]
  },
  {
   "cell_type": "code",
   "execution_count": 16,
   "id": "bda8fa08",
   "metadata": {},
   "outputs": [],
   "source": [
    "s1 = pd.Series([0.0])\n",
    "diff_price = s1.append(diff_price, ignore_index=True)\n",
    "diff_emissions = s1.append(diff_emissions, ignore_index=True)\n",
    "diff_demand = s1.append(diff_demand, ignore_index=True)"
   ]
  },
  {
   "cell_type": "code",
   "execution_count": 17,
   "id": "e2b48e04",
   "metadata": {},
   "outputs": [],
   "source": [
    "df['price'] = diff_price.values\n",
    "df['demand'] = diff_demand.values\n",
    "df['emissions'] = diff_emissions.values"
   ]
  },
  {
   "cell_type": "code",
   "execution_count": 18,
   "id": "6e00b572",
   "metadata": {},
   "outputs": [
    {
     "data": {
      "text/html": [
       "<div>\n",
       "<style scoped>\n",
       "    .dataframe tbody tr th:only-of-type {\n",
       "        vertical-align: middle;\n",
       "    }\n",
       "\n",
       "    .dataframe tbody tr th {\n",
       "        vertical-align: top;\n",
       "    }\n",
       "\n",
       "    .dataframe thead th {\n",
       "        text-align: right;\n",
       "    }\n",
       "</style>\n",
       "<table border=\"1\" class=\"dataframe\">\n",
       "  <thead>\n",
       "    <tr style=\"text-align: right;\">\n",
       "      <th></th>\n",
       "      <th>price</th>\n",
       "      <th>demand</th>\n",
       "      <th>emissions</th>\n",
       "    </tr>\n",
       "    <tr>\n",
       "      <th>data</th>\n",
       "      <th></th>\n",
       "      <th></th>\n",
       "      <th></th>\n",
       "    </tr>\n",
       "  </thead>\n",
       "  <tbody>\n",
       "    <tr>\n",
       "      <th>2022-02-11 00:00:00</th>\n",
       "      <td>0.00</td>\n",
       "      <td>0.0</td>\n",
       "      <td>0.000</td>\n",
       "    </tr>\n",
       "    <tr>\n",
       "      <th>2022-02-11 01:00:00</th>\n",
       "      <td>-20.59</td>\n",
       "      <td>-975.0</td>\n",
       "      <td>-403.619</td>\n",
       "    </tr>\n",
       "    <tr>\n",
       "      <th>2022-02-11 02:00:00</th>\n",
       "      <td>-1.63</td>\n",
       "      <td>-1127.0</td>\n",
       "      <td>-942.909</td>\n",
       "    </tr>\n",
       "    <tr>\n",
       "      <th>2022-02-11 03:00:00</th>\n",
       "      <td>-9.12</td>\n",
       "      <td>-458.0</td>\n",
       "      <td>512.276</td>\n",
       "    </tr>\n",
       "    <tr>\n",
       "      <th>2022-02-11 04:00:00</th>\n",
       "      <td>-3.06</td>\n",
       "      <td>-695.0</td>\n",
       "      <td>1296.595</td>\n",
       "    </tr>\n",
       "  </tbody>\n",
       "</table>\n",
       "</div>"
      ],
      "text/plain": [
       "                     price  demand  emissions\n",
       "data                                         \n",
       "2022-02-11 00:00:00   0.00     0.0      0.000\n",
       "2022-02-11 01:00:00 -20.59  -975.0   -403.619\n",
       "2022-02-11 02:00:00  -1.63 -1127.0   -942.909\n",
       "2022-02-11 03:00:00  -9.12  -458.0    512.276\n",
       "2022-02-11 04:00:00  -3.06  -695.0   1296.595"
      ]
     },
     "execution_count": 18,
     "metadata": {},
     "output_type": "execute_result"
    }
   ],
   "source": [
    "df.head()"
   ]
  },
  {
   "cell_type": "markdown",
   "id": "aca8b8e4",
   "metadata": {},
   "source": [
    "## Normalization"
   ]
  },
  {
   "cell_type": "code",
   "execution_count": 19,
   "id": "caa3afc6",
   "metadata": {},
   "outputs": [],
   "source": [
    "df = (df-train_mean)/train_std"
   ]
  },
  {
   "cell_type": "markdown",
   "id": "a97d3dfd",
   "metadata": {},
   "source": [
    "## Select subset with length=input_size"
   ]
  },
  {
   "cell_type": "code",
   "execution_count": 20,
   "id": "278ed76e",
   "metadata": {},
   "outputs": [],
   "source": [
    "df = df[len(df)-48:]"
   ]
  },
  {
   "cell_type": "markdown",
   "id": "c6ad4d6c",
   "metadata": {},
   "source": [
    "# Convert the dataframe into a window (CHANGE: fill labels with zeros)"
   ]
  },
  {
   "cell_type": "code",
   "execution_count": 21,
   "id": "66e46922",
   "metadata": {},
   "outputs": [
    {
     "data": {
      "text/plain": [
       "Total window size: 72\n",
       "Input indices: [ 0  1  2  3  4  5  6  7  8  9 10 11 12 13 14 15 16 17 18 19 20 21 22 23\n",
       " 24 25 26 27 28 29 30 31 32 33 34 35 36 37 38 39 40 41 42 43 44 45 46 47]\n",
       "Label indices: [48 49 50 51 52 53 54 55 56 57 58 59 60 61 62 63 64 65 66 67 68 69 70 71]\n",
       "Label column name(s): None"
      ]
     },
     "execution_count": 21,
     "metadata": {},
     "output_type": "execute_result"
    }
   ],
   "source": [
    "OUT_STEPS = 24\n",
    "multi_window = WindowGenerator(input_width=48, label_width=OUT_STEPS, shift=OUT_STEPS, train_df=df, test_df=df)\n",
    "multi_window"
   ]
  },
  {
   "cell_type": "code",
   "execution_count": null,
   "id": "b8427de7",
   "metadata": {},
   "outputs": [],
   "source": []
  }
 ],
 "metadata": {
  "kernelspec": {
   "display_name": "Python 3 (ipykernel)",
   "language": "python",
   "name": "python3"
  },
  "language_info": {
   "codemirror_mode": {
    "name": "ipython",
    "version": 3
   },
   "file_extension": ".py",
   "mimetype": "text/x-python",
   "name": "python",
   "nbconvert_exporter": "python",
   "pygments_lexer": "ipython3",
   "version": "3.9.7"
  }
 },
 "nbformat": 4,
 "nbformat_minor": 5
}
